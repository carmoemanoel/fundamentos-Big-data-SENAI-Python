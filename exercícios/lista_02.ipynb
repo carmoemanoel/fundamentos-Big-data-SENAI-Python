{
 "cells": [
  {
   "cell_type": "markdown",
   "metadata": {},
   "source": [
    "#### Exercício 01\n",
    "Crie uma variável chamada idade e atribua um valor inteiro a ela. Verifique se a idade é maior de 18 anos e imprima \"MAIOR DE IDADE\" OU \"MENOR DE IDADE\" de acordo com a condição."
   ]
  },
  {
   "cell_type": "code",
   "execution_count": 1,
   "metadata": {},
   "outputs": [
    {
     "name": "stdout",
     "output_type": "stream",
     "text": [
      "Maior de Idade\n"
     ]
    }
   ],
   "source": [
    "idade = int(input('Digite a sua idade: '))\n",
    "\n",
    "if idade >= 18:\n",
    "    print('Maior de Idade')\n",
    "else:\n",
    "    print('Chame um adulto, pois você é menor de idade!')"
   ]
  },
  {
   "cell_type": "markdown",
   "metadata": {},
   "source": [
    "#### Exercício 02 - Crie uma variável chamada \"número\" e atribua um valor inteiro a ela. Verifique se o número é positivo, negativo ou zero e imprima a mensagem correspondente."
   ]
  },
  {
   "cell_type": "code",
   "execution_count": 5,
   "metadata": {},
   "outputs": [
    {
     "name": "stdout",
     "output_type": "stream",
     "text": [
      "Número invalido!\n"
     ]
    }
   ],
   "source": [
    "numero = int(input('Digite um número: '))\n",
    "if numero > 0 :\n",
    "    print('Número positivo')\n",
    "elif numero == 0 :\n",
    "    print('Número nulo!')\n",
    "else:\n",
    "    print('Número negativo!')"
   ]
  },
  {
   "cell_type": "markdown",
   "metadata": {},
   "source": [
    "#### Exercício 03 - Crie duas variáveis, \"nota1\" e \"nota2\", e atribua valores numéricos a elas. Verifique se a média das notas é maior ou igual a 7 e imprima \"Aprovado\" ou \"Reprovado\" de acordo com a condição."
   ]
  },
  {
   "cell_type": "code",
   "execution_count": 14,
   "metadata": {},
   "outputs": [
    {
     "name": "stdout",
     "output_type": "stream",
     "text": [
      "A primeira nota é 8.0 e a segunda nota 7.0 e a média 1.1428571428571428. Então o aluno está Reprovado!\n"
     ]
    }
   ],
   "source": [
    "nota1 = float(input('Digite a primeira nota do aluno: '))\n",
    "nota2 = float(input('Digite a segunda nota do aluno: '))\n",
    "media = (nota1 + nota2) / 2\n",
    "\n",
    "if media >= 7 :\n",
    "    print(f'A primeira nota é {nota1} e a segunda nota {nota2} e a média {media}. Então o aluno está Aprovado!')\n",
    "else:\n",
    "    print(f'A primeira nota é {nota1} e a segunda nota {nota2} e a média {media}. Então o aluno está Reprovado!')"
   ]
  },
  {
   "cell_type": "markdown",
   "metadata": {},
   "source": [
    "#### Exercício 04 - Crie uma variável chamada \"idade\" e atribua um valor inteiro a ela. Verifique se a idade está dentro do intervalo de 18 a 30 (inclusive) e imprima a mensagem \"Idade válida\" ou \"Idade inválida\" de acordo com a condição."
   ]
  },
  {
   "cell_type": "code",
   "execution_count": 20,
   "metadata": {},
   "outputs": [
    {
     "name": "stdout",
     "output_type": "stream",
     "text": [
      "Idade válida!\n"
     ]
    }
   ],
   "source": [
    "idade = int(input('Digite a sua idade: '))\n",
    "\n",
    "if idade >= 18 and idade <= 30:\n",
    "    print('Idade válida!')\n",
    "else:\n",
    "    print('Idade Inválida!')"
   ]
  },
  {
   "cell_type": "markdown",
   "metadata": {},
   "source": [
    "#### Exercício 05 - Crie uma variável chamada \"numero\" e atribua um valor inteiro a ela. Verifique se o número é par ou ímpar e imprima a mensagem correspondente."
   ]
  },
  {
   "cell_type": "code",
   "execution_count": 24,
   "metadata": {},
   "outputs": [
    {
     "name": "stdout",
     "output_type": "stream",
     "text": [
      "Número PAR!\n"
     ]
    }
   ],
   "source": [
    "numero = int(input('Digite um número: '))\n",
    "\n",
    "if numero % 2 :\n",
    "    print('Número IMPAR!')\n",
    "else:\n",
    "    print('Número PAR!')"
   ]
  },
  {
   "cell_type": "markdown",
   "metadata": {},
   "source": [
    "#### Exercício 06 - Crie uma variável chamada \"horario\" e atribua um valor inteiro representando a hora do dia (em formato 24 horas). Verifique se o horário está dentro do período da manhã (das 6h às 12h), da tarde (das 12h às 18h) ou da noite (das 18h às 23h) e imprima a mensagem correspondente."
   ]
  },
  {
   "cell_type": "code",
   "execution_count": 38,
   "metadata": {},
   "outputs": [
    {
     "name": "stdout",
     "output_type": "stream",
     "text": [
      "MADRUGADA\n"
     ]
    }
   ],
   "source": [
    "horario = int(input('Digite a HORA do dia em número inteiro(sem dois pontos): '))\n",
    "\n",
    "if horario >= 6 and horario <= 12:\n",
    "    print('Período da MANHÂ!')\n",
    "elif horario >= 12 and horario <= 18:\n",
    "    print('Período da TARDE!')\n",
    "elif horario >= 18 and horario <= 23:\n",
    "    print('Período da NOITE!')\n",
    "else:\n",
    "    print('MADRUGADA')"
   ]
  },
  {
   "cell_type": "markdown",
   "metadata": {},
   "source": [
    "#### Exercício 07 - Crie uma variável chamada \"peso\" e atribua um valor numérico a ela. Verifique se o peso está dentro do intervalo de 50 a 100 (inclusive) e imprima a mensagem \"Peso válido\" ou \"Peso inválido\" de acordo com a condição."
   ]
  },
  {
   "cell_type": "code",
   "execution_count": 42,
   "metadata": {},
   "outputs": [
    {
     "name": "stdout",
     "output_type": "stream",
     "text": [
      "Peso Inválido!\n"
     ]
    }
   ],
   "source": [
    "peso = float(input('Digite o seu peso: '))\n",
    "\n",
    "if peso >= 50 and peso <= 100:\n",
    "    print('Peso Válido!')\n",
    "else:\n",
    "    print('Peso Inválido!')\n",
    "    "
   ]
  },
  {
   "cell_type": "markdown",
   "metadata": {},
   "source": [
    "#### Exercício 08 - Crie uma variável chamada \"numero\" e atribua um valor inteiro a ela. Verifique se o número é múltiplo de 3 e de 5 ao mesmo tempo e imprima a mensagem correspondente."
   ]
  },
  {
   "cell_type": "code",
   "execution_count": null,
   "metadata": {},
   "outputs": [],
   "source": [
    "# numero = int(input('Digite um número: '))\n",
    "# multiplo = 0\n",
    "\n",
    "# if numero "
   ]
  },
  {
   "cell_type": "markdown",
   "metadata": {},
   "source": [
    "#### Exercício 09 - Crie uma variável chamada \"ano\" e atribua um valor inteiro representando um ano. Verifique se o ano é bissexto (divisível por 4, mas não por 100, exceto se for divisível por 400) e imprima a mensagem correspondente."
   ]
  },
  {
   "cell_type": "code",
   "execution_count": null,
   "metadata": {},
   "outputs": [],
   "source": [
    "# PESQISAR ESSA ATIVIDADE!"
   ]
  },
  {
   "cell_type": "markdown",
   "metadata": {},
   "source": [
    "#### Exercício 10 - Crie uma variável chamada \"salario\" e atribua um valor numérico a ela. Verifique se o salário é maior do que 1000 e menor do que 2000 ao mesmo tempo e imprima a mensagem correspondente."
   ]
  },
  {
   "cell_type": "code",
   "execution_count": 4,
   "metadata": {},
   "outputs": [
    {
     "name": "stdout",
     "output_type": "stream",
     "text": [
      "O seu salário 900.0 NÃO está dentro da faixa estabelecida!\n"
     ]
    }
   ],
   "source": [
    "salario = float(input('Digite o seu salário: '))\n",
    "\n",
    "if salario >= 1000 and salario <= 2000:\n",
    "    print(f'O seu salário de {salario} ESTÁ dentro da faixa estabelecida!')\n",
    "else:\n",
    "    print(f'O seu salário {salario} NÃO está dentro da faixa estabelecida!')"
   ]
  },
  {
   "cell_type": "markdown",
   "metadata": {},
   "source": [
    "#### Exercício 11 - Faça um Programa que peça dois números e imprima o maior deles."
   ]
  },
  {
   "cell_type": "code",
   "execution_count": 6,
   "metadata": {},
   "outputs": [
    {
     "name": "stdout",
     "output_type": "stream",
     "text": [
      "O número 3.0 é MAIOR que o núnero 1.0!\n"
     ]
    }
   ],
   "source": [
    "num1 = float(input('Difite um número: '))\n",
    "num2 = float(input('Digite outro número: '))\n",
    "\n",
    "if num1 > num2:\n",
    "    print(f'O número {num1} é MAIOR que o núnero {num2}!')\n",
    "else:\n",
    "    print(f'O número {num2} é MAIOR que o número {num1}!')"
   ]
  },
  {
   "cell_type": "markdown",
   "metadata": {},
   "source": [
    "#### Exercício 12 - Faça um Programa que peça um valor e mostre na tela se o valor é positivo ou negativo"
   ]
  },
  {
   "cell_type": "code",
   "execution_count": 8,
   "metadata": {},
   "outputs": [
    {
     "name": "stdout",
     "output_type": "stream",
     "text": [
      "O número -2.0 é NEGATIVO\n"
     ]
    }
   ],
   "source": [
    "numero = float(input('Digite um número: '))\n",
    "if numero > 0 :\n",
    "    print(f'O número {numero} é POSITIVO!')\n",
    "elif numero < 0 :\n",
    "    print(f'O número {numero} é NEGATIVO!')"
   ]
  },
  {
   "cell_type": "markdown",
   "metadata": {},
   "source": [
    "#### Exercício 13 - Faça um Programa que verifique se uma letra digitada é \"F\" ou \"M\". Conforme a letra escrever: F - Feminino, M - Masculino, Sexo Inválido."
   ]
  },
  {
   "cell_type": "code",
   "execution_count": 38,
   "metadata": {},
   "outputs": [
    {
     "name": "stdout",
     "output_type": "stream",
     "text": [
      "Sexo INVÁLIDO!\n"
     ]
    }
   ],
   "source": [
    "letra = str(input('Digite a letra correspondente ao seu sexo: '))\n",
    "\n",
    "if letra == 'f' or letra == 'F':\n",
    "    print(f'A letra {letra} corresponde ao sexo FEMININO!')\n",
    "elif letra == 'm' or letra == 'M':\n",
    "    print(f'A letra {letra} correspinde ao sexo MASCULINO!')\n",
    "else:\n",
    "    print('Sexo INVÁLIDO!')"
   ]
  }
 ],
 "metadata": {
  "kernelspec": {
   "display_name": "Python 3",
   "language": "python",
   "name": "python3"
  },
  "language_info": {
   "codemirror_mode": {
    "name": "ipython",
    "version": 3
   },
   "file_extension": ".py",
   "mimetype": "text/x-python",
   "name": "python",
   "nbconvert_exporter": "python",
   "pygments_lexer": "ipython3",
   "version": "3.10.10"
  },
  "orig_nbformat": 4
 },
 "nbformat": 4,
 "nbformat_minor": 2
}
