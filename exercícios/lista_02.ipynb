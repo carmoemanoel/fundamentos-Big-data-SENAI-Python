{
 "cells": [
  {
   "cell_type": "markdown",
   "metadata": {},
   "source": [
    "#### Exercício 01\n",
    "Crie uma variável chamada idade e atribua um valor inteiro a ela. Verifique se a idade é maior de 18 anos e imprima \"MAIOR DE IDADE\" OU \"MENOR DE IDADE\" de acordo com a condição."
   ]
  },
  {
   "cell_type": "code",
   "execution_count": 1,
   "metadata": {},
   "outputs": [
    {
     "name": "stdout",
     "output_type": "stream",
     "text": [
      "Maior de Idade\n"
     ]
    }
   ],
   "source": [
    "idade = int(input('Digite a sua idade: '))\n",
    "\n",
    "if idade >= 18:\n",
    "    print('Maior de Idade')\n",
    "else:\n",
    "    print('Chame um adulto, pois você é menor de idade!')"
   ]
  },
  {
   "cell_type": "markdown",
   "metadata": {},
   "source": [
    "#### Exercício 02 - Crie uma variável chamada \"número\" e atribua um valor inteiro a ela. Verifique se o número é positivo, negativo ou zero e imprima a mensagem correspondente."
   ]
  },
  {
   "cell_type": "code",
   "execution_count": 5,
   "metadata": {},
   "outputs": [
    {
     "name": "stdout",
     "output_type": "stream",
     "text": [
      "Número invalido!\n"
     ]
    }
   ],
   "source": [
    "numero = int(input('Digite um número: '))\n",
    "if numero > 0 :\n",
    "    print('Número positivo')\n",
    "elif numero == 0 :\n",
    "    print('Número nulo!')\n",
    "else:\n",
    "    print('Número negativo!')"
   ]
  },
  {
   "cell_type": "markdown",
   "metadata": {},
   "source": [
    "#### Exercício 03 - Crie duas variáveis, \"nota1\" e \"nota2\", e atribua valores numéricos a elas. Verifique se a média das notas é maior ou igual a 7 e imprima \"Aprovado\" ou \"Reprovado\" de acordo com a condição."
   ]
  },
  {
   "cell_type": "code",
   "execution_count": 14,
   "metadata": {},
   "outputs": [
    {
     "name": "stdout",
     "output_type": "stream",
     "text": [
      "A primeira nota é 8.0 e a segunda nota 7.0 e a média 1.1428571428571428. Então o aluno está Reprovado!\n"
     ]
    }
   ],
   "source": [
    "nota1 = float(input('Digite a primeira nota do aluno: '))\n",
    "nota2 = float(input('Digite a segunda nota do aluno: '))\n",
    "media = (nota1 + nota2) / 2\n",
    "\n",
    "if media >= 7 :\n",
    "    print(f'A primeira nota é {nota1} e a segunda nota {nota2} e a média {media}. Então o aluno está Aprovado!')\n",
    "else:\n",
    "    print(f'A primeira nota é {nota1} e a segunda nota {nota2} e a média {media}. Então o aluno está Reprovado!')"
   ]
  },
  {
   "cell_type": "markdown",
   "metadata": {},
   "source": [
    "#### Exercício 04 - Crie uma variável chamada \"idade\" e atribua um valor inteiro a ela. Verifique se a idade está dentro do intervalo de 18 a 30 (inclusive) e imprima a mensagem \"Idade válida\" ou \"Idade inválida\" de acordo com a condição."
   ]
  },
  {
   "cell_type": "code",
   "execution_count": 20,
   "metadata": {},
   "outputs": [
    {
     "name": "stdout",
     "output_type": "stream",
     "text": [
      "Idade válida!\n"
     ]
    }
   ],
   "source": [
    "idade = int(input('Digite a sua idade: '))\n",
    "\n",
    "if idade >= 18 and idade <= 30:\n",
    "    print('Idade válida!')\n",
    "else:\n",
    "    print('Idade Inválida!')"
   ]
  },
  {
   "cell_type": "markdown",
   "metadata": {},
   "source": [
    "#### Exercício 05 - Crie uma variável chamada \"numero\" e atribua um valor inteiro a ela. Verifique se o número é par ou ímpar e imprima a mensagem correspondente."
   ]
  },
  {
   "cell_type": "code",
   "execution_count": 24,
   "metadata": {},
   "outputs": [
    {
     "name": "stdout",
     "output_type": "stream",
     "text": [
      "Número PAR!\n"
     ]
    }
   ],
   "source": [
    "numero = int(input('Digite um número: '))\n",
    "\n",
    "if numero % 2 :\n",
    "    print('Número IMPAR!')\n",
    "else:\n",
    "    print('Número PAR!')"
   ]
  },
  {
   "cell_type": "markdown",
   "metadata": {},
   "source": [
    "#### Exercício 06 - Crie uma variável chamada \"horario\" e atribua um valor inteiro representando a hora do dia (em formato 24 horas). Verifique se o horário está dentro do período da manhã (das 6h às 12h), da tarde (das 12h às 18h) ou da noite (das 18h às 23h) e imprima a mensagem correspondente."
   ]
  },
  {
   "cell_type": "code",
   "execution_count": 38,
   "metadata": {},
   "outputs": [
    {
     "name": "stdout",
     "output_type": "stream",
     "text": [
      "MADRUGADA\n"
     ]
    }
   ],
   "source": [
    "horario = int(input('Digite a HORA do dia em número inteiro(sem dois pontos): '))\n",
    "\n",
    "if horario >= 6 and horario <= 12:\n",
    "    print('Período da MANHÂ!')\n",
    "elif horario >= 12 and horario <= 18:\n",
    "    print('Período da TARDE!')\n",
    "elif horario >= 18 and horario <= 23:\n",
    "    print('Período da NOITE!')\n",
    "else:\n",
    "    print('MADRUGADA')"
   ]
  },
  {
   "cell_type": "markdown",
   "metadata": {},
   "source": [
    "#### Exercício 07 - Crie uma variável chamada \"peso\" e atribua um valor numérico a ela. Verifique se o peso está dentro do intervalo de 50 a 100 (inclusive) e imprima a mensagem \"Peso válido\" ou \"Peso inválido\" de acordo com a condição."
   ]
  },
  {
   "cell_type": "code",
   "execution_count": 42,
   "metadata": {},
   "outputs": [
    {
     "name": "stdout",
     "output_type": "stream",
     "text": [
      "Peso Inválido!\n"
     ]
    }
   ],
   "source": [
    "peso = float(input('Digite o seu peso: '))\n",
    "\n",
    "if peso >= 50 and peso <= 100:\n",
    "    print('Peso Válido!')\n",
    "else:\n",
    "    print('Peso Inválido!')\n",
    "    "
   ]
  },
  {
   "cell_type": "markdown",
   "metadata": {},
   "source": [
    "#### Exercício 08 - Crie uma variável chamada \"numero\" e atribua um valor inteiro a ela. Verifique se o número é múltiplo de 3 e de 5 ao mesmo tempo e imprima a mensagem correspondente."
   ]
  },
  {
   "cell_type": "code",
   "execution_count": null,
   "metadata": {},
   "outputs": [],
   "source": [
    "# numero = int(input('Digite um número: '))\n",
    "# multiplo = 0\n",
    "\n",
    "# if numero "
   ]
  },
  {
   "cell_type": "markdown",
   "metadata": {},
   "source": [
    "#### Exercício 09 - Crie uma variável chamada \"ano\" e atribua um valor inteiro representando um ano. Verifique se o ano é bissexto (divisível por 4, mas não por 100, exceto se for divisível por 400) e imprima a mensagem correspondente."
   ]
  },
  {
   "cell_type": "code",
   "execution_count": null,
   "metadata": {},
   "outputs": [],
   "source": [
    "# PESQISAR ESSA ATIVIDADE!"
   ]
  },
  {
   "cell_type": "markdown",
   "metadata": {},
   "source": [
    "#### Exercício 10 - Crie uma variável chamada \"salario\" e atribua um valor numérico a ela. Verifique se o salário é maior do que 1000 e menor do que 2000 ao mesmo tempo e imprima a mensagem correspondente."
   ]
  },
  {
   "cell_type": "code",
   "execution_count": 4,
   "metadata": {},
   "outputs": [
    {
     "name": "stdout",
     "output_type": "stream",
     "text": [
      "O seu salário 900.0 NÃO está dentro da faixa estabelecida!\n"
     ]
    }
   ],
   "source": [
    "salario = float(input('Digite o seu salário: '))\n",
    "\n",
    "if salario >= 1000 and salario <= 2000:\n",
    "    print(f'O seu salário de {salario} ESTÁ dentro da faixa estabelecida!')\n",
    "else:\n",
    "    print(f'O seu salário {salario} NÃO está dentro da faixa estabelecida!')"
   ]
  },
  {
   "cell_type": "markdown",
   "metadata": {},
   "source": [
    "#### Exercício 11 - Faça um Programa que peça dois números e imprima o maior deles."
   ]
  },
  {
   "cell_type": "code",
   "execution_count": 6,
   "metadata": {},
   "outputs": [
    {
     "name": "stdout",
     "output_type": "stream",
     "text": [
      "O número 3.0 é MAIOR que o núnero 1.0!\n"
     ]
    }
   ],
   "source": [
    "num1 = float(input('Difite um número: '))\n",
    "num2 = float(input('Digite outro número: '))\n",
    "\n",
    "if num1 > num2:\n",
    "    print(f'O número {num1} é MAIOR que o núnero {num2}!')\n",
    "else:\n",
    "    print(f'O número {num2} é MAIOR que o número {num1}!')"
   ]
  },
  {
   "cell_type": "markdown",
   "metadata": {},
   "source": [
    "#### Exercício 12 - Faça um Programa que peça um valor e mostre na tela se o valor é positivo ou negativo"
   ]
  },
  {
   "cell_type": "code",
   "execution_count": 8,
   "metadata": {},
   "outputs": [
    {
     "name": "stdout",
     "output_type": "stream",
     "text": [
      "O número -2.0 é NEGATIVO\n"
     ]
    }
   ],
   "source": [
    "numero = float(input('Digite um número: '))\n",
    "if numero > 0 :\n",
    "    print(f'O número {numero} é POSITIVO!')\n",
    "elif numero < 0 :\n",
    "    print(f'O número {numero} é NEGATIVO!')"
   ]
  },
  {
   "cell_type": "markdown",
   "metadata": {},
   "source": [
    "#### Exercício 13 - Faça um Programa que verifique se uma letra digitada é \"F\" ou \"M\". Conforme a letra escrever: F - Feminino, M - Masculino, Sexo Inválido."
   ]
  },
  {
   "cell_type": "code",
   "execution_count": 38,
   "metadata": {},
   "outputs": [
    {
     "name": "stdout",
     "output_type": "stream",
     "text": [
      "Sexo INVÁLIDO!\n"
     ]
    }
   ],
   "source": [
    "letra = str(input('Digite a letra correspondente ao seu sexo: '))\n",
    "\n",
    "if letra == 'f' or letra == 'F':\n",
    "    print(f'A letra {letra} corresponde ao sexo FEMININO!')\n",
    "elif letra == 'm' or letra == 'M':\n",
    "    print(f'A letra {letra} correspinde ao sexo MASCULINO!')\n",
    "else:\n",
    "    print('Sexo INVÁLIDO!')"
   ]
  },
  {
   "cell_type": "markdown",
   "metadata": {},
   "source": [
    "#### Exercício  14 - Faça um Programa que  verifique se uma letra digitada é vogal ou consoante."
   ]
  },
  {
   "cell_type": "code",
   "execution_count": 10,
   "metadata": {},
   "outputs": [
    {
     "name": "stdout",
     "output_type": "stream",
     "text": [
      "Esaa letra é uma COSOANTE!\n"
     ]
    }
   ],
   "source": [
    "letra = str(input('Digite uma letra: '))\n",
    "\n",
    "if letra == 'a' or letra == 'e' or letra == 'i' or letra == 'o' or letra == 'u':\n",
    "    print(f'Essa é uma VOLGAL!')\n",
    "else:\n",
    "    print('Esaa letra é uma COSOANTE!')"
   ]
  },
  {
   "cell_type": "markdown",
   "metadata": {},
   "source": [
    "#### Exercício 15 - Faça um programa para a leitura de duas notas parciais de um aluno. O programa deve calcular a média alcançada por aluno e apresentar:\n",
    "\n",
    "#### • A mensagem \"Aprovado\", se a média alcançada for maior ou igual a sete; \n",
    "#### • A mensagem \"Reprovado\", se a média for menor do que sete; \n",
    "#### • A mensagem \"Aprovado com Distinção\", se a média for igual a dez."
   ]
  },
  {
   "cell_type": "code",
   "execution_count": 13,
   "metadata": {},
   "outputs": [
    {
     "name": "stdout",
     "output_type": "stream",
     "text": [
      "Aluno REPROVADO!\n"
     ]
    }
   ],
   "source": [
    "nota1 = float(input('Digite uma nota: '))\n",
    "nota2 = float(input('Digite uma outra nota'))\n",
    "media = (nota1 + nota2) / 2\n",
    "\n",
    "if media == 10:\n",
    "     print(f'Aluno APROVADO COM DESTINÇÃO! A sua média final é {media}')\n",
    "elif media >= 7:\n",
    "    print(f'Aluno APROVADO! A sua média final é {media}')\n",
    "elif media <= 7:\n",
    "     print(f'Aluno REPROVADO! A sua média final é {media}')"
   ]
  },
  {
   "cell_type": "markdown",
   "metadata": {},
   "source": [
    "#### Exercício 16 \n",
    "Faça um Programa que leia três números e mostre o maior deles."
   ]
  },
  {
   "cell_type": "code",
   "execution_count": 38,
   "metadata": {},
   "outputs": [
    {
     "name": "stdout",
     "output_type": "stream",
     "text": [
      "O número 22 é maior que 19 e 4.\n"
     ]
    }
   ],
   "source": [
    "num1 = int(input('Digite o primeiro número: '))\n",
    "num2 = int(input('Digite o segundo nú0mero: '))\n",
    "num3 = int(input('Digite o terceiro número: '))\n",
    "\n",
    "if num1 > num2 and num1 > num3:\n",
    "    print(f'O número {num1} é maior que {num2} e {num3}.')\n",
    "elif num2 > num1 and num2 > num3:\n",
    "    print(f'O número {num2} é maior que {num1} e {num3}.')\n",
    "elif num3 > num1 and num3 > num2:\n",
    "    print(f'O número {num3} é maior que {num1} e {num2}.')"
   ]
  },
  {
   "cell_type": "markdown",
   "metadata": {},
   "source": [
    "#### Exercício 17 \n",
    "Faça um Programa que leia três números e mostre o maior e o menor deles."
   ]
  },
  {
   "cell_type": "code",
   "execution_count": null,
   "metadata": {},
   "outputs": [],
   "source": [
    "num1 = int(input('Digite um número: '))\n",
    "num2 = int(input('Digite um outro número: '))\n",
    "num3 = int(input('Digite mais um outro número: '))\n",
    "\n",
    "if num1 > num2 and num1 > num3:\n",
    "    if num2 < num3:\n",
    "        print(f'O número {num1} é maior VALOR e o {num2} é o MENOR VALOR!')\n",
    "    else:\n",
    "        print(f'O número {num3} é o MENOR valor!')\n",
    "elif num2 > num1 and num2 > num3:\n",
    "    if num1 < num3:\n",
    "      print(f'O número {num2} é maior VALOR e o {num1} é o MENOR VALOR.')\n",
    "    else:\n",
    "        print(f'O número {num3} é o MENOR valor!')\n",
    "elif num3 > num1 and num3 > num2:\n",
    "    if num1 < num2:\n",
    "        print(f'O número {num3} é maior VALOR e o {num1} é o MENOR VALOR!.')\n",
    "    else:\n",
    "        print(f'O número {num2} é o MENOR valor!')"
   ]
  },
  {
   "cell_type": "markdown",
   "metadata": {},
   "source": [
    "#### Exercício 18 \n",
    "Faça um programa que pergunte o preço de três produtos e informe qual \n",
    "produto você deve comprar, sabendo que a decisão é sempre pelo mais barato."
   ]
  },
  {
   "cell_type": "code",
   "execution_count": 44,
   "metadata": {},
   "outputs": [
    {
     "name": "stdout",
     "output_type": "stream",
     "text": [
      "Comprar o produto com esse => 3.0 valor!\n"
     ]
    }
   ],
   "source": [
    "prod1 = float(input('Digite o valor do primeiro produto: '))\n",
    "prod2 = float(input('Digite o valor do segundo produto: '))\n",
    "prod3 = float(input('Digite o valor do terceiro produto: '))\n",
    "\n",
    "if prod1 < prod2 and prod1 < prod3:\n",
    "    print(f'Comprar o produto com o PRIMEIRO => {prod1} valor!')\n",
    "elif prod2 < prod1 and prod2 < prod3:\n",
    "    print(f'Comprar o produto com o SEGUNDO => {prod2} valor!')\n",
    "else:\n",
    "    print(f'Comprar o produto com o TERCEIRO => {prod3} valor!')"
   ]
  },
  {
   "cell_type": "markdown",
   "metadata": {},
   "source": [
    "#### Exercício  19 \n",
    "Faça  um  Programa  que  leia  três  números  e  mostre-os  em  ordem \n",
    "decrescente."
   ]
  },
  {
   "cell_type": "code",
   "execution_count": 49,
   "metadata": {},
   "outputs": [
    {
     "name": "stdout",
     "output_type": "stream",
     "text": [
      "A ordem crescente dos números são 10 2 1.\n"
     ]
    }
   ],
   "source": [
    "num1 = int(input('Digite um PRIMEIRO número: '))\n",
    "num2 = int(input('Digite um SEGUNDO número: '))\n",
    "num3 = int(input('Digite um TERCEIRO número: ')) \n",
    "\n",
    "if num1 > num2 and num1 > num3:\n",
    "    print(f'A ordem crescente dos números são {num1} {num2} {num3}.')"
   ]
  },
  {
   "cell_type": "markdown",
   "metadata": {},
   "source": [
    "#### Exercício 20 \n",
    "Faça um Programa que pergunte em que turno você estuda. Peça para \n",
    "digitar M-matutino ou V-Vespertino ou N- Noturno. Imprima a mensagem \"Bom Dia!\", \n",
    "\"Boa Tarde!\" ou \"Boa Noite!\" ou \"Valor Inválido!\", conforme o caso."
   ]
  },
  {
   "cell_type": "code",
   "execution_count": null,
   "metadata": {},
   "outputs": [],
   "source": []
  },
  {
   "cell_type": "markdown",
   "metadata": {},
   "source": [
    "#### Exercício 21 - As Organizações Tabajara resolveram dar um aumento de salário aos \n",
    "seus colaboradores e lhe contaram para desenvolver o programa que calculará os \n",
    "reajustes. Faça um programa que recebe o salário de um colaborador e o reajuste \n",
    "segundo o seguinte critério, baseado no salário atual:  \n",
    "• salários até R$ 280,00 (incluindo) : aumento de 20% \n",
    "• salários entre R$ 280,00 e R$ 700,00 : aumento de 15% \n",
    "• salários entre R$ 700,00 e R$ 1500,00 : aumento de 10% \n",
    "• salários de R$ 1500,00 em diante : aumento de 5%  \n",
    "Após o aumento ser realizado, informe na tela: \n",
    "• salário antes do reajuste; \n",
    "• percentual de aumento aplicado; \n",
    "• valor do aumento; \n",
    "• novo salário, após o aumento. "
   ]
  },
  {
   "cell_type": "code",
   "execution_count": null,
   "metadata": {},
   "outputs": [],
   "source": []
  },
  {
   "cell_type": "markdown",
   "metadata": {},
   "source": [
    "#### Exercício 22 - Faça um programa para o cálculo de uma folha de pagamento, sabendo \n",
    "que os descontos são do Imposto de Renda, que depende do salário bruto (conforme \n",
    "tabela abaixo) e 3% para o Sindicato e que o FGTS corresponde a 11% do Salário Bruto, \n",
    "mas não é descontado (é a empresa que deposita). O Salário Líquido corresponde ao \n",
    "Salário Bruto menos os descontos. O programa deverá pedir ao usuário o valor da sua \n",
    "hora e a quantidade de horas trabalhadas no mês. \n",
    "Desconto do IR:  \n",
    "• Salário Bruto até 900 (inclusive) – isento \n",
    "• Salário Bruto até 1500 (inclusive) - desconto de 5% \n",
    "• Salário Bruto até 2500 (inclusive) - desconto de 10% \n",
    "• Salário Bruto acima de 2500 - desconto de 20%  \n",
    "Imprima na tela as informações, dispostas conforme o exemplo abaixo. No exemplo o \n",
    "valor da hora é 5 e a quantidade de hora é 220."
   ]
  },
  {
   "cell_type": "code",
   "execution_count": null,
   "metadata": {},
   "outputs": [],
   "source": []
  },
  {
   "cell_type": "markdown",
   "metadata": {},
   "source": [
    "#### Exercício 23 ́- Faça um Programa que leia um número e exiba o dia correspondente da \n",
    "semana. (1- Domingo, 2- Segunda, etc.), se digitar outro valor deve aparecer valor \n",
    "inválido. "
   ]
  },
  {
   "cell_type": "code",
   "execution_count": null,
   "metadata": {},
   "outputs": [],
   "source": []
  },
  {
   "cell_type": "markdown",
   "metadata": {},
   "source": [
    "#### Exercício 24 - Faça um programa que lê as duas notas parciais obtidas por um aluno \n",
    "numa disciplina ao longo de um semestre, e calcule a sua média. A atribuição de \n",
    "conceitos obedece à tabela abaixo: \n",
    " \n",
    " \n",
    " \n",
    "O algoritmo deve mostrar na tela as notas, a média, o conceito correspondente e a \n",
    "mensagem “APROVADO” se o conceito for A, B ou C ou “REPROVADO” se o conceito \n",
    "for D ou E."
   ]
  },
  {
   "cell_type": "code",
   "execution_count": null,
   "metadata": {},
   "outputs": [],
   "source": []
  },
  {
   "cell_type": "markdown",
   "metadata": {},
   "source": [
    "#### Exercício 25 - Faça um Programa que peça os 3 lados de um triângulo. O programa \n",
    "deverá informar se os valores podem ser um triângulo. Indique, caso os lados formem \n",
    "um triângulo, se ele é: equilátero, isósceles ou escaleno. \n",
    "Dicas: \n",
    "Três lados formam um triângulo quando a soma de quaisquer dois lados for maior que \n",
    "o terceiro; \n",
    "Triângulo Equilátero: três lados iguais; \n",
    "Triângulo Isósceles: quaisquer dois lados iguais; \n",
    "Triângulo Escaleno: três lados diferentes;"
   ]
  },
  {
   "cell_type": "code",
   "execution_count": null,
   "metadata": {},
   "outputs": [],
   "source": []
  },
  {
   "cell_type": "markdown",
   "metadata": {},
   "source": [
    "#### Exercício 26 - Faça um Programa para leitura de três notas parciais de um aluno. O \n",
    "programa deve calcular a média alcançada por aluno e presentar: \n",
    "• A mensagem \"Aprovado\", se a média for maior ou igual a 7, com a respectiva \n",
    "média alcançada; \n",
    "• A mensagem \"Reprovado\", se a média for menor do que 7, com a respectiva \n",
    "média alcançada; \n",
    "• A mensagem \"Aprovado com Distinção\", se a média for igual a 10."
   ]
  },
  {
   "cell_type": "code",
   "execution_count": null,
   "metadata": {},
   "outputs": [],
   "source": []
  },
  {
   "cell_type": "markdown",
   "metadata": {},
   "source": [
    "#### Exercício 27 - Faça um Programa que peça um número inteiro e determine se ele é par \n",
    "ou ímpar. Dica: utilize o operador módulo (resto da divisão)."
   ]
  },
  {
   "cell_type": "code",
   "execution_count": null,
   "metadata": {},
   "outputs": [],
   "source": []
  },
  {
   "cell_type": "markdown",
   "metadata": {},
   "source": [
    "#### Exercício 28 - Faça um Programa que peça um número e informe se o número é inteiro \n",
    "ou decimal. Dica: utilize uma função de arredondamento. "
   ]
  },
  {
   "cell_type": "code",
   "execution_count": null,
   "metadata": {},
   "outputs": [],
   "source": []
  },
  {
   "cell_type": "markdown",
   "metadata": {},
   "source": [
    "#### Exercício 29 - Faça um Programa que leia 2 números e em seguida pergunte ao usuário \n",
    "qual operação ele deseja realizar. O resultado da operação deve ser acompanhado de \n",
    "uma frase que diga se o número é: \n",
    "• par ou ímpar;  \n",
    "• positivo ou negativo; \n",
    "• inteiro ou decimal."
   ]
  },
  {
   "cell_type": "code",
   "execution_count": null,
   "metadata": {},
   "outputs": [],
   "source": []
  },
  {
   "cell_type": "markdown",
   "metadata": {},
   "source": [
    "#### Exercício 30 - Faça um programa que faça 5 perguntas para uma pessoa sobre um \n",
    "crime. As perguntas são: \n",
    "1. \"Telefonou para a vítima?\"  \n",
    "2. \"Esteve no local do crime?\" \n",
    "3. \"Mora perto da vítima?\" \n",
    "4. \"Devia para a vítima?\" \n",
    "5. \"Já trabalhou com a vítima?\"  \n",
    "O programa deve no final emitir uma classificação sobre a participação da pessoa no \n",
    "crime. Se a pessoa responder positivamente a 2 questões ela deve ser classificada \n",
    "como \"Suspeita\", entre 3 e 4 como \"Cúmplice\" e 5 como \"Assassino\". Caso contrário, \n",
    "ele será classificado como \"Inocente\"."
   ]
  },
  {
   "cell_type": "code",
   "execution_count": null,
   "metadata": {},
   "outputs": [],
   "source": []
  },
  {
   "cell_type": "markdown",
   "metadata": {},
   "source": [
    "#### Exercício  31  -  Um  posto  está  vendendo  combustíveis  com  a  seguinte  tabela  de \n",
    "descontos: \n",
    "Álcool \n",
    "• até 20 litros, desconto de 3% por litro  \n",
    "• acima de 20 litros, desconto de 5% por litro \n",
    "Gasolina \n",
    "• até 20 litros, desconto de 4% por litro \n",
    "• acima de 20 litros, desconto de 6% por litro  \n",
    "Escreva um algoritmo que leia o número de litros vendidos, o tipo de combustível \n",
    "(codificado da seguinte forma: A-álcool, G-gasolina), calcule e imprima o valor a ser \n",
    "pago pelo cliente sabendo-se que o preço do litro da gasolina é R$ 2,50 o preço do litro \n",
    "do álcool é R$ 1,90."
   ]
  },
  {
   "cell_type": "code",
   "execution_count": null,
   "metadata": {},
   "outputs": [],
   "source": []
  },
  {
   "cell_type": "markdown",
   "metadata": {},
   "source": [
    "#### Exercício 32 - Uma fruteira está vendendo frutas com a seguinte tabela de preços: \n",
    " \n",
    "Se o cliente comprar mais de 8 Kg em frutas ou o valor total da compra ultrapassar R$ \n",
    "25,00, receberá ainda um desconto de 10% sobre este total. Escreva um algoritmo para \n",
    "ler a quantidade (em Kg) de morangos e a quantidade (em Kg) de maças adquiridas e \n",
    "escreva o valor a ser pago pelo cliente."
   ]
  },
  {
   "cell_type": "code",
   "execution_count": null,
   "metadata": {},
   "outputs": [],
   "source": []
  },
  {
   "cell_type": "markdown",
   "metadata": {},
   "source": [
    "#### Exercício 33 - O Hipermercado Tabajara está com uma promoção de carnes que é \n",
    "imperdível. Confira: \n",
    " \n",
    "Para atender a todos os clientes, cada cliente poderá levar apenas um dos tipos de \n",
    "carne da promoção, porém não há limites para a quantidade de carne por cliente. Se \n",
    "compra for feita no cartão Tabajara o cliente receberá ainda um desconto de 5% sobre \n",
    "o total da compra. Escreva um programa que peça o tipo e a quantidade de carne \n",
    "comprada pelo usuário e gere um cupom fiscal, contendo as informações da compra: \n",
    "tipo e quantidade de carne, preço total, tipo de pagamento, valor do desconto e valor a \n",
    "pagar."
   ]
  },
  {
   "cell_type": "code",
   "execution_count": null,
   "metadata": {},
   "outputs": [],
   "source": []
  }
 ],
 "metadata": {
  "kernelspec": {
   "display_name": "Python 3",
   "language": "python",
   "name": "python3"
  },
  "language_info": {
   "codemirror_mode": {
    "name": "ipython",
    "version": 3
   },
   "file_extension": ".py",
   "mimetype": "text/x-python",
   "name": "python",
   "nbconvert_exporter": "python",
   "pygments_lexer": "ipython3",
   "version": "3.10.10"
  },
  "orig_nbformat": 4
 },
 "nbformat": 4,
 "nbformat_minor": 2
}
