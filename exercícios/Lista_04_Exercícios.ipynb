{
 "cells": [
  {
   "cell_type": "markdown",
   "metadata": {},
   "source": [
    "#### Exercício 01 - Crie uma lista com nomes de 4 times de futebol. \n",
    " \n",
    "a)  Palmeiras \n",
    "b)  São Paulo \n",
    "c) Santos \n",
    "d)  Água Santa \n",
    "e)  Acesse o time que está na 3a posição. \n",
    "f) Crie uma lista com duas listas de 3 times de futebol, cada uma de uma \n",
    "divisão diferente."
   ]
  },
  {
   "cell_type": "code",
   "execution_count": 32,
   "metadata": {},
   "outputs": [
    {
     "name": "stdout",
     "output_type": "stream",
     "text": [
      "Santos\n"
     ]
    }
   ],
   "source": [
    "# Crisnfo a lista\n",
    "times  = ['Timão','São Paulo','Santos','Água Santa']\n",
    "\n",
    "# Acessar o time que está na 3ª posição\n",
    "\n",
    "print(times[2])"
   ]
  },
  {
   "cell_type": "code",
   "execution_count": 33,
   "metadata": {},
   "outputs": [
    {
     "name": "stdout",
     "output_type": "stream",
     "text": [
      "Corinthians\n"
     ]
    }
   ],
   "source": [
    "# Criando sublistas\n",
    "\n",
    "times_2 = [\n",
    "            ['Coritiba','Sport','Corinthians'],\n",
    "            ['São Caetano','Taperinha','Ganso loko']\n",
    "            ]\n",
    "\n",
    "# Retornar o time Sport\n",
    "\n",
    "print(times_2[0][2])"
   ]
  },
  {
   "cell_type": "markdown",
   "metadata": {},
   "source": [
    "#### Exercício 02 - Crie uma lista com 3 diferentes moedas. Acrescente mais 2 \n",
    "outras moedas à essa mesma lista."
   ]
  },
  {
   "cell_type": "code",
   "execution_count": 34,
   "metadata": {},
   "outputs": [
    {
     "name": "stdout",
     "output_type": "stream",
     "text": [
      "['Real', 'Euro', 'Dólar']\n",
      "['Real', 'Euro', 'Dólar', 'Peso']\n",
      "['Real', 'Euro', 'Dólar', 'Peso', 'Rublo']\n"
     ]
    }
   ],
   "source": [
    "moedas = ['Real','Euro','Dólar']\n",
    "print(moedas)\n",
    "\n",
    "moedas.append('Peso')\n",
    "\n",
    "print(moedas)\n",
    "\n",
    "moedas.append('Rublo')\n",
    "\n",
    "print(moedas)"
   ]
  },
  {
   "cell_type": "markdown",
   "metadata": {},
   "source": [
    "#### Exercício 03 - Crie uma string com a lista do exercício anterior."
   ]
  },
  {
   "cell_type": "code",
   "execution_count": 35,
   "metadata": {},
   "outputs": [
    {
     "name": "stdout",
     "output_type": "stream",
     "text": [
      "Real,Euro,Dólar,Peso,Rublo\n",
      "<class 'str'>\n"
     ]
    }
   ],
   "source": [
    "listaMoedas = ','.join(moedas)\n",
    "print(listaMoedas)\n",
    "print(type(listaMoedas))"
   ]
  },
  {
   "cell_type": "markdown",
   "metadata": {},
   "source": [
    "#### Exercício 04 - Agora utilize a string do exercício 3 para recriar uma lista."
   ]
  },
  {
   "cell_type": "code",
   "execution_count": 44,
   "metadata": {},
   "outputs": [
    {
     "name": "stdout",
     "output_type": "stream",
     "text": [
      "['Real', 'Euro', 'Dólar', 'Peso', 'Rublo']\n",
      "<class 'list'>\n"
     ]
    }
   ],
   "source": [
    "\n",
    "stringMoeda = listaMoedas.split(',')\n",
    "\n",
    "print(stringMoeda)\n",
    "print(type(stringMoeda))\n"
   ]
  }
 ],
 "metadata": {
  "kernelspec": {
   "display_name": "Python 3",
   "language": "python",
   "name": "python3"
  },
  "language_info": {
   "codemirror_mode": {
    "name": "ipython",
    "version": 3
   },
   "file_extension": ".py",
   "mimetype": "text/x-python",
   "name": "python",
   "nbconvert_exporter": "python",
   "pygments_lexer": "ipython3",
   "version": "3.11.0"
  }
 },
 "nbformat": 4,
 "nbformat_minor": 2
}
