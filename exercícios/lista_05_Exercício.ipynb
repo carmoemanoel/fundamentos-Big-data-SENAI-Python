{
 "cells": [
  {
   "cell_type": "code",
   "execution_count": 47,
   "metadata": {},
   "outputs": [],
   "source": [
    "import pandas as pd"
   ]
  },
  {
   "cell_type": "markdown",
   "metadata": {},
   "source": [
    "#### Abra o arquivo world_happiness_report_2015.csv e o aloque em um dataframe."
   ]
  },
  {
   "cell_type": "code",
   "execution_count": 48,
   "metadata": {},
   "outputs": [],
   "source": [
    "caminho = 'C:\\\\fundamentos-Big-data-SENAI-Python\\\\ArquivosAnálise\\\\'\n",
    "arquivo = 'world_happiness_report_2015.csv'\n"
   ]
  },
  {
   "cell_type": "code",
   "execution_count": 49,
   "metadata": {},
   "outputs": [],
   "source": [
    "df = pd.read_csv(caminho + arquivo)"
   ]
  },
  {
   "cell_type": "markdown",
   "metadata": {},
   "source": [
    "#### Verifique o cabeçalho e o final do dataframe."
   ]
  },
  {
   "cell_type": "code",
   "execution_count": 50,
   "metadata": {},
   "outputs": [
    {
     "data": {
      "text/html": [
       "<div>\n",
       "<style scoped>\n",
       "    .dataframe tbody tr th:only-of-type {\n",
       "        vertical-align: middle;\n",
       "    }\n",
       "\n",
       "    .dataframe tbody tr th {\n",
       "        vertical-align: top;\n",
       "    }\n",
       "\n",
       "    .dataframe thead th {\n",
       "        text-align: right;\n",
       "    }\n",
       "</style>\n",
       "<table border=\"1\" class=\"dataframe\">\n",
       "  <thead>\n",
       "    <tr style=\"text-align: right;\">\n",
       "      <th></th>\n",
       "      <th>country</th>\n",
       "      <th>region</th>\n",
       "      <th>happiness rank</th>\n",
       "      <th>happiness score</th>\n",
       "      <th>standard error</th>\n",
       "      <th>economy (GDP per Capita)</th>\n",
       "      <th>family</th>\n",
       "      <th>health (Life Expectancy)</th>\n",
       "      <th>freedom</th>\n",
       "      <th>trust (Government Corruption)</th>\n",
       "      <th>generosity</th>\n",
       "      <th>dystopia residual</th>\n",
       "    </tr>\n",
       "  </thead>\n",
       "  <tbody>\n",
       "    <tr>\n",
       "      <th>0</th>\n",
       "      <td>Switzerland</td>\n",
       "      <td>Western Europe</td>\n",
       "      <td>1</td>\n",
       "      <td>7.587</td>\n",
       "      <td>0.03411</td>\n",
       "      <td>1.39651</td>\n",
       "      <td>1.34951</td>\n",
       "      <td>0.94143</td>\n",
       "      <td>0.66557</td>\n",
       "      <td>0.41978</td>\n",
       "      <td>0.29678</td>\n",
       "      <td>2.51738</td>\n",
       "    </tr>\n",
       "    <tr>\n",
       "      <th>1</th>\n",
       "      <td>Iceland</td>\n",
       "      <td>Western Europe</td>\n",
       "      <td>2</td>\n",
       "      <td>7.561</td>\n",
       "      <td>0.04884</td>\n",
       "      <td>1.30232</td>\n",
       "      <td>1.40223</td>\n",
       "      <td>0.94784</td>\n",
       "      <td>0.62877</td>\n",
       "      <td>0.14145</td>\n",
       "      <td>0.43630</td>\n",
       "      <td>2.70201</td>\n",
       "    </tr>\n",
       "    <tr>\n",
       "      <th>2</th>\n",
       "      <td>Denmark</td>\n",
       "      <td>Western Europe</td>\n",
       "      <td>3</td>\n",
       "      <td>7.527</td>\n",
       "      <td>0.03328</td>\n",
       "      <td>1.32548</td>\n",
       "      <td>1.36058</td>\n",
       "      <td>0.87464</td>\n",
       "      <td>0.64938</td>\n",
       "      <td>0.48357</td>\n",
       "      <td>0.34139</td>\n",
       "      <td>2.49204</td>\n",
       "    </tr>\n",
       "    <tr>\n",
       "      <th>3</th>\n",
       "      <td>Norway</td>\n",
       "      <td>Western Europe</td>\n",
       "      <td>4</td>\n",
       "      <td>7.522</td>\n",
       "      <td>0.03880</td>\n",
       "      <td>1.45900</td>\n",
       "      <td>1.33095</td>\n",
       "      <td>0.88521</td>\n",
       "      <td>0.66973</td>\n",
       "      <td>0.36503</td>\n",
       "      <td>0.34699</td>\n",
       "      <td>2.46531</td>\n",
       "    </tr>\n",
       "    <tr>\n",
       "      <th>4</th>\n",
       "      <td>Canada</td>\n",
       "      <td>North America</td>\n",
       "      <td>5</td>\n",
       "      <td>7.427</td>\n",
       "      <td>0.03553</td>\n",
       "      <td>1.32629</td>\n",
       "      <td>1.32261</td>\n",
       "      <td>0.90563</td>\n",
       "      <td>0.63297</td>\n",
       "      <td>0.32957</td>\n",
       "      <td>0.45811</td>\n",
       "      <td>2.45176</td>\n",
       "    </tr>\n",
       "  </tbody>\n",
       "</table>\n",
       "</div>"
      ],
      "text/plain": [
       "       country          region  happiness rank  happiness score  \\\n",
       "0  Switzerland  Western Europe               1            7.587   \n",
       "1      Iceland  Western Europe               2            7.561   \n",
       "2      Denmark  Western Europe               3            7.527   \n",
       "3       Norway  Western Europe               4            7.522   \n",
       "4       Canada   North America               5            7.427   \n",
       "\n",
       "   standard error  economy (GDP per Capita)   family  \\\n",
       "0         0.03411                   1.39651  1.34951   \n",
       "1         0.04884                   1.30232  1.40223   \n",
       "2         0.03328                   1.32548  1.36058   \n",
       "3         0.03880                   1.45900  1.33095   \n",
       "4         0.03553                   1.32629  1.32261   \n",
       "\n",
       "   health (Life Expectancy)  freedom  trust (Government Corruption)  \\\n",
       "0                   0.94143  0.66557                        0.41978   \n",
       "1                   0.94784  0.62877                        0.14145   \n",
       "2                   0.87464  0.64938                        0.48357   \n",
       "3                   0.88521  0.66973                        0.36503   \n",
       "4                   0.90563  0.63297                        0.32957   \n",
       "\n",
       "   generosity  dystopia residual  \n",
       "0     0.29678            2.51738  \n",
       "1     0.43630            2.70201  \n",
       "2     0.34139            2.49204  \n",
       "3     0.34699            2.46531  \n",
       "4     0.45811            2.45176  "
      ]
     },
     "execution_count": 50,
     "metadata": {},
     "output_type": "execute_result"
    }
   ],
   "source": [
    "df.head()"
   ]
  },
  {
   "cell_type": "markdown",
   "metadata": {},
   "source": [
    "#### Comando para vizualizar o final do DataFrame"
   ]
  },
  {
   "cell_type": "code",
   "execution_count": 51,
   "metadata": {},
   "outputs": [
    {
     "data": {
      "text/html": [
       "<div>\n",
       "<style scoped>\n",
       "    .dataframe tbody tr th:only-of-type {\n",
       "        vertical-align: middle;\n",
       "    }\n",
       "\n",
       "    .dataframe tbody tr th {\n",
       "        vertical-align: top;\n",
       "    }\n",
       "\n",
       "    .dataframe thead th {\n",
       "        text-align: right;\n",
       "    }\n",
       "</style>\n",
       "<table border=\"1\" class=\"dataframe\">\n",
       "  <thead>\n",
       "    <tr style=\"text-align: right;\">\n",
       "      <th></th>\n",
       "      <th>country</th>\n",
       "      <th>region</th>\n",
       "      <th>happiness rank</th>\n",
       "      <th>happiness score</th>\n",
       "      <th>standard error</th>\n",
       "      <th>economy (GDP per Capita)</th>\n",
       "      <th>family</th>\n",
       "      <th>health (Life Expectancy)</th>\n",
       "      <th>freedom</th>\n",
       "      <th>trust (Government Corruption)</th>\n",
       "      <th>generosity</th>\n",
       "      <th>dystopia residual</th>\n",
       "    </tr>\n",
       "  </thead>\n",
       "  <tbody>\n",
       "    <tr>\n",
       "      <th>159</th>\n",
       "      <td>Rwanda</td>\n",
       "      <td>Sub-Saharan Africa</td>\n",
       "      <td>154</td>\n",
       "      <td>3.465</td>\n",
       "      <td>0.03464</td>\n",
       "      <td>0.22208</td>\n",
       "      <td>0.77370</td>\n",
       "      <td>0.42864</td>\n",
       "      <td>0.59201</td>\n",
       "      <td>0.55191</td>\n",
       "      <td>0.22628</td>\n",
       "      <td>0.67042</td>\n",
       "    </tr>\n",
       "    <tr>\n",
       "      <th>160</th>\n",
       "      <td>Benin</td>\n",
       "      <td>Sub-Saharan Africa</td>\n",
       "      <td>155</td>\n",
       "      <td>3.340</td>\n",
       "      <td>NaN</td>\n",
       "      <td>0.28665</td>\n",
       "      <td>0.35386</td>\n",
       "      <td>0.31910</td>\n",
       "      <td>0.48450</td>\n",
       "      <td>0.08010</td>\n",
       "      <td>0.18260</td>\n",
       "      <td>NaN</td>\n",
       "    </tr>\n",
       "    <tr>\n",
       "      <th>161</th>\n",
       "      <td>Syria</td>\n",
       "      <td>Middle East and Northern Africa</td>\n",
       "      <td>156</td>\n",
       "      <td>3.006</td>\n",
       "      <td>0.05015</td>\n",
       "      <td>0.66320</td>\n",
       "      <td>0.47489</td>\n",
       "      <td>0.72193</td>\n",
       "      <td>0.15684</td>\n",
       "      <td>0.18906</td>\n",
       "      <td>0.47179</td>\n",
       "      <td>0.32858</td>\n",
       "    </tr>\n",
       "    <tr>\n",
       "      <th>162</th>\n",
       "      <td>Burundi</td>\n",
       "      <td>Sub-Saharan Africa</td>\n",
       "      <td>157</td>\n",
       "      <td>2.905</td>\n",
       "      <td>0.08658</td>\n",
       "      <td>0.01530</td>\n",
       "      <td>0.41587</td>\n",
       "      <td>0.22396</td>\n",
       "      <td>0.11850</td>\n",
       "      <td>0.10062</td>\n",
       "      <td>0.19727</td>\n",
       "      <td>NaN</td>\n",
       "    </tr>\n",
       "    <tr>\n",
       "      <th>163</th>\n",
       "      <td>Togo</td>\n",
       "      <td>Sub-Saharan Africa</td>\n",
       "      <td>158</td>\n",
       "      <td>2.839</td>\n",
       "      <td>0.06727</td>\n",
       "      <td>0.20868</td>\n",
       "      <td>0.13995</td>\n",
       "      <td>0.28443</td>\n",
       "      <td>0.36453</td>\n",
       "      <td>0.10731</td>\n",
       "      <td>0.16681</td>\n",
       "      <td>NaN</td>\n",
       "    </tr>\n",
       "  </tbody>\n",
       "</table>\n",
       "</div>"
      ],
      "text/plain": [
       "     country                           region  happiness rank  \\\n",
       "159   Rwanda               Sub-Saharan Africa             154   \n",
       "160    Benin               Sub-Saharan Africa             155   \n",
       "161    Syria  Middle East and Northern Africa             156   \n",
       "162  Burundi               Sub-Saharan Africa             157   \n",
       "163     Togo               Sub-Saharan Africa             158   \n",
       "\n",
       "     happiness score  standard error  economy (GDP per Capita)   family  \\\n",
       "159            3.465         0.03464                   0.22208  0.77370   \n",
       "160            3.340             NaN                   0.28665  0.35386   \n",
       "161            3.006         0.05015                   0.66320  0.47489   \n",
       "162            2.905         0.08658                   0.01530  0.41587   \n",
       "163            2.839         0.06727                   0.20868  0.13995   \n",
       "\n",
       "     health (Life Expectancy)  freedom  trust (Government Corruption)  \\\n",
       "159                   0.42864  0.59201                        0.55191   \n",
       "160                   0.31910  0.48450                        0.08010   \n",
       "161                   0.72193  0.15684                        0.18906   \n",
       "162                   0.22396  0.11850                        0.10062   \n",
       "163                   0.28443  0.36453                        0.10731   \n",
       "\n",
       "     generosity  dystopia residual  \n",
       "159     0.22628            0.67042  \n",
       "160     0.18260                NaN  \n",
       "161     0.47179            0.32858  \n",
       "162     0.19727                NaN  \n",
       "163     0.16681                NaN  "
      ]
     },
     "execution_count": 51,
     "metadata": {},
     "output_type": "execute_result"
    }
   ],
   "source": [
    "df.tail()"
   ]
  },
  {
   "cell_type": "markdown",
   "metadata": {},
   "source": [
    "#### Quais as colunas desse dataframe? "
   ]
  },
  {
   "cell_type": "code",
   "execution_count": 52,
   "metadata": {},
   "outputs": [
    {
     "data": {
      "text/html": [
       "<div>\n",
       "<style scoped>\n",
       "    .dataframe tbody tr th:only-of-type {\n",
       "        vertical-align: middle;\n",
       "    }\n",
       "\n",
       "    .dataframe tbody tr th {\n",
       "        vertical-align: top;\n",
       "    }\n",
       "\n",
       "    .dataframe thead th {\n",
       "        text-align: right;\n",
       "    }\n",
       "</style>\n",
       "<table border=\"1\" class=\"dataframe\">\n",
       "  <thead>\n",
       "    <tr style=\"text-align: right;\">\n",
       "      <th></th>\n",
       "      <th>country</th>\n",
       "      <th>region</th>\n",
       "      <th>happiness rank</th>\n",
       "      <th>happiness score</th>\n",
       "      <th>standard error</th>\n",
       "      <th>economy (GDP per Capita)</th>\n",
       "      <th>family</th>\n",
       "      <th>health (Life Expectancy)</th>\n",
       "      <th>freedom</th>\n",
       "      <th>trust (Government Corruption)</th>\n",
       "      <th>generosity</th>\n",
       "      <th>dystopia residual</th>\n",
       "    </tr>\n",
       "  </thead>\n",
       "  <tbody>\n",
       "    <tr>\n",
       "      <th>0</th>\n",
       "      <td>Switzerland</td>\n",
       "      <td>Western Europe</td>\n",
       "      <td>1</td>\n",
       "      <td>7.587</td>\n",
       "      <td>0.03411</td>\n",
       "      <td>1.39651</td>\n",
       "      <td>1.34951</td>\n",
       "      <td>0.94143</td>\n",
       "      <td>0.66557</td>\n",
       "      <td>0.41978</td>\n",
       "      <td>0.29678</td>\n",
       "      <td>2.51738</td>\n",
       "    </tr>\n",
       "    <tr>\n",
       "      <th>1</th>\n",
       "      <td>Iceland</td>\n",
       "      <td>Western Europe</td>\n",
       "      <td>2</td>\n",
       "      <td>7.561</td>\n",
       "      <td>0.04884</td>\n",
       "      <td>1.30232</td>\n",
       "      <td>1.40223</td>\n",
       "      <td>0.94784</td>\n",
       "      <td>0.62877</td>\n",
       "      <td>0.14145</td>\n",
       "      <td>0.43630</td>\n",
       "      <td>2.70201</td>\n",
       "    </tr>\n",
       "    <tr>\n",
       "      <th>2</th>\n",
       "      <td>Denmark</td>\n",
       "      <td>Western Europe</td>\n",
       "      <td>3</td>\n",
       "      <td>7.527</td>\n",
       "      <td>0.03328</td>\n",
       "      <td>1.32548</td>\n",
       "      <td>1.36058</td>\n",
       "      <td>0.87464</td>\n",
       "      <td>0.64938</td>\n",
       "      <td>0.48357</td>\n",
       "      <td>0.34139</td>\n",
       "      <td>2.49204</td>\n",
       "    </tr>\n",
       "    <tr>\n",
       "      <th>3</th>\n",
       "      <td>Norway</td>\n",
       "      <td>Western Europe</td>\n",
       "      <td>4</td>\n",
       "      <td>7.522</td>\n",
       "      <td>0.03880</td>\n",
       "      <td>1.45900</td>\n",
       "      <td>1.33095</td>\n",
       "      <td>0.88521</td>\n",
       "      <td>0.66973</td>\n",
       "      <td>0.36503</td>\n",
       "      <td>0.34699</td>\n",
       "      <td>2.46531</td>\n",
       "    </tr>\n",
       "    <tr>\n",
       "      <th>4</th>\n",
       "      <td>Canada</td>\n",
       "      <td>North America</td>\n",
       "      <td>5</td>\n",
       "      <td>7.427</td>\n",
       "      <td>0.03553</td>\n",
       "      <td>1.32629</td>\n",
       "      <td>1.32261</td>\n",
       "      <td>0.90563</td>\n",
       "      <td>0.63297</td>\n",
       "      <td>0.32957</td>\n",
       "      <td>0.45811</td>\n",
       "      <td>2.45176</td>\n",
       "    </tr>\n",
       "    <tr>\n",
       "      <th>...</th>\n",
       "      <td>...</td>\n",
       "      <td>...</td>\n",
       "      <td>...</td>\n",
       "      <td>...</td>\n",
       "      <td>...</td>\n",
       "      <td>...</td>\n",
       "      <td>...</td>\n",
       "      <td>...</td>\n",
       "      <td>...</td>\n",
       "      <td>...</td>\n",
       "      <td>...</td>\n",
       "      <td>...</td>\n",
       "    </tr>\n",
       "    <tr>\n",
       "      <th>159</th>\n",
       "      <td>Rwanda</td>\n",
       "      <td>Sub-Saharan Africa</td>\n",
       "      <td>154</td>\n",
       "      <td>3.465</td>\n",
       "      <td>0.03464</td>\n",
       "      <td>0.22208</td>\n",
       "      <td>0.77370</td>\n",
       "      <td>0.42864</td>\n",
       "      <td>0.59201</td>\n",
       "      <td>0.55191</td>\n",
       "      <td>0.22628</td>\n",
       "      <td>0.67042</td>\n",
       "    </tr>\n",
       "    <tr>\n",
       "      <th>160</th>\n",
       "      <td>Benin</td>\n",
       "      <td>Sub-Saharan Africa</td>\n",
       "      <td>155</td>\n",
       "      <td>3.340</td>\n",
       "      <td>NaN</td>\n",
       "      <td>0.28665</td>\n",
       "      <td>0.35386</td>\n",
       "      <td>0.31910</td>\n",
       "      <td>0.48450</td>\n",
       "      <td>0.08010</td>\n",
       "      <td>0.18260</td>\n",
       "      <td>NaN</td>\n",
       "    </tr>\n",
       "    <tr>\n",
       "      <th>161</th>\n",
       "      <td>Syria</td>\n",
       "      <td>Middle East and Northern Africa</td>\n",
       "      <td>156</td>\n",
       "      <td>3.006</td>\n",
       "      <td>0.05015</td>\n",
       "      <td>0.66320</td>\n",
       "      <td>0.47489</td>\n",
       "      <td>0.72193</td>\n",
       "      <td>0.15684</td>\n",
       "      <td>0.18906</td>\n",
       "      <td>0.47179</td>\n",
       "      <td>0.32858</td>\n",
       "    </tr>\n",
       "    <tr>\n",
       "      <th>162</th>\n",
       "      <td>Burundi</td>\n",
       "      <td>Sub-Saharan Africa</td>\n",
       "      <td>157</td>\n",
       "      <td>2.905</td>\n",
       "      <td>0.08658</td>\n",
       "      <td>0.01530</td>\n",
       "      <td>0.41587</td>\n",
       "      <td>0.22396</td>\n",
       "      <td>0.11850</td>\n",
       "      <td>0.10062</td>\n",
       "      <td>0.19727</td>\n",
       "      <td>NaN</td>\n",
       "    </tr>\n",
       "    <tr>\n",
       "      <th>163</th>\n",
       "      <td>Togo</td>\n",
       "      <td>Sub-Saharan Africa</td>\n",
       "      <td>158</td>\n",
       "      <td>2.839</td>\n",
       "      <td>0.06727</td>\n",
       "      <td>0.20868</td>\n",
       "      <td>0.13995</td>\n",
       "      <td>0.28443</td>\n",
       "      <td>0.36453</td>\n",
       "      <td>0.10731</td>\n",
       "      <td>0.16681</td>\n",
       "      <td>NaN</td>\n",
       "    </tr>\n",
       "  </tbody>\n",
       "</table>\n",
       "<p>164 rows × 12 columns</p>\n",
       "</div>"
      ],
      "text/plain": [
       "         country                           region  happiness rank  \\\n",
       "0    Switzerland                   Western Europe               1   \n",
       "1        Iceland                   Western Europe               2   \n",
       "2        Denmark                   Western Europe               3   \n",
       "3         Norway                   Western Europe               4   \n",
       "4         Canada                    North America               5   \n",
       "..           ...                              ...             ...   \n",
       "159       Rwanda               Sub-Saharan Africa             154   \n",
       "160        Benin               Sub-Saharan Africa             155   \n",
       "161        Syria  Middle East and Northern Africa             156   \n",
       "162      Burundi               Sub-Saharan Africa             157   \n",
       "163         Togo               Sub-Saharan Africa             158   \n",
       "\n",
       "     happiness score  standard error  economy (GDP per Capita)   family  \\\n",
       "0              7.587         0.03411                   1.39651  1.34951   \n",
       "1              7.561         0.04884                   1.30232  1.40223   \n",
       "2              7.527         0.03328                   1.32548  1.36058   \n",
       "3              7.522         0.03880                   1.45900  1.33095   \n",
       "4              7.427         0.03553                   1.32629  1.32261   \n",
       "..               ...             ...                       ...      ...   \n",
       "159            3.465         0.03464                   0.22208  0.77370   \n",
       "160            3.340             NaN                   0.28665  0.35386   \n",
       "161            3.006         0.05015                   0.66320  0.47489   \n",
       "162            2.905         0.08658                   0.01530  0.41587   \n",
       "163            2.839         0.06727                   0.20868  0.13995   \n",
       "\n",
       "     health (Life Expectancy)  freedom  trust (Government Corruption)  \\\n",
       "0                     0.94143  0.66557                        0.41978   \n",
       "1                     0.94784  0.62877                        0.14145   \n",
       "2                     0.87464  0.64938                        0.48357   \n",
       "3                     0.88521  0.66973                        0.36503   \n",
       "4                     0.90563  0.63297                        0.32957   \n",
       "..                        ...      ...                            ...   \n",
       "159                   0.42864  0.59201                        0.55191   \n",
       "160                   0.31910  0.48450                        0.08010   \n",
       "161                   0.72193  0.15684                        0.18906   \n",
       "162                   0.22396  0.11850                        0.10062   \n",
       "163                   0.28443  0.36453                        0.10731   \n",
       "\n",
       "     generosity  dystopia residual  \n",
       "0       0.29678            2.51738  \n",
       "1       0.43630            2.70201  \n",
       "2       0.34139            2.49204  \n",
       "3       0.34699            2.46531  \n",
       "4       0.45811            2.45176  \n",
       "..          ...                ...  \n",
       "159     0.22628            0.67042  \n",
       "160     0.18260                NaN  \n",
       "161     0.47179            0.32858  \n",
       "162     0.19727                NaN  \n",
       "163     0.16681                NaN  \n",
       "\n",
       "[164 rows x 12 columns]"
      ]
     },
     "execution_count": 52,
     "metadata": {},
     "output_type": "execute_result"
    }
   ],
   "source": [
    "df"
   ]
  },
  {
   "cell_type": "markdown",
   "metadata": {},
   "source": [
    "#### Quais os tipos de dados temos no dataframe? "
   ]
  },
  {
   "cell_type": "code",
   "execution_count": 53,
   "metadata": {},
   "outputs": [
    {
     "name": "stdout",
     "output_type": "stream",
     "text": [
      "<class 'pandas.core.frame.DataFrame'>\n",
      "RangeIndex: 164 entries, 0 to 163\n",
      "Data columns (total 12 columns):\n",
      " #   Column                         Non-Null Count  Dtype  \n",
      "---  ------                         --------------  -----  \n",
      " 0   country                        164 non-null    object \n",
      " 1   region                         164 non-null    object \n",
      " 2   happiness rank                 164 non-null    int64  \n",
      " 3   happiness score                156 non-null    float64\n",
      " 4   standard error                 163 non-null    float64\n",
      " 5   economy (GDP per Capita)       164 non-null    float64\n",
      " 6   family                         164 non-null    float64\n",
      " 7   health (Life Expectancy)       164 non-null    float64\n",
      " 8   freedom                        164 non-null    float64\n",
      " 9   trust (Government Corruption)  164 non-null    float64\n",
      " 10  generosity                     164 non-null    float64\n",
      " 11  dystopia residual              150 non-null    float64\n",
      "dtypes: float64(9), int64(1), object(2)\n",
      "memory usage: 15.5+ KB\n"
     ]
    }
   ],
   "source": [
    "df.info()"
   ]
  },
  {
   "cell_type": "markdown",
   "metadata": {},
   "source": [
    "#### Há valores faltantes ou nulos? Em quais colunas? "
   ]
  },
  {
   "cell_type": "code",
   "execution_count": null,
   "metadata": {},
   "outputs": [],
   "source": []
  },
  {
   "cell_type": "code",
   "execution_count": null,
   "metadata": {},
   "outputs": [],
   "source": []
  },
  {
   "cell_type": "code",
   "execution_count": 54,
   "metadata": {},
   "outputs": [
    {
     "data": {
      "text/html": [
       "<div>\n",
       "<style scoped>\n",
       "    .dataframe tbody tr th:only-of-type {\n",
       "        vertical-align: middle;\n",
       "    }\n",
       "\n",
       "    .dataframe tbody tr th {\n",
       "        vertical-align: top;\n",
       "    }\n",
       "\n",
       "    .dataframe thead th {\n",
       "        text-align: right;\n",
       "    }\n",
       "</style>\n",
       "<table border=\"1\" class=\"dataframe\">\n",
       "  <thead>\n",
       "    <tr style=\"text-align: right;\">\n",
       "      <th></th>\n",
       "      <th>country</th>\n",
       "      <th>region</th>\n",
       "      <th>happiness rank</th>\n",
       "      <th>happiness score</th>\n",
       "      <th>standard error</th>\n",
       "      <th>economy (GDP per Capita)</th>\n",
       "      <th>family</th>\n",
       "      <th>health (Life Expectancy)</th>\n",
       "      <th>freedom</th>\n",
       "      <th>trust (Government Corruption)</th>\n",
       "      <th>generosity</th>\n",
       "      <th>dystopia residual</th>\n",
       "    </tr>\n",
       "  </thead>\n",
       "  <tbody>\n",
       "    <tr>\n",
       "      <th>0</th>\n",
       "      <td>Switzerland</td>\n",
       "      <td>Western Europe</td>\n",
       "      <td>1</td>\n",
       "      <td>7.587</td>\n",
       "      <td>0.03411</td>\n",
       "      <td>1.39651</td>\n",
       "      <td>1.34951</td>\n",
       "      <td>0.94143</td>\n",
       "      <td>0.66557</td>\n",
       "      <td>0.41978</td>\n",
       "      <td>0.29678</td>\n",
       "      <td>2.51738</td>\n",
       "    </tr>\n",
       "    <tr>\n",
       "      <th>1</th>\n",
       "      <td>Iceland</td>\n",
       "      <td>Western Europe</td>\n",
       "      <td>2</td>\n",
       "      <td>7.561</td>\n",
       "      <td>0.04884</td>\n",
       "      <td>1.30232</td>\n",
       "      <td>1.40223</td>\n",
       "      <td>0.94784</td>\n",
       "      <td>0.62877</td>\n",
       "      <td>0.14145</td>\n",
       "      <td>0.43630</td>\n",
       "      <td>2.70201</td>\n",
       "    </tr>\n",
       "    <tr>\n",
       "      <th>2</th>\n",
       "      <td>Denmark</td>\n",
       "      <td>Western Europe</td>\n",
       "      <td>3</td>\n",
       "      <td>7.527</td>\n",
       "      <td>0.03328</td>\n",
       "      <td>1.32548</td>\n",
       "      <td>1.36058</td>\n",
       "      <td>0.87464</td>\n",
       "      <td>0.64938</td>\n",
       "      <td>0.48357</td>\n",
       "      <td>0.34139</td>\n",
       "      <td>2.49204</td>\n",
       "    </tr>\n",
       "    <tr>\n",
       "      <th>3</th>\n",
       "      <td>Norway</td>\n",
       "      <td>Western Europe</td>\n",
       "      <td>4</td>\n",
       "      <td>7.522</td>\n",
       "      <td>0.03880</td>\n",
       "      <td>1.45900</td>\n",
       "      <td>1.33095</td>\n",
       "      <td>0.88521</td>\n",
       "      <td>0.66973</td>\n",
       "      <td>0.36503</td>\n",
       "      <td>0.34699</td>\n",
       "      <td>2.46531</td>\n",
       "    </tr>\n",
       "    <tr>\n",
       "      <th>4</th>\n",
       "      <td>Canada</td>\n",
       "      <td>North America</td>\n",
       "      <td>5</td>\n",
       "      <td>7.427</td>\n",
       "      <td>0.03553</td>\n",
       "      <td>1.32629</td>\n",
       "      <td>1.32261</td>\n",
       "      <td>0.90563</td>\n",
       "      <td>0.63297</td>\n",
       "      <td>0.32957</td>\n",
       "      <td>0.45811</td>\n",
       "      <td>2.45176</td>\n",
       "    </tr>\n",
       "  </tbody>\n",
       "</table>\n",
       "</div>"
      ],
      "text/plain": [
       "       country          region  happiness rank  happiness score  \\\n",
       "0  Switzerland  Western Europe               1            7.587   \n",
       "1      Iceland  Western Europe               2            7.561   \n",
       "2      Denmark  Western Europe               3            7.527   \n",
       "3       Norway  Western Europe               4            7.522   \n",
       "4       Canada   North America               5            7.427   \n",
       "\n",
       "   standard error  economy (GDP per Capita)   family  \\\n",
       "0         0.03411                   1.39651  1.34951   \n",
       "1         0.04884                   1.30232  1.40223   \n",
       "2         0.03328                   1.32548  1.36058   \n",
       "3         0.03880                   1.45900  1.33095   \n",
       "4         0.03553                   1.32629  1.32261   \n",
       "\n",
       "   health (Life Expectancy)  freedom  trust (Government Corruption)  \\\n",
       "0                   0.94143  0.66557                        0.41978   \n",
       "1                   0.94784  0.62877                        0.14145   \n",
       "2                   0.87464  0.64938                        0.48357   \n",
       "3                   0.88521  0.66973                        0.36503   \n",
       "4                   0.90563  0.63297                        0.32957   \n",
       "\n",
       "   generosity  dystopia residual  \n",
       "0     0.29678            2.51738  \n",
       "1     0.43630            2.70201  \n",
       "2     0.34139            2.49204  \n",
       "3     0.34699            2.46531  \n",
       "4     0.45811            2.45176  "
      ]
     },
     "execution_count": 54,
     "metadata": {},
     "output_type": "execute_result"
    }
   ],
   "source": [
    "df.head()"
   ]
  },
  {
   "cell_type": "markdown",
   "metadata": {},
   "source": [
    "#### Renomeie as variáveis como segue: "
   ]
  },
  {
   "cell_type": "code",
   "execution_count": 55,
   "metadata": {},
   "outputs": [
    {
     "data": {
      "text/html": [
       "<div>\n",
       "<style scoped>\n",
       "    .dataframe tbody tr th:only-of-type {\n",
       "        vertical-align: middle;\n",
       "    }\n",
       "\n",
       "    .dataframe tbody tr th {\n",
       "        vertical-align: top;\n",
       "    }\n",
       "\n",
       "    .dataframe thead th {\n",
       "        text-align: right;\n",
       "    }\n",
       "</style>\n",
       "<table border=\"1\" class=\"dataframe\">\n",
       "  <thead>\n",
       "    <tr style=\"text-align: right;\">\n",
       "      <th></th>\n",
       "      <th>country</th>\n",
       "      <th>region</th>\n",
       "      <th>rank_felicidade</th>\n",
       "      <th>score_felicidade</th>\n",
       "      <th>statnd_erro</th>\n",
       "      <th>PIB</th>\n",
       "      <th>family</th>\n",
       "      <th>expect_vida</th>\n",
       "      <th>freedom</th>\n",
       "      <th>corrupcao</th>\n",
       "      <th>generosity</th>\n",
       "      <th>dystopia residual</th>\n",
       "    </tr>\n",
       "  </thead>\n",
       "  <tbody>\n",
       "    <tr>\n",
       "      <th>0</th>\n",
       "      <td>Switzerland</td>\n",
       "      <td>Western Europe</td>\n",
       "      <td>1</td>\n",
       "      <td>7.587</td>\n",
       "      <td>0.03411</td>\n",
       "      <td>1.39651</td>\n",
       "      <td>1.34951</td>\n",
       "      <td>0.94143</td>\n",
       "      <td>0.66557</td>\n",
       "      <td>0.41978</td>\n",
       "      <td>0.29678</td>\n",
       "      <td>2.51738</td>\n",
       "    </tr>\n",
       "    <tr>\n",
       "      <th>1</th>\n",
       "      <td>Iceland</td>\n",
       "      <td>Western Europe</td>\n",
       "      <td>2</td>\n",
       "      <td>7.561</td>\n",
       "      <td>0.04884</td>\n",
       "      <td>1.30232</td>\n",
       "      <td>1.40223</td>\n",
       "      <td>0.94784</td>\n",
       "      <td>0.62877</td>\n",
       "      <td>0.14145</td>\n",
       "      <td>0.43630</td>\n",
       "      <td>2.70201</td>\n",
       "    </tr>\n",
       "    <tr>\n",
       "      <th>2</th>\n",
       "      <td>Denmark</td>\n",
       "      <td>Western Europe</td>\n",
       "      <td>3</td>\n",
       "      <td>7.527</td>\n",
       "      <td>0.03328</td>\n",
       "      <td>1.32548</td>\n",
       "      <td>1.36058</td>\n",
       "      <td>0.87464</td>\n",
       "      <td>0.64938</td>\n",
       "      <td>0.48357</td>\n",
       "      <td>0.34139</td>\n",
       "      <td>2.49204</td>\n",
       "    </tr>\n",
       "    <tr>\n",
       "      <th>3</th>\n",
       "      <td>Norway</td>\n",
       "      <td>Western Europe</td>\n",
       "      <td>4</td>\n",
       "      <td>7.522</td>\n",
       "      <td>0.03880</td>\n",
       "      <td>1.45900</td>\n",
       "      <td>1.33095</td>\n",
       "      <td>0.88521</td>\n",
       "      <td>0.66973</td>\n",
       "      <td>0.36503</td>\n",
       "      <td>0.34699</td>\n",
       "      <td>2.46531</td>\n",
       "    </tr>\n",
       "    <tr>\n",
       "      <th>4</th>\n",
       "      <td>Canada</td>\n",
       "      <td>North America</td>\n",
       "      <td>5</td>\n",
       "      <td>7.427</td>\n",
       "      <td>0.03553</td>\n",
       "      <td>1.32629</td>\n",
       "      <td>1.32261</td>\n",
       "      <td>0.90563</td>\n",
       "      <td>0.63297</td>\n",
       "      <td>0.32957</td>\n",
       "      <td>0.45811</td>\n",
       "      <td>2.45176</td>\n",
       "    </tr>\n",
       "  </tbody>\n",
       "</table>\n",
       "</div>"
      ],
      "text/plain": [
       "       country          region  rank_felicidade  score_felicidade  \\\n",
       "0  Switzerland  Western Europe                1             7.587   \n",
       "1      Iceland  Western Europe                2             7.561   \n",
       "2      Denmark  Western Europe                3             7.527   \n",
       "3       Norway  Western Europe                4             7.522   \n",
       "4       Canada   North America                5             7.427   \n",
       "\n",
       "   statnd_erro      PIB   family  expect_vida  freedom  corrupcao  generosity  \\\n",
       "0      0.03411  1.39651  1.34951      0.94143  0.66557    0.41978     0.29678   \n",
       "1      0.04884  1.30232  1.40223      0.94784  0.62877    0.14145     0.43630   \n",
       "2      0.03328  1.32548  1.36058      0.87464  0.64938    0.48357     0.34139   \n",
       "3      0.03880  1.45900  1.33095      0.88521  0.66973    0.36503     0.34699   \n",
       "4      0.03553  1.32629  1.32261      0.90563  0.63297    0.32957     0.45811   \n",
       "\n",
       "   dystopia residual  \n",
       "0            2.51738  \n",
       "1            2.70201  \n",
       "2            2.49204  \n",
       "3            2.46531  \n",
       "4            2.45176  "
      ]
     },
     "execution_count": 55,
     "metadata": {},
     "output_type": "execute_result"
    }
   ],
   "source": [
    "df.columns = [\n",
    "    'country','region','rank_felicidade','score_felicidade','statnd_erro','PIB',\n",
    "    'family','expect_vida','freedom','corrupcao','generosity','dystopia residual'\n",
    "]\n",
    "\n",
    "df.head()"
   ]
  },
  {
   "cell_type": "markdown",
   "metadata": {},
   "source": [
    "#### Exercícios 02\n",
    "Mamipulando dados com Pandas\n",
    "a Crie um programa em pandas para ler o arquivo em Excel imobiliária.xlsx \n",
    "b e coloque em um dataframe. \n",
    "c Visualize o cabeçalho dos dados; \n",
    "d Visualize as últimas linhas; \n",
    "e Escreva um programa para renomear o cabeçalho da tabela com os \n",
    "f seguintes nomes:"
   ]
  },
  {
   "cell_type": "code",
   "execution_count": 76,
   "metadata": {},
   "outputs": [
    {
     "ename": "FileNotFoundError",
     "evalue": "[Errno 2] No such file or directory: 'C:\\\\fundamentos-Big-data-SENAI-Python\\\\ArquivosAnálise\\\\Imobiliária'",
     "output_type": "error",
     "traceback": [
      "\u001b[1;31m---------------------------------------------------------------------------\u001b[0m",
      "\u001b[1;31mFileNotFoundError\u001b[0m                         Traceback (most recent call last)",
      "\u001b[1;32mc:\\fundamentos-Big-data-SENAI-Python\\exercícios\\lista_05_Exercício.ipynb Célula 20\u001b[0m line \u001b[0;36m1\n\u001b[0;32m      <a href='vscode-notebook-cell:/c%3A/fundamentos-Big-data-SENAI-Python/exerc%C3%ADcios/lista_05_Exerc%C3%ADcio.ipynb#X25sZmlsZQ%3D%3D?line=5'>6</a>\u001b[0m arquivo \u001b[39m=\u001b[39m \u001b[39m'\u001b[39m\u001b[39mImobiliária\u001b[39m\u001b[39m'\u001b[39m\n\u001b[0;32m      <a href='vscode-notebook-cell:/c%3A/fundamentos-Big-data-SENAI-Python/exerc%C3%ADcios/lista_05_Exerc%C3%ADcio.ipynb#X25sZmlsZQ%3D%3D?line=7'>8</a>\u001b[0m \u001b[39m# Abrir o documento e inserir em um dataframe\u001b[39;00m\n\u001b[1;32m---> <a href='vscode-notebook-cell:/c%3A/fundamentos-Big-data-SENAI-Python/exerc%C3%ADcios/lista_05_Exerc%C3%ADcio.ipynb#X25sZmlsZQ%3D%3D?line=9'>10</a>\u001b[0m tabela \u001b[39m=\u001b[39m pd\u001b[39m.\u001b[39;49mread_excel( caminho \u001b[39m+\u001b[39;49m arquivo,sheet_name\u001b[39m=\u001b[39;49m\u001b[39m'\u001b[39;49m\u001b[39mBase\u001b[39;49m\u001b[39m'\u001b[39;49m)\n\u001b[0;32m     <a href='vscode-notebook-cell:/c%3A/fundamentos-Big-data-SENAI-Python/exerc%C3%ADcios/lista_05_Exerc%C3%ADcio.ipynb#X25sZmlsZQ%3D%3D?line=11'>12</a>\u001b[0m \u001b[39m# Visualizar o cabeçalho do dataframe\u001b[39;00m\n\u001b[0;32m     <a href='vscode-notebook-cell:/c%3A/fundamentos-Big-data-SENAI-Python/exerc%C3%ADcios/lista_05_Exerc%C3%ADcio.ipynb#X25sZmlsZQ%3D%3D?line=12'>13</a>\u001b[0m tabela\u001b[39m.\u001b[39mhead()\n",
      "File \u001b[1;32mc:\\Users\\contt\\AppData\\Local\\Programs\\Python\\Python310\\lib\\site-packages\\pandas\\util\\_decorators.py:211\u001b[0m, in \u001b[0;36mdeprecate_kwarg.<locals>._deprecate_kwarg.<locals>.wrapper\u001b[1;34m(*args, **kwargs)\u001b[0m\n\u001b[0;32m    209\u001b[0m     \u001b[39melse\u001b[39;00m:\n\u001b[0;32m    210\u001b[0m         kwargs[new_arg_name] \u001b[39m=\u001b[39m new_arg_value\n\u001b[1;32m--> 211\u001b[0m \u001b[39mreturn\u001b[39;00m func(\u001b[39m*\u001b[39margs, \u001b[39m*\u001b[39m\u001b[39m*\u001b[39mkwargs)\n",
      "File \u001b[1;32mc:\\Users\\contt\\AppData\\Local\\Programs\\Python\\Python310\\lib\\site-packages\\pandas\\util\\_decorators.py:331\u001b[0m, in \u001b[0;36mdeprecate_nonkeyword_arguments.<locals>.decorate.<locals>.wrapper\u001b[1;34m(*args, **kwargs)\u001b[0m\n\u001b[0;32m    325\u001b[0m \u001b[39mif\u001b[39;00m \u001b[39mlen\u001b[39m(args) \u001b[39m>\u001b[39m num_allow_args:\n\u001b[0;32m    326\u001b[0m     warnings\u001b[39m.\u001b[39mwarn(\n\u001b[0;32m    327\u001b[0m         msg\u001b[39m.\u001b[39mformat(arguments\u001b[39m=\u001b[39m_format_argument_list(allow_args)),\n\u001b[0;32m    328\u001b[0m         \u001b[39mFutureWarning\u001b[39;00m,\n\u001b[0;32m    329\u001b[0m         stacklevel\u001b[39m=\u001b[39mfind_stack_level(),\n\u001b[0;32m    330\u001b[0m     )\n\u001b[1;32m--> 331\u001b[0m \u001b[39mreturn\u001b[39;00m func(\u001b[39m*\u001b[39margs, \u001b[39m*\u001b[39m\u001b[39m*\u001b[39mkwargs)\n",
      "File \u001b[1;32mc:\\Users\\contt\\AppData\\Local\\Programs\\Python\\Python310\\lib\\site-packages\\pandas\\io\\excel\\_base.py:482\u001b[0m, in \u001b[0;36mread_excel\u001b[1;34m(io, sheet_name, header, names, index_col, usecols, squeeze, dtype, engine, converters, true_values, false_values, skiprows, nrows, na_values, keep_default_na, na_filter, verbose, parse_dates, date_parser, thousands, decimal, comment, skipfooter, convert_float, mangle_dupe_cols, storage_options)\u001b[0m\n\u001b[0;32m    480\u001b[0m \u001b[39mif\u001b[39;00m \u001b[39mnot\u001b[39;00m \u001b[39misinstance\u001b[39m(io, ExcelFile):\n\u001b[0;32m    481\u001b[0m     should_close \u001b[39m=\u001b[39m \u001b[39mTrue\u001b[39;00m\n\u001b[1;32m--> 482\u001b[0m     io \u001b[39m=\u001b[39m ExcelFile(io, storage_options\u001b[39m=\u001b[39;49mstorage_options, engine\u001b[39m=\u001b[39;49mengine)\n\u001b[0;32m    483\u001b[0m \u001b[39melif\u001b[39;00m engine \u001b[39mand\u001b[39;00m engine \u001b[39m!=\u001b[39m io\u001b[39m.\u001b[39mengine:\n\u001b[0;32m    484\u001b[0m     \u001b[39mraise\u001b[39;00m \u001b[39mValueError\u001b[39;00m(\n\u001b[0;32m    485\u001b[0m         \u001b[39m\"\u001b[39m\u001b[39mEngine should not be specified when passing \u001b[39m\u001b[39m\"\u001b[39m\n\u001b[0;32m    486\u001b[0m         \u001b[39m\"\u001b[39m\u001b[39man ExcelFile - ExcelFile already has the engine set\u001b[39m\u001b[39m\"\u001b[39m\n\u001b[0;32m    487\u001b[0m     )\n",
      "File \u001b[1;32mc:\\Users\\contt\\AppData\\Local\\Programs\\Python\\Python310\\lib\\site-packages\\pandas\\io\\excel\\_base.py:1652\u001b[0m, in \u001b[0;36mExcelFile.__init__\u001b[1;34m(self, path_or_buffer, engine, storage_options)\u001b[0m\n\u001b[0;32m   1650\u001b[0m     ext \u001b[39m=\u001b[39m \u001b[39m\"\u001b[39m\u001b[39mxls\u001b[39m\u001b[39m\"\u001b[39m\n\u001b[0;32m   1651\u001b[0m \u001b[39melse\u001b[39;00m:\n\u001b[1;32m-> 1652\u001b[0m     ext \u001b[39m=\u001b[39m inspect_excel_format(\n\u001b[0;32m   1653\u001b[0m         content_or_path\u001b[39m=\u001b[39;49mpath_or_buffer, storage_options\u001b[39m=\u001b[39;49mstorage_options\n\u001b[0;32m   1654\u001b[0m     )\n\u001b[0;32m   1655\u001b[0m     \u001b[39mif\u001b[39;00m ext \u001b[39mis\u001b[39;00m \u001b[39mNone\u001b[39;00m:\n\u001b[0;32m   1656\u001b[0m         \u001b[39mraise\u001b[39;00m \u001b[39mValueError\u001b[39;00m(\n\u001b[0;32m   1657\u001b[0m             \u001b[39m\"\u001b[39m\u001b[39mExcel file format cannot be determined, you must specify \u001b[39m\u001b[39m\"\u001b[39m\n\u001b[0;32m   1658\u001b[0m             \u001b[39m\"\u001b[39m\u001b[39man engine manually.\u001b[39m\u001b[39m\"\u001b[39m\n\u001b[0;32m   1659\u001b[0m         )\n",
      "File \u001b[1;32mc:\\Users\\contt\\AppData\\Local\\Programs\\Python\\Python310\\lib\\site-packages\\pandas\\io\\excel\\_base.py:1525\u001b[0m, in \u001b[0;36minspect_excel_format\u001b[1;34m(content_or_path, storage_options)\u001b[0m\n\u001b[0;32m   1522\u001b[0m \u001b[39mif\u001b[39;00m \u001b[39misinstance\u001b[39m(content_or_path, \u001b[39mbytes\u001b[39m):\n\u001b[0;32m   1523\u001b[0m     content_or_path \u001b[39m=\u001b[39m BytesIO(content_or_path)\n\u001b[1;32m-> 1525\u001b[0m \u001b[39mwith\u001b[39;00m get_handle(\n\u001b[0;32m   1526\u001b[0m     content_or_path, \u001b[39m\"\u001b[39;49m\u001b[39mrb\u001b[39;49m\u001b[39m\"\u001b[39;49m, storage_options\u001b[39m=\u001b[39;49mstorage_options, is_text\u001b[39m=\u001b[39;49m\u001b[39mFalse\u001b[39;49;00m\n\u001b[0;32m   1527\u001b[0m ) \u001b[39mas\u001b[39;00m handle:\n\u001b[0;32m   1528\u001b[0m     stream \u001b[39m=\u001b[39m handle\u001b[39m.\u001b[39mhandle\n\u001b[0;32m   1529\u001b[0m     stream\u001b[39m.\u001b[39mseek(\u001b[39m0\u001b[39m)\n",
      "File \u001b[1;32mc:\\Users\\contt\\AppData\\Local\\Programs\\Python\\Python310\\lib\\site-packages\\pandas\\io\\common.py:865\u001b[0m, in \u001b[0;36mget_handle\u001b[1;34m(path_or_buf, mode, encoding, compression, memory_map, is_text, errors, storage_options)\u001b[0m\n\u001b[0;32m    856\u001b[0m         handle \u001b[39m=\u001b[39m \u001b[39mopen\u001b[39m(\n\u001b[0;32m    857\u001b[0m             handle,\n\u001b[0;32m    858\u001b[0m             ioargs\u001b[39m.\u001b[39mmode,\n\u001b[1;32m   (...)\u001b[0m\n\u001b[0;32m    861\u001b[0m             newline\u001b[39m=\u001b[39m\u001b[39m\"\u001b[39m\u001b[39m\"\u001b[39m,\n\u001b[0;32m    862\u001b[0m         )\n\u001b[0;32m    863\u001b[0m     \u001b[39melse\u001b[39;00m:\n\u001b[0;32m    864\u001b[0m         \u001b[39m# Binary mode\u001b[39;00m\n\u001b[1;32m--> 865\u001b[0m         handle \u001b[39m=\u001b[39m \u001b[39mopen\u001b[39;49m(handle, ioargs\u001b[39m.\u001b[39;49mmode)\n\u001b[0;32m    866\u001b[0m     handles\u001b[39m.\u001b[39mappend(handle)\n\u001b[0;32m    868\u001b[0m \u001b[39m# Convert BytesIO or file objects passed with an encoding\u001b[39;00m\n",
      "\u001b[1;31mFileNotFoundError\u001b[0m: [Errno 2] No such file or directory: 'C:\\\\fundamentos-Big-data-SENAI-Python\\\\ArquivosAnálise\\\\Imobiliária'"
     ]
    }
   ],
   "source": [
    "# Importando a biblioteca \n",
    "import pandas as pd\n",
    "\n",
    "# Mapear o caminho e o nome do arquivo\n",
    "caminho = 'C:\\\\fundamentos-Big-data-SENAI-Python\\\\ArquivosAnálise\\\\'\n",
    "arquivo = 'Imobiliária'\n",
    "\n",
    "# Abrir o documento e inserir em um dataframe\n",
    "\n",
    "tabela = pd.read_excel( caminho + arquivo,sheet_name='Base')\n",
    "\n",
    "# Visualizar o cabeçalho do dataframe\n",
    "tabela.head()"
   ]
  },
  {
   "cell_type": "markdown",
   "metadata": {},
   "source": [
    "##### Escreva um programa para renomear o cabeçalho da tabela com os seguintes nomes: \n",
    " \n"
   ]
  },
  {
   "cell_type": "code",
   "execution_count": null,
   "metadata": {},
   "outputs": [
    {
     "data": {
      "text/html": [
       "<div>\n",
       "<style scoped>\n",
       "    .dataframe tbody tr th:only-of-type {\n",
       "        vertical-align: middle;\n",
       "    }\n",
       "\n",
       "    .dataframe tbody tr th {\n",
       "        vertical-align: top;\n",
       "    }\n",
       "\n",
       "    .dataframe thead th {\n",
       "        text-align: right;\n",
       "    }\n",
       "</style>\n",
       "<table border=\"1\" class=\"dataframe\">\n",
       "  <thead>\n",
       "    <tr style=\"text-align: right;\">\n",
       "      <th></th>\n",
       "      <th>Filial</th>\n",
       "      <th>Vendedor</th>\n",
       "      <th>Data</th>\n",
       "      <th>Tipo</th>\n",
       "      <th>area</th>\n",
       "      <th>Dorms</th>\n",
       "      <th>Garag</th>\n",
       "      <th>Piscina</th>\n",
       "      <th>Preco</th>\n",
       "      <th>Comissao</th>\n",
       "    </tr>\n",
       "  </thead>\n",
       "  <tbody>\n",
       "    <tr>\n",
       "      <th>0</th>\n",
       "      <td>Centro</td>\n",
       "      <td>Simone</td>\n",
       "      <td>2005-10-08</td>\n",
       "      <td>Apartamento</td>\n",
       "      <td>102.5</td>\n",
       "      <td>2</td>\n",
       "      <td>2</td>\n",
       "      <td>Sim</td>\n",
       "      <td>235500</td>\n",
       "      <td>3532.5</td>\n",
       "    </tr>\n",
       "    <tr>\n",
       "      <th>1</th>\n",
       "      <td>Noroeste</td>\n",
       "      <td>Simone</td>\n",
       "      <td>2005-10-08</td>\n",
       "      <td>Apartamento</td>\n",
       "      <td>199.5</td>\n",
       "      <td>4</td>\n",
       "      <td>4</td>\n",
       "      <td>Não</td>\n",
       "      <td>377700</td>\n",
       "      <td>5665.5</td>\n",
       "    </tr>\n",
       "    <tr>\n",
       "      <th>2</th>\n",
       "      <td>Norte</td>\n",
       "      <td>Roberto</td>\n",
       "      <td>2005-10-12</td>\n",
       "      <td>Casa</td>\n",
       "      <td>145.5</td>\n",
       "      <td>2</td>\n",
       "      <td>2</td>\n",
       "      <td>Não</td>\n",
       "      <td>232500</td>\n",
       "      <td>3487.5</td>\n",
       "    </tr>\n",
       "    <tr>\n",
       "      <th>3</th>\n",
       "      <td>Sudeste</td>\n",
       "      <td>Simone</td>\n",
       "      <td>2005-10-14</td>\n",
       "      <td>Apartamento</td>\n",
       "      <td>153.5</td>\n",
       "      <td>3</td>\n",
       "      <td>2</td>\n",
       "      <td>Não</td>\n",
       "      <td>289100</td>\n",
       "      <td>4336.5</td>\n",
       "    </tr>\n",
       "    <tr>\n",
       "      <th>4</th>\n",
       "      <td>Noroeste</td>\n",
       "      <td>Cristina</td>\n",
       "      <td>2005-10-16</td>\n",
       "      <td>Apartamento</td>\n",
       "      <td>93.0</td>\n",
       "      <td>2</td>\n",
       "      <td>2</td>\n",
       "      <td>Sim</td>\n",
       "      <td>235400</td>\n",
       "      <td>3531.0</td>\n",
       "    </tr>\n",
       "  </tbody>\n",
       "</table>\n",
       "</div>"
      ],
      "text/plain": [
       "     Filial  Vendedor       Data         Tipo   area  Dorms  Garag Piscina  \\\n",
       "0    Centro    Simone 2005-10-08  Apartamento  102.5      2      2     Sim   \n",
       "1  Noroeste    Simone 2005-10-08  Apartamento  199.5      4      4     Não   \n",
       "2     Norte   Roberto 2005-10-12         Casa  145.5      2      2     Não   \n",
       "3   Sudeste    Simone 2005-10-14  Apartamento  153.5      3      2     Não   \n",
       "4  Noroeste  Cristina 2005-10-16  Apartamento   93.0      2      2     Sim   \n",
       "\n",
       "    Preco  Comissao  \n",
       "0  235500    3532.5  \n",
       "1  377700    5665.5  \n",
       "2  232500    3487.5  \n",
       "3  289100    4336.5  \n",
       "4  235400    3531.0  "
      ]
     },
     "execution_count": 31,
     "metadata": {},
     "output_type": "execute_result"
    }
   ],
   "source": [
    "# Renomeando as colunas com o comando columns\n",
    "tabela.columns = ['Filial','Vendedor','Data','Tipo','area','Dorms','Garag','Piscina','Preco','Comissao']\n",
    "\n",
    "tabela.head()"
   ]
  },
  {
   "cell_type": "markdown",
   "metadata": {},
   "source": [
    "#### Quais são os tipos de dados que temos no dataframe?"
   ]
  },
  {
   "cell_type": "code",
   "execution_count": null,
   "metadata": {},
   "outputs": [
    {
     "name": "stdout",
     "output_type": "stream",
     "text": [
      "<class 'pandas.core.frame.DataFrame'>\n",
      "RangeIndex: 1117 entries, 0 to 1116\n",
      "Data columns (total 10 columns):\n",
      " #   Column    Non-Null Count  Dtype         \n",
      "---  ------    --------------  -----         \n",
      " 0   Filial    1117 non-null   object        \n",
      " 1   Vendedor  1117 non-null   object        \n",
      " 2   Data      1117 non-null   datetime64[ns]\n",
      " 3   Tipo      1117 non-null   object        \n",
      " 4   area      1117 non-null   float64       \n",
      " 5   Dorms     1117 non-null   int64         \n",
      " 6   Garag     1117 non-null   int64         \n",
      " 7   Piscina   1117 non-null   object        \n",
      " 8   Preco     1117 non-null   int64         \n",
      " 9   Comissao  1117 non-null   float64       \n",
      "dtypes: datetime64[ns](1), float64(2), int64(3), object(4)\n",
      "memory usage: 87.4+ KB\n"
     ]
    }
   ],
   "source": [
    "tabela.info()"
   ]
  },
  {
   "cell_type": "markdown",
   "metadata": {},
   "source": [
    "#### Calcule a soma, média, máximo, mínimo e contagem da coluna Preço. "
   ]
  },
  {
   "cell_type": "code",
   "execution_count": null,
   "metadata": {},
   "outputs": [
    {
     "name": "stdout",
     "output_type": "stream",
     "text": [
      "Soma total da tabela Preco -> 295035000\n",
      "Média total da tabela Preco -> 264131.6025067144\n",
      "Maior valor da tabela Preco -> 384300\n",
      "Menor valor da tabela Preco -> 145100\n",
      "Quantidade de valores da tabela Preco -> 1117\n"
     ]
    }
   ],
   "source": [
    "tabela.describe()\n",
    "\n",
    "#FUNÇÕES\n",
    "print('Soma total da tabela Preco ->',tabela['Preco'].sum()) # SOMA\n",
    "print('Média total da tabela Preco ->',tabela['Preco'].mean()) # MÉDIA\n",
    "print('Maior valor da tabela Preco ->',tabela['Preco'].max())  # MAIOR VALOR DA COLUNA \n",
    "print('Menor valor da tabela Preco ->',tabela['Preco'].min())  # MENOR VALOR DA COLUNA\n",
    "print('Quantidade de valores da tabela Preco ->',tabela['Preco'].count()) # QUANTIDADE DE VALORES DA COLUNA"
   ]
  },
  {
   "cell_type": "markdown",
   "metadata": {},
   "source": [
    "#### 8. Crie um programa para criar um dataframe para mostrar as vendas por região, e salvar um arquivo em Excel para cada região."
   ]
  },
  {
   "cell_type": "code",
   "execution_count": 79,
   "metadata": {},
   "outputs": [
    {
     "ename": "NameError",
     "evalue": "name 'tabela' is not defined",
     "output_type": "error",
     "traceback": [
      "\u001b[1;31m---------------------------------------------------------------------------\u001b[0m",
      "\u001b[1;31mNameError\u001b[0m                                 Traceback (most recent call last)",
      "\u001b[1;32mc:\\fundamentos-Big-data-SENAI-Python\\exercícios\\lista_05_Exercício.ipynb Célula 28\u001b[0m line \u001b[0;36m3\n\u001b[0;32m      <a href='vscode-notebook-cell:/c%3A/fundamentos-Big-data-SENAI-Python/exerc%C3%ADcios/lista_05_Exerc%C3%ADcio.ipynb#X36sZmlsZQ%3D%3D?line=0'>1</a>\u001b[0m \u001b[39m# Criar um relatótio para mostrar as vendas da região CENTRO\u001b[39;00m\n\u001b[1;32m----> <a href='vscode-notebook-cell:/c%3A/fundamentos-Big-data-SENAI-Python/exerc%C3%ADcios/lista_05_Exerc%C3%ADcio.ipynb#X36sZmlsZQ%3D%3D?line=2'>3</a>\u001b[0m df_final \u001b[39m=\u001b[39m tabela[tabela[\u001b[39m'\u001b[39m\u001b[39mFilial\u001b[39m\u001b[39m'\u001b[39m] \u001b[39m==\u001b[39m \u001b[39m'\u001b[39m\u001b[39mCentro\u001b[39m\u001b[39m'\u001b[39m]\n\u001b[0;32m      <a href='vscode-notebook-cell:/c%3A/fundamentos-Big-data-SENAI-Python/exerc%C3%ADcios/lista_05_Exerc%C3%ADcio.ipynb#X36sZmlsZQ%3D%3D?line=4'>5</a>\u001b[0m \u001b[39m# Salvar em diretório específico\u001b[39;00m\n\u001b[0;32m      <a href='vscode-notebook-cell:/c%3A/fundamentos-Big-data-SENAI-Python/exerc%C3%ADcios/lista_05_Exerc%C3%ADcio.ipynb#X36sZmlsZQ%3D%3D?line=5'>6</a>\u001b[0m caminho_destino \u001b[39m=\u001b[39m \u001b[39m'\u001b[39m\u001b[39mC:\u001b[39m\u001b[39m\\\\\u001b[39;00m\u001b[39mUsers\u001b[39m\u001b[39m\\\\\u001b[39;00m\u001b[39mFIC\u001b[39m\u001b[39m\\\\\u001b[39;00m\u001b[39mDocuments\u001b[39m\u001b[39m\\\\\u001b[39;00m\u001b[39mfundamentos-Big-data-SENAI-Python\u001b[39m\u001b[39m\\\\\u001b[39;00m\u001b[39mFiliais\u001b[39m\u001b[39m\\\\\u001b[39;00m\u001b[39m'\u001b[39m\n",
      "\u001b[1;31mNameError\u001b[0m: name 'tabela' is not defined"
     ]
    }
   ],
   "source": [
    "# Criar um relatótio para mostrar as vendas da região CENTRO\n",
    "\n",
    "df_final = tabela[tabela['Filial'] == 'Centro']\n",
    "\n",
    "# Salvar em diretório específico\n",
    "caminho_destino = 'C:\\\\Users\\\\FIC\\\\Documents\\\\fundamentos-Big-data-SENAI-Python\\\\Filiais\\\\'\n",
    "arquivo_final = 'relatório-vendas-centro.xlsx'\n",
    "\n",
    "df_final.to_excel(caminho_destino + arquivo_final, sheet_name='Centro', index=False)"
   ]
  },
  {
   "cell_type": "code",
   "execution_count": null,
   "metadata": {},
   "outputs": [],
   "source": [
    "df_final = tabela[tabela['Filial'] == 'Noroeste']\n",
    "\n",
    "caminho_destino = 'C:\\\\Users\\\\FIC\\\\Documents\\\\fundamentos-Big-data-SENAI-Python\\\\Filiais\\\\'\n",
    "arquivo_final = 'relatório-vendas-noroeste.xlsx'\n",
    "\n",
    "df_final.to_excel(caminho_destino + arquivo_final, sheet_name='Noroeste', index=False)"
   ]
  },
  {
   "cell_type": "code",
   "execution_count": null,
   "metadata": {},
   "outputs": [],
   "source": [
    "df_final = tabela[tabela['Filial'] == 'Norte']\n",
    "\n",
    "caminho_destino = 'C:\\\\Users\\\\FIC\\\\Documents\\\\fundamentos-Big-data-SENAI-Python\\\\Filiais\\\\'\n",
    "arquivo_final = 'relatório-vendas-norte.xlsx'\n",
    "\n",
    "df_final.to_excel(caminho_destino + arquivo_final, sheet_name='Norte', index=False)"
   ]
  },
  {
   "cell_type": "code",
   "execution_count": null,
   "metadata": {},
   "outputs": [],
   "source": [
    "df_final = tabela[tabela['Filial'] == 'Sudeste']\n",
    "\n",
    "caminho_destino = 'C:\\\\Users\\\\FIC\\\\Documents\\\\fundamentos-Big-data-SENAI-Python\\\\Filiais\\\\'\n",
    "arquivo_final = 'relatório-vendas-sudeste.xlsx'\n",
    "\n",
    "df_final.to_excel(caminho_destino + arquivo_final, sheet_name='Sudeste', index=False)"
   ]
  },
  {
   "cell_type": "code",
   "execution_count": null,
   "metadata": {},
   "outputs": [],
   "source": [
    "df_final = tabela[tabela['Filial'] == 'Oeste']\n",
    "\n",
    "caminho_destino = 'C:\\\\Users\\\\FIC\\\\Documents\\\\fundamentos-Big-data-SENAI-Python\\\\Filiais\\\\'\n",
    "arquivo_final = 'relatório-vendas-oeste.xlsx'\n",
    "\n",
    "df_final.to_excel(caminho_destino + arquivo_final, sheet_name='Oeste', index=False)"
   ]
  },
  {
   "cell_type": "code",
   "execution_count": null,
   "metadata": {},
   "outputs": [],
   "source": [
    "df_final = tabela[tabela['Filial'] == 'Leste']\n",
    "\n",
    "caminho_destino = 'C:\\\\Users\\\\FIC\\\\Documents\\\\fundamentos-Big-data-SENAI-Python\\\\Filiais\\\\'\n",
    "arquivo_final = 'relatório-vendas-leste.xlsx'\n",
    "\n",
    "df_final.to_excel(caminho_destino + arquivo_final, sheet_name= 'Leste', index=False)"
   ]
  },
  {
   "cell_type": "code",
   "execution_count": null,
   "metadata": {},
   "outputs": [],
   "source": [
    "df_final = tabela[tabela['Filial'] == 'Sudoeste']\n",
    "\n",
    "caminho_destino = 'C:\\\\Users\\\\FIC\\\\Documents\\\\fundamentos-Big-data-SENAI-Python\\\\Filiais\\\\'\n",
    "arquivo_final = 'relatório-vendas-sudoeste.xlsx'\n",
    "\n",
    "df_final.to_excel(caminho_destino + arquivo_final,sheet_name='Sudoeste', index=False)"
   ]
  },
  {
   "cell_type": "code",
   "execution_count": null,
   "metadata": {},
   "outputs": [],
   "source": [
    "df_final = tabela[tabela['Filial'] == 'Sul']\n",
    "\n",
    "caminho_destino = 'C:\\\\Users\\\\FIC\\\\Documents\\\\fundamentos-Big-data-SENAI-Python\\\\Filiais\\\\'\n",
    "arquivo_final = 'relatório-vendas-sul.xlsx'\n",
    "\n",
    "df_final.to_excel(caminho_destino + arquivo_final,sheet_name='Sul', index=False)"
   ]
  },
  {
   "cell_type": "code",
   "execution_count": null,
   "metadata": {},
   "outputs": [],
   "source": [
    "df_final = tabela[tabela['Filial'] == 'Nordeste']\n",
    "\n",
    "caminho_destino = 'C:\\\\Users\\\\FIC\\\\Documents\\\\fundamentos-Big-data-SENAI-Python\\\\Filiais\\\\'\n",
    "arquivo_final = 'relatório-vendas-nordeste.xlsx'\n",
    "\n",
    "df_final.to_excel(caminho_destino + arquivo_final,sheet_name='Nordeste',index=False)"
   ]
  },
  {
   "cell_type": "markdown",
   "metadata": {},
   "source": [
    "####  Gere um arquivo em Excel para representar as vendas efetuadas pela filial norte em 2010."
   ]
  },
  {
   "cell_type": "code",
   "execution_count": null,
   "metadata": {},
   "outputs": [],
   "source": [
    "df_final = tabela[\n",
    "                 (tabela['Filial'] == 'Norte') &\n",
    "                 (tabela['Data'] >= '2010-01-01')&\n",
    "                 (tabela['Data']<='2010-12-31')\n",
    "                 ]\n",
    "\n",
    "caminho_destino = 'C:\\\\Users\\\\FIC\\\\Documents\\\\fundamentos-Big-data-SENAI-Python\\\\Filiais\\\\'\n",
    "arquivo_final = 'relatório-vendas-norte-2010.xlsx'\n",
    "\n",
    "df_final.to_excel(caminho_destino + arquivo_final,sheet_name='Norte', index=False)"
   ]
  },
  {
   "cell_type": "markdown",
   "metadata": {},
   "source": [
    "#### Gere  um  arquivo  em  Excel  para  representar  as  vendas  efetuadas  pela  filial Sudeste em 2010. Sendo que no relatório deve conter apenas vendas de casas sem garagem."
   ]
  },
  {
   "cell_type": "code",
   "execution_count": null,
   "metadata": {},
   "outputs": [],
   "source": [
    "df_final = tabela[(tabela['Filial'] == 'Sudeste') &\n",
    "                  (tabela['Data'] >= '2010-01-01') &\n",
    "                  (tabela['Data'] <= '2010-12-31') &\n",
    "                  (tabela['Tipo'] == 'Casa') &\n",
    "                  (tabela['Garag'] == 0)\n",
    "                  ]\n",
    "\n",
    "caminho_destino = 'C:\\\\Users\\\\FIC\\\\Documents\\\\fundamentos-Big-data-SENAI-Python\\\\Filiais\\\\'\n",
    "arquivo_final = 'relatório-vendas-sudeste-2010.xlsx'\n",
    "\n",
    "df_final.to_excel(caminho_destino + arquivo_final,sheet_name='Sudeste', index=False)"
   ]
  },
  {
   "cell_type": "markdown",
   "metadata": {},
   "source": [
    "#### Qual o valor máximo de comissão que a imobiliária numa venda? "
   ]
  },
  {
   "cell_type": "code",
   "execution_count": null,
   "metadata": {},
   "outputs": [],
   "source": [
    "df_final = tabela[tabela['Comissao'] == max (tabela['Comissao'])]\n",
    "\n",
    "caminho_destino = 'C:\\\\Users\\\\FIC\\\\Documents\\\\fundamentos-Big-data-SENAI-Python\\\\Filiais\\\\'\n",
    "arquivo_final = 'relatório-vendas-maior-comissao.xlsx'\n",
    "\n",
    "df_final.to_excel(caminho_destino + arquivo_final,sheet_name='Comissao', index=False)\n"
   ]
  },
  {
   "cell_type": "markdown",
   "metadata": {},
   "source": [
    "#### Quantas casas de 2 ou 3 dormitórios foram vendidas pelo Ricardo antes de 2011."
   ]
  },
  {
   "cell_type": "code",
   "execution_count": null,
   "metadata": {},
   "outputs": [],
   "source": [
    "\n",
    "df_final = tabela[(tabela['Vendedor'] == 'Ricardo') & \n",
    "                  (tabela['Data'] < '2011-01-01') & \n",
    "                  (tabela['Tipo'] == 'Casa') &\n",
    "                  ((tabela['Dorms'] == 2) | (tabela['Dorms'] == 3)) \n",
    "                  ]\n",
    "\n",
    "caminho_destino = 'C:\\\\Users\\\\FIC\\\\Documents\\\\fundamentos-Big-data-SENAI-Python\\\\Filiais\\\\'\n",
    "arquivo_final = 'relatório-vendas-ricardo-2011-2ou3.xlsx'\n",
    "\n",
    "df_final.to_excel(caminho_destino + arquivo_final,sheet_name='Ricarso', index=False) "
   ]
  },
  {
   "cell_type": "markdown",
   "metadata": {},
   "source": [
    "#### Exercício 03 – Manipulando dados com Pandas"
   ]
  },
  {
   "cell_type": "markdown",
   "metadata": {},
   "source": [
    "#### Crie um programa em pandas para ler o arquivo em Excel vendas.xlsx e coloque em um dataframe"
   ]
  },
  {
   "cell_type": "code",
   "execution_count": 61,
   "metadata": {},
   "outputs": [
    {
     "data": {
      "text/html": [
       "<div>\n",
       "<style scoped>\n",
       "    .dataframe tbody tr th:only-of-type {\n",
       "        vertical-align: middle;\n",
       "    }\n",
       "\n",
       "    .dataframe tbody tr th {\n",
       "        vertical-align: top;\n",
       "    }\n",
       "\n",
       "    .dataframe thead th {\n",
       "        text-align: right;\n",
       "    }\n",
       "</style>\n",
       "<table border=\"1\" class=\"dataframe\">\n",
       "  <thead>\n",
       "    <tr style=\"text-align: right;\">\n",
       "      <th></th>\n",
       "      <th>Coluna 1</th>\n",
       "      <th>Coluna 2</th>\n",
       "      <th>Coluna 3</th>\n",
       "      <th>Coluna 4</th>\n",
       "      <th>Coluna 5</th>\n",
       "      <th>Coluna 6</th>\n",
       "    </tr>\n",
       "  </thead>\n",
       "  <tbody>\n",
       "    <tr>\n",
       "      <th>0</th>\n",
       "      <td>2014-01-01</td>\n",
       "      <td>Bernardo de Sousa</td>\n",
       "      <td>Supervisor de Vendas Pl</td>\n",
       "      <td>ACME</td>\n",
       "      <td>AL</td>\n",
       "      <td>3276.20</td>\n",
       "    </tr>\n",
       "    <tr>\n",
       "      <th>1</th>\n",
       "      <td>2014-01-01</td>\n",
       "      <td>Bernardo de Sousa</td>\n",
       "      <td>Supervisor de Vendas Pl</td>\n",
       "      <td>ACME</td>\n",
       "      <td>AP</td>\n",
       "      <td>3005.86</td>\n",
       "    </tr>\n",
       "    <tr>\n",
       "      <th>2</th>\n",
       "      <td>2014-01-01</td>\n",
       "      <td>Bernardo de Sousa</td>\n",
       "      <td>Supervisor de Vendas Pl</td>\n",
       "      <td>ACME</td>\n",
       "      <td>MA</td>\n",
       "      <td>8568.54</td>\n",
       "    </tr>\n",
       "    <tr>\n",
       "      <th>3</th>\n",
       "      <td>2014-01-01</td>\n",
       "      <td>Bernardo de Sousa</td>\n",
       "      <td>Supervisor de Vendas Pl</td>\n",
       "      <td>ACME</td>\n",
       "      <td>MG</td>\n",
       "      <td>1344.27</td>\n",
       "    </tr>\n",
       "    <tr>\n",
       "      <th>4</th>\n",
       "      <td>2014-01-01</td>\n",
       "      <td>Bernardo de Sousa</td>\n",
       "      <td>Supervisor de Vendas Pl</td>\n",
       "      <td>ACME</td>\n",
       "      <td>MS</td>\n",
       "      <td>7585.04</td>\n",
       "    </tr>\n",
       "  </tbody>\n",
       "</table>\n",
       "</div>"
      ],
      "text/plain": [
       "    Coluna 1           Coluna 2                 Coluna 3 Coluna 4 Coluna 5  \\\n",
       "0 2014-01-01  Bernardo de Sousa  Supervisor de Vendas Pl     ACME       AL   \n",
       "1 2014-01-01  Bernardo de Sousa  Supervisor de Vendas Pl     ACME       AP   \n",
       "2 2014-01-01  Bernardo de Sousa  Supervisor de Vendas Pl     ACME       MA   \n",
       "3 2014-01-01  Bernardo de Sousa  Supervisor de Vendas Pl     ACME       MG   \n",
       "4 2014-01-01  Bernardo de Sousa  Supervisor de Vendas Pl     ACME       MS   \n",
       "\n",
       "   Coluna 6  \n",
       "0   3276.20  \n",
       "1   3005.86  \n",
       "2   8568.54  \n",
       "3   1344.27  \n",
       "4   7585.04  "
      ]
     },
     "execution_count": 61,
     "metadata": {},
     "output_type": "execute_result"
    }
   ],
   "source": [
    "# importando a biblioteca\n",
    "import pandas as pd\n",
    "# passando o caminho de onde vem o arquivo\n",
    "caminho = 'C:\\\\fundamentos-Big-data-SENAI-Python\\\\ArquivosAnálise\\\\'\n",
    "arquivo = 'Vendas.xlsx'\n",
    "\n",
    "vendas = pd.read_excel(caminho + arquivo,sheet_name='Planilha1')\n",
    "\n",
    "# Visualizar o cabeçalho do dataframe\n",
    "vendas.head()"
   ]
  },
  {
   "cell_type": "markdown",
   "metadata": {},
   "source": [
    "#### Visualize as últimas linhas; "
   ]
  },
  {
   "cell_type": "code",
   "execution_count": 63,
   "metadata": {},
   "outputs": [
    {
     "data": {
      "text/html": [
       "<div>\n",
       "<style scoped>\n",
       "    .dataframe tbody tr th:only-of-type {\n",
       "        vertical-align: middle;\n",
       "    }\n",
       "\n",
       "    .dataframe tbody tr th {\n",
       "        vertical-align: top;\n",
       "    }\n",
       "\n",
       "    .dataframe thead th {\n",
       "        text-align: right;\n",
       "    }\n",
       "</style>\n",
       "<table border=\"1\" class=\"dataframe\">\n",
       "  <thead>\n",
       "    <tr style=\"text-align: right;\">\n",
       "      <th></th>\n",
       "      <th>Coluna 1</th>\n",
       "      <th>Coluna 2</th>\n",
       "      <th>Coluna 3</th>\n",
       "      <th>Coluna 4</th>\n",
       "      <th>Coluna 5</th>\n",
       "      <th>Coluna 6</th>\n",
       "    </tr>\n",
       "  </thead>\n",
       "  <tbody>\n",
       "    <tr>\n",
       "      <th>130461</th>\n",
       "      <td>2016-12-31</td>\n",
       "      <td>Liz Azevedo Santos</td>\n",
       "      <td>Vendedor Pl.</td>\n",
       "      <td>Planet Express</td>\n",
       "      <td>PI</td>\n",
       "      <td>1829.39</td>\n",
       "    </tr>\n",
       "    <tr>\n",
       "      <th>130462</th>\n",
       "      <td>2016-12-31</td>\n",
       "      <td>Liz Azevedo Santos</td>\n",
       "      <td>Vendedor Pl.</td>\n",
       "      <td>Planet Express</td>\n",
       "      <td>PR</td>\n",
       "      <td>2378.48</td>\n",
       "    </tr>\n",
       "    <tr>\n",
       "      <th>130463</th>\n",
       "      <td>2016-12-31</td>\n",
       "      <td>Liz Azevedo Santos</td>\n",
       "      <td>Vendedor Pl.</td>\n",
       "      <td>Planet Express</td>\n",
       "      <td>RO</td>\n",
       "      <td>4488.47</td>\n",
       "    </tr>\n",
       "    <tr>\n",
       "      <th>130464</th>\n",
       "      <td>2016-12-31</td>\n",
       "      <td>Liz Azevedo Santos</td>\n",
       "      <td>Vendedor Pl.</td>\n",
       "      <td>Planet Express</td>\n",
       "      <td>RR</td>\n",
       "      <td>1543.66</td>\n",
       "    </tr>\n",
       "    <tr>\n",
       "      <th>130465</th>\n",
       "      <td>2016-12-31</td>\n",
       "      <td>Liz Azevedo Santos</td>\n",
       "      <td>Vendedor Pl.</td>\n",
       "      <td>Planet Express</td>\n",
       "      <td>SC</td>\n",
       "      <td>9820.71</td>\n",
       "    </tr>\n",
       "  </tbody>\n",
       "</table>\n",
       "</div>"
      ],
      "text/plain": [
       "         Coluna 1            Coluna 2      Coluna 3        Coluna 4 Coluna 5  \\\n",
       "130461 2016-12-31  Liz Azevedo Santos  Vendedor Pl.  Planet Express       PI   \n",
       "130462 2016-12-31  Liz Azevedo Santos  Vendedor Pl.  Planet Express       PR   \n",
       "130463 2016-12-31  Liz Azevedo Santos  Vendedor Pl.  Planet Express       RO   \n",
       "130464 2016-12-31  Liz Azevedo Santos  Vendedor Pl.  Planet Express       RR   \n",
       "130465 2016-12-31  Liz Azevedo Santos  Vendedor Pl.  Planet Express       SC   \n",
       "\n",
       "        Coluna 6  \n",
       "130461   1829.39  \n",
       "130462   2378.48  \n",
       "130463   4488.47  \n",
       "130464   1543.66  \n",
       "130465   9820.71  "
      ]
     },
     "execution_count": 63,
     "metadata": {},
     "output_type": "execute_result"
    }
   ],
   "source": [
    "# Vizualizando as últimas linhas\n",
    "vendas.tail()"
   ]
  },
  {
   "cell_type": "markdown",
   "metadata": {},
   "source": [
    "#### Escreva um programa para renomear o cabeçalho da tabela com os seguintes nomes: \n"
   ]
  },
  {
   "cell_type": "code",
   "execution_count": 67,
   "metadata": {},
   "outputs": [
    {
     "data": {
      "text/html": [
       "<div>\n",
       "<style scoped>\n",
       "    .dataframe tbody tr th:only-of-type {\n",
       "        vertical-align: middle;\n",
       "    }\n",
       "\n",
       "    .dataframe tbody tr th {\n",
       "        vertical-align: top;\n",
       "    }\n",
       "\n",
       "    .dataframe thead th {\n",
       "        text-align: right;\n",
       "    }\n",
       "</style>\n",
       "<table border=\"1\" class=\"dataframe\">\n",
       "  <thead>\n",
       "    <tr style=\"text-align: right;\">\n",
       "      <th></th>\n",
       "      <th>Data</th>\n",
       "      <th>Vendedor</th>\n",
       "      <th>Cargo</th>\n",
       "      <th>Cliente</th>\n",
       "      <th>UF</th>\n",
       "      <th>Vendas</th>\n",
       "    </tr>\n",
       "  </thead>\n",
       "  <tbody>\n",
       "    <tr>\n",
       "      <th>0</th>\n",
       "      <td>2014-01-01</td>\n",
       "      <td>Bernardo de Sousa</td>\n",
       "      <td>Supervisor de Vendas Pl</td>\n",
       "      <td>ACME</td>\n",
       "      <td>AL</td>\n",
       "      <td>3276.20</td>\n",
       "    </tr>\n",
       "    <tr>\n",
       "      <th>1</th>\n",
       "      <td>2014-01-01</td>\n",
       "      <td>Bernardo de Sousa</td>\n",
       "      <td>Supervisor de Vendas Pl</td>\n",
       "      <td>ACME</td>\n",
       "      <td>AP</td>\n",
       "      <td>3005.86</td>\n",
       "    </tr>\n",
       "    <tr>\n",
       "      <th>2</th>\n",
       "      <td>2014-01-01</td>\n",
       "      <td>Bernardo de Sousa</td>\n",
       "      <td>Supervisor de Vendas Pl</td>\n",
       "      <td>ACME</td>\n",
       "      <td>MA</td>\n",
       "      <td>8568.54</td>\n",
       "    </tr>\n",
       "    <tr>\n",
       "      <th>3</th>\n",
       "      <td>2014-01-01</td>\n",
       "      <td>Bernardo de Sousa</td>\n",
       "      <td>Supervisor de Vendas Pl</td>\n",
       "      <td>ACME</td>\n",
       "      <td>MG</td>\n",
       "      <td>1344.27</td>\n",
       "    </tr>\n",
       "    <tr>\n",
       "      <th>4</th>\n",
       "      <td>2014-01-01</td>\n",
       "      <td>Bernardo de Sousa</td>\n",
       "      <td>Supervisor de Vendas Pl</td>\n",
       "      <td>ACME</td>\n",
       "      <td>MS</td>\n",
       "      <td>7585.04</td>\n",
       "    </tr>\n",
       "  </tbody>\n",
       "</table>\n",
       "</div>"
      ],
      "text/plain": [
       "        Data           Vendedor                    Cargo Cliente  UF   Vendas\n",
       "0 2014-01-01  Bernardo de Sousa  Supervisor de Vendas Pl    ACME  AL  3276.20\n",
       "1 2014-01-01  Bernardo de Sousa  Supervisor de Vendas Pl    ACME  AP  3005.86\n",
       "2 2014-01-01  Bernardo de Sousa  Supervisor de Vendas Pl    ACME  MA  8568.54\n",
       "3 2014-01-01  Bernardo de Sousa  Supervisor de Vendas Pl    ACME  MG  1344.27\n",
       "4 2014-01-01  Bernardo de Sousa  Supervisor de Vendas Pl    ACME  MS  7585.04"
      ]
     },
     "execution_count": 67,
     "metadata": {},
     "output_type": "execute_result"
    }
   ],
   "source": [
    "# Renomeando o cabeçalho do dataframe\n",
    "\n",
    "vendas.columns = ['Data','Vendedor','Cargo','Cliente','UF','Vendas']\n",
    "\n",
    "vendas.head()"
   ]
  },
  {
   "cell_type": "markdown",
   "metadata": {},
   "source": [
    "#### Quais são os tipos de dados que temos no dataframe? \n",
    "#### Há valores faltantes ou nulos?"
   ]
  },
  {
   "cell_type": "code",
   "execution_count": 68,
   "metadata": {},
   "outputs": [
    {
     "name": "stdout",
     "output_type": "stream",
     "text": [
      "<class 'pandas.core.frame.DataFrame'>\n",
      "RangeIndex: 130466 entries, 0 to 130465\n",
      "Data columns (total 6 columns):\n",
      " #   Column    Non-Null Count   Dtype         \n",
      "---  ------    --------------   -----         \n",
      " 0   Data      130466 non-null  datetime64[ns]\n",
      " 1   Vendedor  130466 non-null  object        \n",
      " 2   Cargo     130466 non-null  object        \n",
      " 3   Cliente   130466 non-null  object        \n",
      " 4   UF        130466 non-null  object        \n",
      " 5   Vendas    130466 non-null  float64       \n",
      "dtypes: datetime64[ns](1), float64(1), object(4)\n",
      "memory usage: 6.0+ MB\n"
     ]
    }
   ],
   "source": [
    "vendas.info()\n",
    "# Nesse datainfo exite dados do tipo:\n",
    "# float;\n",
    "# object (String)\n",
    "\n",
    "# Não existe valores nulos"
   ]
  },
  {
   "cell_type": "markdown",
   "metadata": {},
   "source": [
    "#### Calcule a soma, média, máximo, mínimo e contagem da coluna Preço."
   ]
  },
  {
   "cell_type": "code",
   "execution_count": 69,
   "metadata": {},
   "outputs": [
    {
     "data": {
      "text/html": [
       "<div>\n",
       "<style scoped>\n",
       "    .dataframe tbody tr th:only-of-type {\n",
       "        vertical-align: middle;\n",
       "    }\n",
       "\n",
       "    .dataframe tbody tr th {\n",
       "        vertical-align: top;\n",
       "    }\n",
       "\n",
       "    .dataframe thead th {\n",
       "        text-align: right;\n",
       "    }\n",
       "</style>\n",
       "<table border=\"1\" class=\"dataframe\">\n",
       "  <thead>\n",
       "    <tr style=\"text-align: right;\">\n",
       "      <th></th>\n",
       "      <th>Vendas</th>\n",
       "    </tr>\n",
       "  </thead>\n",
       "  <tbody>\n",
       "    <tr>\n",
       "      <th>count</th>\n",
       "      <td>130466.000000</td>\n",
       "    </tr>\n",
       "    <tr>\n",
       "      <th>mean</th>\n",
       "      <td>5507.194282</td>\n",
       "    </tr>\n",
       "    <tr>\n",
       "      <th>std</th>\n",
       "      <td>2598.113042</td>\n",
       "    </tr>\n",
       "    <tr>\n",
       "      <th>min</th>\n",
       "      <td>1000.010000</td>\n",
       "    </tr>\n",
       "    <tr>\n",
       "      <th>25%</th>\n",
       "      <td>3258.312500</td>\n",
       "    </tr>\n",
       "    <tr>\n",
       "      <th>50%</th>\n",
       "      <td>5509.190000</td>\n",
       "    </tr>\n",
       "    <tr>\n",
       "      <th>75%</th>\n",
       "      <td>7759.095000</td>\n",
       "    </tr>\n",
       "    <tr>\n",
       "      <th>max</th>\n",
       "      <td>10000.000000</td>\n",
       "    </tr>\n",
       "  </tbody>\n",
       "</table>\n",
       "</div>"
      ],
      "text/plain": [
       "              Vendas\n",
       "count  130466.000000\n",
       "mean     5507.194282\n",
       "std      2598.113042\n",
       "min      1000.010000\n",
       "25%      3258.312500\n",
       "50%      5509.190000\n",
       "75%      7759.095000\n",
       "max     10000.000000"
      ]
     },
     "execution_count": 69,
     "metadata": {},
     "output_type": "execute_result"
    }
   ],
   "source": [
    "vendas.describe()"
   ]
  },
  {
   "cell_type": "markdown",
   "metadata": {},
   "source": [
    "#### Crie um programa para criar um dataframe para mostrar as vendas por cargo, e salvar um arquivo em csv para com o nome de cada cargo:"
   ]
  },
  {
   "cell_type": "code",
   "execution_count": 113,
   "metadata": {},
   "outputs": [],
   "source": [
    "#nomeCargo = vendas.loc[:,['Cargo','Vendas']]  Esse é uma outra forma de selecionar colunas\n",
    "\n",
    "nomeCargo = vendas[vendas['Cargo'] == 'Supervisor de Vendas Pl']\n",
    "\n",
    "caminho_destino = 'C:\\\\fundamentos-Big-data-SENAI-Python\\\\cadaCargo\\\\'\n",
    "arquivo_final = 'Supervisor de Vendas Pl.csv'\n",
    "\n",
    "nomeCargo.to_csv(caminho_destino + arquivo_final)"
   ]
  },
  {
   "cell_type": "code",
   "execution_count": 114,
   "metadata": {},
   "outputs": [],
   "source": [
    "nomeCargo = vendas[vendas['Cargo'] == 'Gerente Regional Jr.']\n",
    "\n",
    "caminho_destino = 'C:\\\\fundamentos-Big-data-SENAI-Python\\\\cadaCargo\\\\'\n",
    "arquivo_final = 'Gerente Regional Jr..csv'\n",
    "\n",
    "nomeCargo.to_csv(caminho_destino + arquivo_final)"
   ]
  },
  {
   "cell_type": "code",
   "execution_count": 116,
   "metadata": {},
   "outputs": [],
   "source": [
    "nomeCargo = vendas[vendas['Cargo'] == 'Supervisor de Vendas Sr']\n",
    "\n",
    "caminho_destino = 'C:\\\\fundamentos-Big-data-SENAI-Python\\\\cadaCargo\\\\'\n",
    "arquivo_final = 'Supervisor de Vendas Sr.csv'\n",
    "\n",
    "nomeCargo.to_csv(caminho_destino + arquivo_final)"
   ]
  },
  {
   "cell_type": "code",
   "execution_count": 118,
   "metadata": {},
   "outputs": [],
   "source": [
    "nomeCargo = vendas[vendas['Cargo'] == 'Coordenador de Vendas Pl.']\n",
    "\n",
    "caminho_destino = 'C:\\\\fundamentos-Big-data-SENAI-Python\\\\cadaCargo\\\\'\n",
    "arquivo_final = 'Coordenador de Vendas Pl..csv'\n",
    "\n",
    "nomeCargo.to_csv(caminho_destino + arquivo_final)"
   ]
  },
  {
   "cell_type": "code",
   "execution_count": 120,
   "metadata": {},
   "outputs": [],
   "source": [
    "nomeCargo = vendas[vendas['Cargo'] == 'Vendedor Jr.']\n",
    "\n",
    "caminho_destino = 'C:\\\\fundamentos-Big-data-SENAI-Python\\\\cadaCargo\\\\'\n",
    "arquivo_final = 'Vendedor Jr..csv'\n",
    "\n",
    "nomeCargo.to_csv(caminho_destino + arquivo_final)"
   ]
  },
  {
   "cell_type": "code",
   "execution_count": 122,
   "metadata": {},
   "outputs": [],
   "source": [
    "nomeCargo = vendas[vendas['Cargo'] == 'Vendedor Sr.']\n",
    "\n",
    "caminho_destino = 'C:\\\\fundamentos-Big-data-SENAI-Python\\\\cadaCargo\\\\'\n",
    "arquivo_final = 'Vendedor Sr..csv'\n",
    "\n",
    "nomeCargo.to_csv(caminho_destino + arquivo_final)"
   ]
  },
  {
   "cell_type": "code",
   "execution_count": 124,
   "metadata": {},
   "outputs": [],
   "source": [
    "nomeCargo = vendas[vendas['Cargo'] == 'Vendedor Pl.']\n",
    "\n",
    "caminho_destino = 'C:\\\\fundamentos-Big-data-SENAI-Python\\\\cadaCargo\\\\'\n",
    "arquivo_final = 'Vendedor Pl..csv'\n",
    "\n",
    "nomeCargo.to_csv(caminho_destino + arquivo_final)"
   ]
  },
  {
   "cell_type": "code",
   "execution_count": 126,
   "metadata": {},
   "outputs": [],
   "source": [
    "nomeCargo = vendas[vendas['Cargo'] == 'Gerente Regional Pl.']\n",
    "\n",
    "caminho_destino = 'C:\\\\fundamentos-Big-data-SENAI-Python\\\\cadaCargo\\\\'\n",
    "arquivo_final = 'Gerente Regional Pl..csv'\n",
    "\n",
    "nomeCargo.to_csv(caminho_destino + arquivo_final)"
   ]
  },
  {
   "cell_type": "code",
   "execution_count": 127,
   "metadata": {},
   "outputs": [],
   "source": [
    "nomeCargo = vendas[vendas['Cargo'] == 'Coordenador de Vendas Sr.']\n",
    "\n",
    "caminho_destino = 'C:\\\\fundamentos-Big-data-SENAI-Python\\\\cadaCargo\\\\'\n",
    "arquivo_final = 'Coordenador de Vendas Sr..csv'\n",
    "\n",
    "nomeCargo.to_csv(caminho_destino + arquivo_final)"
   ]
  },
  {
   "cell_type": "code",
   "execution_count": 128,
   "metadata": {},
   "outputs": [],
   "source": [
    "nomeCargo = vendas[vendas['Cargo'] == 'Coordenador de Vendas Jr.']\n",
    "\n",
    "caminho_destino = 'C:\\\\fundamentos-Big-data-SENAI-Python\\\\cadaCargo\\\\'\n",
    "arquivo_final = 'Coordenador de Vendas Jr..csv'\n",
    "\n",
    "nomeCargo.to_csv(caminho_destino + arquivo_final)"
   ]
  },
  {
   "cell_type": "code",
   "execution_count": 129,
   "metadata": {},
   "outputs": [],
   "source": [
    "nomeCargo = vendas[vendas['Cargo'] == 'Supervisor de Vendas Jr.']\n",
    "\n",
    "caminho_destino = 'C:\\\\fundamentos-Big-data-SENAI-Python\\\\cadaCargo\\\\'\n",
    "arquivo_final = 'Supervisor de Vendas Jr..csv'\n",
    "\n",
    "nomeCargo.to_csv(caminho_destino + arquivo_final)"
   ]
  },
  {
   "cell_type": "markdown",
   "metadata": {},
   "source": [
    " #### Crie um dataframe para cada coluna, contendo dados únicos."
   ]
  },
  {
   "cell_type": "code",
   "execution_count": 144,
   "metadata": {},
   "outputs": [
    {
     "data": {
      "text/plain": [
       "0        2014-01-01\n",
       "1        2014-01-01\n",
       "2        2014-01-01\n",
       "3        2014-01-01\n",
       "4        2014-01-01\n",
       "            ...    \n",
       "130461   2016-12-31\n",
       "130462   2016-12-31\n",
       "130463   2016-12-31\n",
       "130464   2016-12-31\n",
       "130465   2016-12-31\n",
       "Name: Data, Length: 130466, dtype: datetime64[ns]"
      ]
     },
     "execution_count": 144,
     "metadata": {},
     "output_type": "execute_result"
    }
   ],
   "source": [
    "# Imprimindo a coluna Data\n",
    "vendas['Data']"
   ]
  },
  {
   "cell_type": "code",
   "execution_count": 148,
   "metadata": {},
   "outputs": [
    {
     "data": {
      "text/plain": [
       "0          Bernardo de Sousa\n",
       "1          Bernardo de Sousa\n",
       "2          Bernardo de Sousa\n",
       "3          Bernardo de Sousa\n",
       "4          Bernardo de Sousa\n",
       "                 ...        \n",
       "130461    Liz Azevedo Santos\n",
       "130462    Liz Azevedo Santos\n",
       "130463    Liz Azevedo Santos\n",
       "130464    Liz Azevedo Santos\n",
       "130465    Liz Azevedo Santos\n",
       "Name: Vendedor, Length: 130466, dtype: object"
      ]
     },
     "execution_count": 148,
     "metadata": {},
     "output_type": "execute_result"
    }
   ],
   "source": [
    "# Imprimindo a coluna Vendedor\n",
    "vendas['Vendedor']"
   ]
  },
  {
   "cell_type": "code",
   "execution_count": 150,
   "metadata": {},
   "outputs": [
    {
     "data": {
      "text/plain": [
       "0         Supervisor de Vendas Pl\n",
       "1         Supervisor de Vendas Pl\n",
       "2         Supervisor de Vendas Pl\n",
       "3         Supervisor de Vendas Pl\n",
       "4         Supervisor de Vendas Pl\n",
       "                   ...           \n",
       "130461               Vendedor Pl.\n",
       "130462               Vendedor Pl.\n",
       "130463               Vendedor Pl.\n",
       "130464               Vendedor Pl.\n",
       "130465               Vendedor Pl.\n",
       "Name: Cargo, Length: 130466, dtype: object"
      ]
     },
     "execution_count": 150,
     "metadata": {},
     "output_type": "execute_result"
    }
   ],
   "source": [
    "# Impriimindo a coluna Cargo\n",
    "vendas['Cargo']"
   ]
  },
  {
   "cell_type": "code",
   "execution_count": 152,
   "metadata": {},
   "outputs": [
    {
     "data": {
      "text/plain": [
       "0                   ACME\n",
       "1                   ACME\n",
       "2                   ACME\n",
       "3                   ACME\n",
       "4                   ACME\n",
       "               ...      \n",
       "130461    Planet Express\n",
       "130462    Planet Express\n",
       "130463    Planet Express\n",
       "130464    Planet Express\n",
       "130465    Planet Express\n",
       "Name: Cliente, Length: 130466, dtype: object"
      ]
     },
     "execution_count": 152,
     "metadata": {},
     "output_type": "execute_result"
    }
   ],
   "source": [
    "# Imprimindo a coluna Cliente\n",
    " \n",
    "vendas['Cliente']"
   ]
  },
  {
   "cell_type": "code",
   "execution_count": 153,
   "metadata": {},
   "outputs": [
    {
     "data": {
      "text/plain": [
       "0         AL\n",
       "1         AP\n",
       "2         MA\n",
       "3         MG\n",
       "4         MS\n",
       "          ..\n",
       "130461    PI\n",
       "130462    PR\n",
       "130463    RO\n",
       "130464    RR\n",
       "130465    SC\n",
       "Name: UF, Length: 130466, dtype: object"
      ]
     },
     "execution_count": 153,
     "metadata": {},
     "output_type": "execute_result"
    }
   ],
   "source": [
    "# Imprimindo a coluna UF\n",
    "\n",
    "vendas['UF']"
   ]
  },
  {
   "cell_type": "code",
   "execution_count": 155,
   "metadata": {},
   "outputs": [
    {
     "data": {
      "text/plain": [
       "0         3276.20\n",
       "1         3005.86\n",
       "2         8568.54\n",
       "3         1344.27\n",
       "4         7585.04\n",
       "           ...   \n",
       "130461    1829.39\n",
       "130462    2378.48\n",
       "130463    4488.47\n",
       "130464    1543.66\n",
       "130465    9820.71\n",
       "Name: Vendas, Length: 130466, dtype: float64"
      ]
     },
     "execution_count": 155,
     "metadata": {},
     "output_type": "execute_result"
    }
   ],
   "source": [
    "# Imprimindo a coluna Vendas\n",
    "\n",
    "vendas['Vendas']"
   ]
  }
 ],
 "metadata": {
  "kernelspec": {
   "display_name": "Python 3",
   "language": "python",
   "name": "python3"
  },
  "language_info": {
   "codemirror_mode": {
    "name": "ipython",
    "version": 3
   },
   "file_extension": ".py",
   "mimetype": "text/x-python",
   "name": "python",
   "nbconvert_exporter": "python",
   "pygments_lexer": "ipython3",
   "version": "3.10.10"
  }
 },
 "nbformat": 4,
 "nbformat_minor": 2
}
