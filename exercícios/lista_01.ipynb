{
 "cells": [
  {
   "cell_type": "markdown",
   "metadata": {},
   "source": [
    "#### Exercício 01 – Crie um programa para receber dois valores e em seguida, exiba o valor da soma"
   ]
  },
  {
   "cell_type": "code",
   "execution_count": 3,
   "metadata": {},
   "outputs": [
    {
     "name": "stdout",
     "output_type": "stream",
     "text": [
      "A soma do número 10 mais o número 5 é igual a 15.\n"
     ]
    }
   ],
   "source": [
    "num1 = 10\n",
    "num2 = 5\n",
    "soma = num1 + num2\n",
    "print(f'A soma do número {num1} mais o número {num2} é igual a {soma}.')"
   ]
  },
  {
   "cell_type": "markdown",
   "metadata": {},
   "source": [
    "#### Exercício 02 – Crie um programa para receber dois valores e em seguida, exiba o valor da diferença entre eles."
   ]
  },
  {
   "cell_type": "code",
   "execution_count": 4,
   "metadata": {},
   "outputs": [
    {
     "name": "stdout",
     "output_type": "stream",
     "text": [
      "A diferença entre o número 10 e o número 5 é igual a 5.\n"
     ]
    }
   ],
   "source": [
    "num1 = 10\n",
    "num2 = 5\n",
    "diferenca = num1 - num2\n",
    "print(f'A diferença entre o número {num1} e o número {num2} é igual a {diferenca}.')"
   ]
  },
  {
   "cell_type": "markdown",
   "metadata": {},
   "source": [
    "#### Exercício 03 – Crie um programa para receber dois valores e em seguida, exiba o produto entre eles"
   ]
  },
  {
   "cell_type": "code",
   "execution_count": 5,
   "metadata": {},
   "outputs": [
    {
     "name": "stdout",
     "output_type": "stream",
     "text": [
      "O produto é 50.\n"
     ]
    }
   ],
   "source": [
    "num1 = 10\n",
    "num2 = 5 \n",
    "produto = num1 * num2 \n",
    "print(f'O produto é {produto}.')"
   ]
  },
  {
   "cell_type": "markdown",
   "metadata": {},
   "source": [
    "#### Exercício 04 - Crie um programa para receber dois valores e em seguida, exiba o quociente entre eles."
   ]
  },
  {
   "cell_type": "code",
   "execution_count": 6,
   "metadata": {},
   "outputs": [
    {
     "name": "stdout",
     "output_type": "stream",
     "text": [
      "2.0\n"
     ]
    }
   ],
   "source": [
    "num1 = 10\n",
    "num2 = 5\n",
    "quociente = num1 / num2\n",
    "print(quociente)"
   ]
  },
  {
   "cell_type": "markdown",
   "metadata": {},
   "source": [
    "#### Exercício 05 - Crie um programa para receber dois valores e em seguida, exiba o resto da divisão entre eles.\n"
   ]
  },
  {
   "cell_type": "code",
   "execution_count": 7,
   "metadata": {},
   "outputs": [
    {
     "name": "stdout",
     "output_type": "stream",
     "text": [
      "1\n"
     ]
    }
   ],
   "source": [
    "num1 = 10\n",
    "num2 = 3\n",
    "resto = num1 % num2\n",
    "print(resto)"
   ]
  },
  {
   "cell_type": "markdown",
   "metadata": {},
   "source": [
    "#### Exercício 06 - Crie um programa para receber um número e em seguida, exiba o quadrado dele."
   ]
  },
  {
   "cell_type": "code",
   "execution_count": 8,
   "metadata": {},
   "outputs": [
    {
     "name": "stdout",
     "output_type": "stream",
     "text": [
      "25\n"
     ]
    }
   ],
   "source": [
    "num = 5\n",
    "quadrado = num ** 2\n",
    "print(quadrado)"
   ]
  },
  {
   "cell_type": "markdown",
   "metadata": {},
   "source": [
    "#### Exercício 07 – Elabora um programa para calcular a raiz quadrada de um número, utilizando a biblioteca math."
   ]
  },
  {
   "cell_type": "code",
   "execution_count": 9,
   "metadata": {},
   "outputs": [
    {
     "name": "stdout",
     "output_type": "stream",
     "text": [
      "5.0\n"
     ]
    }
   ],
   "source": [
    "import math\n",
    "num = 25\n",
    "raiz_quadrada = math.sqrt(num)\n",
    "print(raiz_quadrada)"
   ]
  },
  {
   "cell_type": "markdown",
   "metadata": {},
   "source": [
    "#### Exercício 08 – Crie um programa que seja capaz de calcular o valor absoluto de um número."
   ]
  },
  {
   "cell_type": "code",
   "execution_count": 10,
   "metadata": {},
   "outputs": [
    {
     "name": "stdout",
     "output_type": "stream",
     "text": [
      "5\n"
     ]
    }
   ],
   "source": [
    "num = -5\n",
    "absoluto = abs(num)\n",
    "print(absoluto)"
   ]
  },
  {
   "cell_type": "markdown",
   "metadata": {},
   "source": [
    "#### Exercício 09 - Atribua os seguintes valores às variáveis, um a um: \n",
    "#### 1) Quais são os tipos das variáveis acima?\n",
    "#### 2) Faça uma atribuição múltipla das variáveis do exercício 2."
   ]
  },
  {
   "cell_type": "code",
   "execution_count": 11,
   "metadata": {},
   "outputs": [
    {
     "name": "stdout",
     "output_type": "stream",
     "text": [
      "A variável 347 tem o tipo <class 'int'>\n",
      "A variável 2.71 tem o tipo <class 'float'>\n",
      "A variável 347 tem o tipo <class 'str'>\n",
      "A variável (2+3j) tem o tipo <class 'complex'>\n"
     ]
    }
   ],
   "source": [
    "a = 347\n",
    "b = 2.71\n",
    "c = '347'\n",
    "d = 2 + 3j\n",
    "\n",
    "print(f'A variável {a} tem o tipo', type(a))\n",
    "print(f'A variável {b} tem o tipo', type(b))\n",
    "print(f'A variável {c} tem o tipo', type(c))\n",
    "print(f'A variável {d} tem o tipo', type(d))\n"
   ]
  },
  {
   "cell_type": "markdown",
   "metadata": {},
   "source": [
    "#### Exercício 10 - Faça um Programa que converta metros para centímetros."
   ]
  },
  {
   "cell_type": "code",
   "execution_count": 12,
   "metadata": {},
   "outputs": [
    {
     "name": "stdout",
     "output_type": "stream",
     "text": [
      "A conversão de 1 metro em centímetros é igual a 100 centímetros.\n"
     ]
    }
   ],
   "source": [
    "num1 = 1\n",
    "num2 = 100\n",
    "conversor = num1 * num2 \n",
    "print(f'A conversão de {num1} metro em centímetros é igual a {conversor} centímetros.')"
   ]
  },
  {
   "cell_type": "markdown",
   "metadata": {},
   "source": [
    "#### Exercício 11 - Faça um Programa que peça o raio de um círculo, calcule e mostre sua área.\n"
   ]
  },
  {
   "cell_type": "code",
   "execution_count": 13,
   "metadata": {},
   "outputs": [
    {
     "name": "stdout",
     "output_type": "stream",
     "text": [
      "314.0\n"
     ]
    }
   ],
   "source": [
    "raio = int(input('Digite um número para calcular o raio: '))\n",
    "area = 3.14 * raio ** 2\n",
    "print(area)"
   ]
  },
  {
   "cell_type": "markdown",
   "metadata": {},
   "source": [
    "### Exercício 12 - Faça um Programa que calcule a área de um quadrado, em seguida mostre o dobro desta área para o usuário."
   ]
  },
  {
   "cell_type": "code",
   "execution_count": 14,
   "metadata": {},
   "outputs": [
    {
     "name": "stdout",
     "output_type": "stream",
     "text": [
      "O dobro dessa área é 200 m²\n"
     ]
    }
   ],
   "source": [
    "area = int(input('Digite um número para calcular a área de um quadrado: '))\n",
    "areaQuadrado = area ** 2\n",
    "dobro = areaQuadrado * 2\n",
    "print(f'O dobro dessa área é {dobro} m²')"
   ]
  },
  {
   "cell_type": "markdown",
   "metadata": {},
   "source": [
    "#### Exercício 13 - Faça um Programa que pergunte quanto você ganha por hora e o número de horas trabalhadas no mês. Calcule e mostre o total do seu salário no referido mês"
   ]
  },
  {
   "cell_type": "code",
   "execution_count": 15,
   "metadata": {},
   "outputs": [
    {
     "name": "stdout",
     "output_type": "stream",
     "text": [
      "O salário do mês referido é 100.0.\n"
     ]
    }
   ],
   "source": [
    "valorHora = float(input('Digite o valor da hora trabalhada: '))\n",
    "horasMes = int(input('Quantas horas foram trabalhadas no mês: '))\n",
    "totalSalario = valorHora * horasMes\n",
    "print(f'O salário do mês referido é {totalSalario}.')"
   ]
  },
  {
   "cell_type": "markdown",
   "metadata": {},
   "source": [
    "#### Exercício 14 - Faça um Programa que peça a temperatura em graus Fahrenheit, transforme e mostre a temperatura em graus Celsius.\n"
   ]
  },
  {
   "cell_type": "code",
   "execution_count": 16,
   "metadata": {},
   "outputs": [
    {
     "name": "stdout",
     "output_type": "stream",
     "text": [
      "A conversão de Fahrenheit 10.0 para Celsius é -0.5555555555555556 \n"
     ]
    }
   ],
   "source": [
    "temfahrenheit = float(input('Digite a temperatura em Fahrenheit: '))\n",
    "celsius = (31 -32) * 5/9\n",
    "print(f'A conversão de Fahrenheit {temfahrenheit} para Celsius é {celsius} ')"
   ]
  },
  {
   "cell_type": "markdown",
   "metadata": {},
   "source": [
    "#### Exercício 15 - Faça um Programa que peça a temperatura em graus Celsius, transforme e mostre em graus Fahrenheit\n"
   ]
  },
  {
   "cell_type": "code",
   "execution_count": 17,
   "metadata": {},
   "outputs": [
    {
     "name": "stdout",
     "output_type": "stream",
     "text": [
      "A conversão de Celsius 10 para Fahrenheit 50.0.\n"
     ]
    }
   ],
   "source": [
    "celsius = int(input('Digite a temperatura em Celsius: '))\n",
    "fahrenhet = (celsius * 9/5) + 32\n",
    "print(f'A conversão de Celsius {celsius} para Fahrenheit {fahrenhet}.')"
   ]
  },
  {
   "cell_type": "markdown",
   "metadata": {},
   "source": [
    "#### Exercício 16 - Faça um Programa que peça 2 números inteiros e um número real. Calcule e mostre:\n",
    "\n",
    "#### a) o produto do dobro do primeiro com metade do segundo.\n",
    "#### b) a soma do triplo do primeiro com o terceiro.\n",
    "#### c) o terceiro elevado ao cubo.\n"
   ]
  },
  {
   "cell_type": "code",
   "execution_count": 19,
   "metadata": {},
   "outputs": [],
   "source": [
    "#num1 = int(input('Digite um número inteiro: '))\n",
    "#num2 = int(input('Digite outro número inteiro: '))\n",
    "#numReal = "
   ]
  },
  {
   "cell_type": "markdown",
   "metadata": {},
   "source": [
    "#### Exercício 17 - João Papo-de-Pescador, homem de bem, comprou um microcomputador para controlar o rendimento diário de seu trabalho. Toda vez que ele traz um peso de peixes maior que o estabelecido pelo regulamento de pesca do estado de São Paulo (50 quilos) deve pagar uma multa de R$ 4,00 por quilo excedente. João precisa que você faça um programa que leia a variável peso (peso de peixes) e calcule o excesso.Gravar na variável excesso a quantidade de quilos além do limite e na variável multa o valor da multa que João deverá pagar. Imprima os dados do programa com as mensagens adequadas."
   ]
  },
  {
   "cell_type": "code",
   "execution_count": 33,
   "metadata": {},
   "outputs": [
    {
     "name": "stdout",
     "output_type": "stream",
     "text": [
      "O valor total a ser pago pelo João R$ 8.0\n"
     ]
    }
   ],
   "source": [
    "peso = float(input('Digite qual é o peso do peixe: '))\n",
    "excesso = peso - 50\n",
    "multa = 4 * excesso\n",
    "\n",
    "print(f'O valor total a ser pago pelo João R$ {multa}')"
   ]
  }
 ],
 "metadata": {
  "kernelspec": {
   "display_name": "Python 3",
   "language": "python",
   "name": "python3"
  },
  "language_info": {
   "codemirror_mode": {
    "name": "ipython",
    "version": 3
   },
   "file_extension": ".py",
   "mimetype": "text/x-python",
   "name": "python",
   "nbconvert_exporter": "python",
   "pygments_lexer": "ipython3",
   "version": "3.10.11"
  },
  "orig_nbformat": 4
 },
 "nbformat": 4,
 "nbformat_minor": 2
}
