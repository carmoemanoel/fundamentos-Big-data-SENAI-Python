{
 "cells": [
  {
   "cell_type": "markdown",
   "metadata": {},
   "source": [
    "#### Exercício 06 - \n",
    "Faça um programa que imprima na tela os números de 1 a 20, um abaixodo outro.\n",
    "Depois modifique o programa para que ele mostre os números um ao lado do\n",
    "outro."
   ]
  },
  {
   "cell_type": "code",
   "execution_count": 16,
   "metadata": {},
   "outputs": [
    {
     "name": "stdout",
     "output_type": "stream",
     "text": [
      "1\n",
      "2\n",
      "3\n",
      "4\n",
      "5\n",
      "6\n",
      "7\n",
      "8\n",
      "9\n",
      "10\n",
      "11\n",
      "12\n",
      "13\n",
      "14\n",
      "15\n",
      "16\n",
      "17\n",
      "18\n",
      "19\n",
      "20\n"
     ]
    }
   ],
   "source": [
    "# Imprimindo número de 01 à 20\n",
    "\n",
    "listaNumero = range(1,21)\n",
    "\n",
    "for c in listaNumero:\n",
    "    print(c)\n",
    "\n"
   ]
  },
  {
   "cell_type": "code",
   "execution_count": 19,
   "metadata": {},
   "outputs": [
    {
     "name": "stdout",
     "output_type": "stream",
     "text": [
      "[1, 2, 3, 4, 5, 6, 7, 8, 9, 10, 11, 12, 13, 14, 15, 16, 17, 18, 19, 20]\n"
     ]
    }
   ],
   "source": [
    "listaNumero = range(1,21)\n",
    "lista = []\n",
    "\n",
    "for i in listaNumero:\n",
    "    lista.append(i)\n",
    "print(lista)"
   ]
  },
  {
   "cell_type": "markdown",
   "metadata": {},
   "source": [
    "#### #### Exercício 08 \n",
    "Faça um programa que leia 5 números e informe a soma e a média dos\n",
    "números."
   ]
  },
  {
   "cell_type": "code",
   "execution_count": 50,
   "metadata": {},
   "outputs": [
    {
     "name": "stdout",
     "output_type": "stream",
     "text": [
      "[1, 2, 3, 4, 5]\n",
      "\n",
      "1\n",
      "3\n",
      "6\n",
      "10\n",
      "15\n",
      "\n",
      "A média dos números gerados e somados na lista são: 3.0\n",
      "\n",
      "A soma dos valores é 277, e a média é 55.4.\n"
     ]
    }
   ],
   "source": [
    "# Armazenando 05 números em uma lista\n",
    "num  = range(1,6)\n",
    "lista = []\n",
    "for i in num:\n",
    "    lista.append(i)\n",
    "print(lista)\n",
    "\n",
    "print()\n",
    "\n",
    "# Somando esse cinco números gerados que estão contidos na lista\n",
    "soma = 0\n",
    "for i in lista:\n",
    "    soma += i\n",
    "    print(soma)\n",
    "\n",
    "print()\n",
    "\n",
    "media = soma / 5 \n",
    "print('A média dos números gerados e somados na lista são:',media)\n",
    "\n",
    "\n",
    "listaNumero = [20,35,58,65,99]\n",
    "soma = 0\n",
    "\n",
    "qtdElemento = len(listaNumero)\n",
    "\n",
    "for num in listaNumero:\n",
    "    soma += num\n",
    "\n",
    "media = soma / qtdElemento\n",
    "print()\n",
    "print(f'A soma dos valores é {soma}, e a média é {media}.')\n",
    "\n",
    "\n"
   ]
  },
  {
   "cell_type": "markdown",
   "metadata": {},
   "source": [
    "#### Exercício 09\n",
    "Faça um programa que imprima na tela apenas os números ímpares\n",
    "entre 1 e 50."
   ]
  },
  {
   "cell_type": "code",
   "execution_count": 52,
   "metadata": {},
   "outputs": [
    {
     "name": "stdout",
     "output_type": "stream",
     "text": [
      "[1, 2, 3, 4, 5, 6, 7, 8, 9, 10, 11, 12, 13, 14, 15, 16, 17, 18, 19, 20, 21, 22, 23, 24, 25, 26, 27, 28, 29, 30, 31, 32, 33, 34, 35, 36, 37, 38, 39, 40, 41, 42, 43, 44, 45, 46, 47, 48, 49, 50]\n"
     ]
    }
   ],
   "source": [
    "num  = range(1,51)\n",
    "lista = []\n",
    "for i in num:\n",
    "    lista.append(i)\n",
    "print(lista)\n",
    "\n"
   ]
  },
  {
   "cell_type": "markdown",
   "metadata": {},
   "source": [
    "#### Exercício 10 \n",
    "Faça um programa que receba dois números inteiros e gere os números\n",
    "inteiros que estão no intervalo compreendido por eles."
   ]
  },
  {
   "cell_type": "code",
   "execution_count": null,
   "metadata": {},
   "outputs": [],
   "source": []
  }
 ],
 "metadata": {
  "kernelspec": {
   "display_name": "Python 3",
   "language": "python",
   "name": "python3"
  },
  "language_info": {
   "codemirror_mode": {
    "name": "ipython",
    "version": 3
   },
   "file_extension": ".py",
   "mimetype": "text/x-python",
   "name": "python",
   "nbconvert_exporter": "python",
   "pygments_lexer": "ipython3",
   "version": "3.11.0"
  }
 },
 "nbformat": 4,
 "nbformat_minor": 2
}
