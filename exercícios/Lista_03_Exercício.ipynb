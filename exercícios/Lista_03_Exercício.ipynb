{
 "cells": [
  {
   "cell_type": "markdown",
   "metadata": {},
   "source": [
    "#### Exercício 06 - \n",
    "Faça um programa que imprima na tela os números de 1 a 20, um abaixodo outro.\n",
    "Depois modifique o programa para que ele mostre os números um ao lado do\n",
    "outro."
   ]
  },
  {
   "cell_type": "code",
   "execution_count": 81,
   "metadata": {},
   "outputs": [
    {
     "name": "stdout",
     "output_type": "stream",
     "text": [
      "1\n",
      "2\n",
      "3\n",
      "4\n",
      "5\n",
      "6\n",
      "7\n",
      "8\n",
      "9\n",
      "10\n",
      "11\n",
      "12\n",
      "13\n",
      "14\n",
      "15\n",
      "16\n",
      "17\n",
      "18\n",
      "19\n",
      "20\n"
     ]
    }
   ],
   "source": [
    "# Imprimindo número de 01 à 20\n",
    "\n",
    "listaNumero = range(1,21)\n",
    "\n",
    "for c in listaNumero:\n",
    "    print(c)\n",
    "\n"
   ]
  },
  {
   "cell_type": "code",
   "execution_count": 82,
   "metadata": {},
   "outputs": [
    {
     "name": "stdout",
     "output_type": "stream",
     "text": [
      "[1, 2, 3, 4, 5, 6, 7, 8, 9, 10, 11, 12, 13, 14, 15, 16, 17, 18, 19, 20]\n"
     ]
    }
   ],
   "source": [
    "listaNumero = range(1,21)\n",
    "lista = []\n",
    "\n",
    "for i in listaNumero:\n",
    "    lista.append(i)\n",
    "print(lista)"
   ]
  },
  {
   "cell_type": "markdown",
   "metadata": {},
   "source": [
    "#### #### Exercício 08 \n",
    "Faça um programa que leia 5 números e informe a soma e a média dos\n",
    "números."
   ]
  },
  {
   "cell_type": "code",
   "execution_count": 83,
   "metadata": {},
   "outputs": [
    {
     "name": "stdout",
     "output_type": "stream",
     "text": [
      "[1, 2, 3, 4, 5]\n",
      "\n",
      "1\n",
      "3\n",
      "6\n",
      "10\n",
      "15\n",
      "\n",
      "A média dos números gerados e somados na lista são: 3.0\n",
      "\n",
      "A soma dos valores é 277, e a média é 55.4.\n"
     ]
    }
   ],
   "source": [
    "# Armazenando 05 números em uma lista\n",
    "num  = range(1,6)\n",
    "lista = []\n",
    "for i in num:\n",
    "    lista.append(i)\n",
    "print(lista)\n",
    "\n",
    "print()\n",
    "\n",
    "# Somando esse cinco números gerados que estão contidos na lista\n",
    "soma = 0\n",
    "for i in lista:\n",
    "    soma += i\n",
    "    print(soma)\n",
    "\n",
    "print()\n",
    "\n",
    "media = soma / 5 \n",
    "print('A média dos números gerados e somados na lista são:',media)\n",
    "\n",
    "\n",
    "listaNumero = [20,35,58,65,99]\n",
    "soma = 0\n",
    "\n",
    "qtdElemento = len(listaNumero)\n",
    "\n",
    "for num in listaNumero:\n",
    "    soma += num\n",
    "\n",
    "media = soma / qtdElemento\n",
    "print()\n",
    "print(f'A soma dos valores é {soma}, e a média é {media}.')\n",
    "\n",
    "\n"
   ]
  },
  {
   "cell_type": "markdown",
   "metadata": {},
   "source": [
    "#### Exercício 09\n",
    "Faça um programa que imprima na tela apenas os números ímpares\n",
    "entre 1 e 50."
   ]
  },
  {
   "cell_type": "code",
   "execution_count": 84,
   "metadata": {},
   "outputs": [
    {
     "name": "stdout",
     "output_type": "stream",
     "text": [
      "[1, 3, 5, 7, 9, 11, 13, 15, 17, 19, 21, 23, 25, 27, 29, 31, 33, 35, 37, 39, 41, 43, 45, 47, 49]\n"
     ]
    }
   ],
   "source": [
    "# Imprimindo os números impar de um intervalo pré definido\n",
    "num  = range(1,51)\n",
    "lista = []\n",
    "for i in num:\n",
    "    if i % 2 !=0:\n",
    "        lista.append(i)\n",
    "    \n",
    "print(lista)\n",
    "\n"
   ]
  },
  {
   "cell_type": "markdown",
   "metadata": {},
   "source": [
    "#### Exercício 10 \n",
    "Faça um programa que receba dois números inteiros e gere os números\n",
    "inteiros que estão no intervalo compreendido por eles."
   ]
  },
  {
   "cell_type": "code",
   "execution_count": 85,
   "metadata": {},
   "outputs": [
    {
     "name": "stdout",
     "output_type": "stream",
     "text": [
      "10\n",
      "11\n",
      "12\n",
      "13\n",
      "14\n"
     ]
    }
   ],
   "source": [
    "nInf = int(input('Digite um número:'))\n",
    "nSup = int(input('Digite um outro número:'))\n",
    "\n",
    "for i in range(nInf,nSup):\n",
    "    print(i)"
   ]
  },
  {
   "cell_type": "markdown",
   "metadata": {},
   "source": [
    "#### Exercício 11 \n",
    "Altere o programa anterior para mostrar no final a soma dos números."
   ]
  },
  {
   "cell_type": "code",
   "execution_count": 89,
   "metadata": {},
   "outputs": [
    {
     "name": "stdout",
     "output_type": "stream",
     "text": [
      "[10, 11, 12, 13, 14]\n",
      "A soma dos valores gerados acima são 60.\n"
     ]
    }
   ],
   "source": [
    "# Pegando o exercício anterior e somando o resultado gerado\n",
    "\n",
    "nInf = int(input('Digite um número:'))\n",
    "nSup = int(input('Digite um outro número:'))\n",
    "\n",
    "lista = []\n",
    "soma = 0\n",
    "\n",
    "for i in range(nInf,nSup):\n",
    "    soma+=i\n",
    "    lista.append(i)\n",
    "print(lista)\n",
    "print(f'A soma dos valores gerados acima são {soma}.')"
   ]
  },
  {
   "cell_type": "markdown",
   "metadata": {},
   "source": [
    "#### Exercício 12 \n",
    "Desenvolva um gerador de tabuada, capaz de gerar a tabuada de\n",
    "qualquer número inteiro entre 1 a 10. O usuário deve informar de qual numero ele deseja\n",
    "ver a tabuada. A saída deve ser conforme o exemplo abaixo:"
   ]
  },
  {
   "cell_type": "code",
   "execution_count": 1,
   "metadata": {},
   "outputs": [
    {
     "name": "stdout",
     "output_type": "stream",
     "text": [
      "10 x 1 = 10\n",
      "10 x 2 = 20\n",
      "10 x 3 = 30\n",
      "10 x 4 = 40\n",
      "10 x 5 = 50\n",
      "10 x 6 = 60\n",
      "10 x 7 = 70\n",
      "10 x 8 = 80\n",
      "10 x 9 = 90\n",
      "10 x 10 = 100\n"
     ]
    }
   ],
   "source": [
    "num = int(input('Digite um número: '))\n",
    "\n",
    "for i in range(1,11):\n",
    "    total = num * i\n",
    "    print(num ,'x', i , '=',total)\n",
    "\n",
    "\n"
   ]
  },
  {
   "cell_type": "markdown",
   "metadata": {},
   "source": [
    "#### Exercício 12 \n",
    "Desenvolva um gerador de tabuada, capaz de gerar a tabuada de\n",
    "qualquer número inteiro entre 1 a 10. O usuário deve informar de qual numero ele deseja\n",
    "ver a tabuada. A saída deve ser conforme o exemplo abaixo:"
   ]
  },
  {
   "cell_type": "code",
   "execution_count": 25,
   "metadata": {},
   "outputs": [
    {
     "name": "stdout",
     "output_type": "stream",
     "text": [
      "2\n",
      "3\n",
      "4\n",
      "5\n",
      "6\n",
      "7\n",
      "8\n",
      "9\n",
      "10\n"
     ]
    }
   ],
   "source": [
    "num = int(input('Digite um número:'))\n",
    "cond = num\n",
    "res = cond * num\n",
    "\n",
    "while cond < 10:\n",
    "    cond+=1\n",
    "    print(cond)"
   ]
  },
  {
   "cell_type": "markdown",
   "metadata": {},
   "source": [
    "#### Exercício 01  \n",
    "Faça um programa que peça uma nota, entre zero e dez. Mostre uma\n",
    "mensagem caso o valor seja inválido e continue pedindo até que o usuário informe um\n",
    "valor válido."
   ]
  },
  {
   "cell_type": "code",
   "execution_count": 1,
   "metadata": {},
   "outputs": [],
   "source": [
    "num = int(input('Digite uma nota entre 0 e 10'))\n",
    "\n",
    "while num > 10:\n",
    "    print('Valor inválido! Digite uma nota entre 0 e 10')\n",
    "print('Feshow!')"
   ]
  },
  {
   "cell_type": "markdown",
   "metadata": {},
   "source": [
    "#### Exercício 02\n",
    "Faça um programa que leia um nome de usuário e a sua senha e não\n",
    "aceite a senha igual ao nome do usuário, mostrando uma mensagem de erro e voltando\n",
    "a pedir as informações."
   ]
  }
 ],
 "metadata": {
  "kernelspec": {
   "display_name": "Python 3",
   "language": "python",
   "name": "python3"
  },
  "language_info": {
   "codemirror_mode": {
    "name": "ipython",
    "version": 3
   },
   "file_extension": ".py",
   "mimetype": "text/x-python",
   "name": "python",
   "nbconvert_exporter": "python",
   "pygments_lexer": "ipython3",
   "version": "3.11.0"
  }
 },
 "nbformat": 4,
 "nbformat_minor": 2
}
