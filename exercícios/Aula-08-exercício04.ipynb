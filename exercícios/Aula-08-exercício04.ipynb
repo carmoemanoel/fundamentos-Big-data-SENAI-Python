{
 "cells": [
  {
   "cell_type": "markdown",
   "metadata": {},
   "source": [
    "#### Exercício 04 – Criando relatórios em função do arquivo dados-vendas.xlsx"
   ]
  },
  {
   "cell_type": "code",
   "execution_count": 32,
   "metadata": {},
   "outputs": [
    {
     "name": "stdout",
     "output_type": "stream",
     "text": [
      "<class 'pandas.core.frame.DataFrame'>\n",
      "RangeIndex: 457 entries, 0 to 456\n",
      "Data columns (total 12 columns):\n",
      " #   Column       Non-Null Count  Dtype         \n",
      "---  ------       --------------  -----         \n",
      " 0   ID-Produto   457 non-null    object        \n",
      " 1   Produto      457 non-null    object        \n",
      " 2   Categoria    457 non-null    object        \n",
      " 3   Segmento     457 non-null    object        \n",
      " 4   Fabricante   457 non-null    object        \n",
      " 5   Loja         457 non-null    object        \n",
      " 6   Cidade       457 non-null    object        \n",
      " 7   Estado       457 non-null    object        \n",
      " 8   Vendedor     457 non-null    object        \n",
      " 9   ID-Vendedor  457 non-null    int64         \n",
      " 10  Data Venda   457 non-null    datetime64[ns]\n",
      " 11  ValorVenda   457 non-null    float64       \n",
      "dtypes: datetime64[ns](1), float64(1), int64(1), object(9)\n",
      "memory usage: 43.0+ KB\n"
     ]
    }
   ],
   "source": [
    "import pandas as pd\n",
    "\n",
    "# Mapear o caminho e o nome do arquivo navegando entre diretório\n",
    "caminho = '../ArquivosAnálise/dados-vendas.xlsx'\n",
    "\n",
    "df = pd.read_excel(caminho)\n",
    "\n",
    "# Retornando apenas uma linha do dataframe\n",
    "df.info()\n"
   ]
  },
  {
   "cell_type": "markdown",
   "metadata": {},
   "source": [
    "#### Dividir a planilha em 04"
   ]
  },
  {
   "cell_type": "code",
   "execution_count": 21,
   "metadata": {},
   "outputs": [
    {
     "data": {
      "text/html": [
       "<div>\n",
       "<style scoped>\n",
       "    .dataframe tbody tr th:only-of-type {\n",
       "        vertical-align: middle;\n",
       "    }\n",
       "\n",
       "    .dataframe tbody tr th {\n",
       "        vertical-align: top;\n",
       "    }\n",
       "\n",
       "    .dataframe thead th {\n",
       "        text-align: right;\n",
       "    }\n",
       "</style>\n",
       "<table border=\"1\" class=\"dataframe\">\n",
       "  <thead>\n",
       "    <tr style=\"text-align: right;\">\n",
       "      <th></th>\n",
       "      <th>ID-Produto</th>\n",
       "      <th>Loja</th>\n",
       "      <th>ID-Vendedor</th>\n",
       "      <th>Data Venda</th>\n",
       "      <th>ValorVenda</th>\n",
       "    </tr>\n",
       "  </thead>\n",
       "  <tbody>\n",
       "    <tr>\n",
       "      <th>0</th>\n",
       "      <td>SKU-0000001</td>\n",
       "      <td>SP8821</td>\n",
       "      <td>1009</td>\n",
       "      <td>2012-10-04</td>\n",
       "      <td>679.00</td>\n",
       "    </tr>\n",
       "    <tr>\n",
       "      <th>1</th>\n",
       "      <td>SKU-0000002</td>\n",
       "      <td>SP8821</td>\n",
       "      <td>1006</td>\n",
       "      <td>2012-01-01</td>\n",
       "      <td>832.00</td>\n",
       "    </tr>\n",
       "    <tr>\n",
       "      <th>2</th>\n",
       "      <td>SKU-0000003</td>\n",
       "      <td>SP8821</td>\n",
       "      <td>1006</td>\n",
       "      <td>2012-02-02</td>\n",
       "      <td>790.00</td>\n",
       "    </tr>\n",
       "    <tr>\n",
       "      <th>3</th>\n",
       "      <td>SKU-0000004</td>\n",
       "      <td>SP8821</td>\n",
       "      <td>1003</td>\n",
       "      <td>2012-03-03</td>\n",
       "      <td>765.32</td>\n",
       "    </tr>\n",
       "    <tr>\n",
       "      <th>4</th>\n",
       "      <td>SKU-0000005</td>\n",
       "      <td>SP8821</td>\n",
       "      <td>1004</td>\n",
       "      <td>2012-04-04</td>\n",
       "      <td>459.89</td>\n",
       "    </tr>\n",
       "    <tr>\n",
       "      <th>...</th>\n",
       "      <td>...</td>\n",
       "      <td>...</td>\n",
       "      <td>...</td>\n",
       "      <td>...</td>\n",
       "      <td>...</td>\n",
       "    </tr>\n",
       "    <tr>\n",
       "      <th>452</th>\n",
       "      <td>SKU-0000453</td>\n",
       "      <td>R1295</td>\n",
       "      <td>1002</td>\n",
       "      <td>2015-09-23</td>\n",
       "      <td>1234.00</td>\n",
       "    </tr>\n",
       "    <tr>\n",
       "      <th>453</th>\n",
       "      <td>SKU-0000454</td>\n",
       "      <td>R1295</td>\n",
       "      <td>1002</td>\n",
       "      <td>2015-10-24</td>\n",
       "      <td>1234.00</td>\n",
       "    </tr>\n",
       "    <tr>\n",
       "      <th>454</th>\n",
       "      <td>SKU-0000455</td>\n",
       "      <td>R1295</td>\n",
       "      <td>1008</td>\n",
       "      <td>2015-11-25</td>\n",
       "      <td>1230.00</td>\n",
       "    </tr>\n",
       "    <tr>\n",
       "      <th>455</th>\n",
       "      <td>SKU-0000456</td>\n",
       "      <td>R1295</td>\n",
       "      <td>1002</td>\n",
       "      <td>2015-11-26</td>\n",
       "      <td>1234.00</td>\n",
       "    </tr>\n",
       "    <tr>\n",
       "      <th>456</th>\n",
       "      <td>SKU-0000457</td>\n",
       "      <td>R1295</td>\n",
       "      <td>1002</td>\n",
       "      <td>2015-11-27</td>\n",
       "      <td>1234.00</td>\n",
       "    </tr>\n",
       "  </tbody>\n",
       "</table>\n",
       "<p>457 rows × 5 columns</p>\n",
       "</div>"
      ],
      "text/plain": [
       "      ID-Produto    Loja  ID-Vendedor Data Venda  ValorVenda\n",
       "0    SKU-0000001  SP8821         1009 2012-10-04      679.00\n",
       "1    SKU-0000002  SP8821         1006 2012-01-01      832.00\n",
       "2    SKU-0000003  SP8821         1006 2012-02-02      790.00\n",
       "3    SKU-0000004  SP8821         1003 2012-03-03      765.32\n",
       "4    SKU-0000005  SP8821         1004 2012-04-04      459.89\n",
       "..           ...     ...          ...        ...         ...\n",
       "452  SKU-0000453   R1295         1002 2015-09-23     1234.00\n",
       "453  SKU-0000454   R1295         1002 2015-10-24     1234.00\n",
       "454  SKU-0000455   R1295         1008 2015-11-25     1230.00\n",
       "455  SKU-0000456   R1295         1002 2015-11-26     1234.00\n",
       "456  SKU-0000457   R1295         1002 2015-11-27     1234.00\n",
       "\n",
       "[457 rows x 5 columns]"
      ]
     },
     "execution_count": 21,
     "metadata": {},
     "output_type": "execute_result"
    }
   ],
   "source": [
    "# Gerar a tabela FATO com os campos ID-PRODUTO\n",
    "# ID-LOJA, ID-VENDEDOR, DATA VENDA e ValorVenda\n",
    "\n",
    "tbl_fato = df.loc[:,['ID-Produto','Loja','ID-Vendedor','Data Venda','ValorVenda']]\n",
    "\n",
    "tbl_fato\n"
   ]
  },
  {
   "cell_type": "code",
   "execution_count": 22,
   "metadata": {},
   "outputs": [],
   "source": [
    "# Renomenado as colunas \n",
    "tbl_fato = tbl_fato.rename(columns={'Loja':'ID-Loja','Data Venda':'Data'})\n",
    "# Utilizando caminho relativo\n",
    "caminhoFinal = '../relatorio-exercicio-04/tabela_fato/tbl_fato.xlsx'\n",
    "# Gerando um arquivo Excel\n",
    "tbl_fato.to_excel(caminhoFinal)"
   ]
  },
  {
   "cell_type": "markdown",
   "metadata": {},
   "source": [
    "#### Gerando a tabela Produto"
   ]
  },
  {
   "cell_type": "code",
   "execution_count": 23,
   "metadata": {},
   "outputs": [
    {
     "data": {
      "text/html": [
       "<div>\n",
       "<style scoped>\n",
       "    .dataframe tbody tr th:only-of-type {\n",
       "        vertical-align: middle;\n",
       "    }\n",
       "\n",
       "    .dataframe tbody tr th {\n",
       "        vertical-align: top;\n",
       "    }\n",
       "\n",
       "    .dataframe thead th {\n",
       "        text-align: right;\n",
       "    }\n",
       "</style>\n",
       "<table border=\"1\" class=\"dataframe\">\n",
       "  <thead>\n",
       "    <tr style=\"text-align: right;\">\n",
       "      <th></th>\n",
       "      <th>ID-Produto</th>\n",
       "      <th>Produto</th>\n",
       "      <th>Categoria</th>\n",
       "      <th>Segmento</th>\n",
       "      <th>Fabricante</th>\n",
       "    </tr>\n",
       "  </thead>\n",
       "  <tbody>\n",
       "    <tr>\n",
       "      <th>0</th>\n",
       "      <td>SKU-0000001</td>\n",
       "      <td>LG K10 TV Power</td>\n",
       "      <td>Celulares</td>\n",
       "      <td>Corporativo</td>\n",
       "      <td>LG</td>\n",
       "    </tr>\n",
       "    <tr>\n",
       "      <th>1</th>\n",
       "      <td>SKU-0000002</td>\n",
       "      <td>Geladeira Duplex</td>\n",
       "      <td>Eletrodomésticos</td>\n",
       "      <td>Doméstico</td>\n",
       "      <td>Brastemp</td>\n",
       "    </tr>\n",
       "    <tr>\n",
       "      <th>2</th>\n",
       "      <td>SKU-0000003</td>\n",
       "      <td>Lavadora 11 Kg</td>\n",
       "      <td>Eletrodomésticos</td>\n",
       "      <td>Doméstico</td>\n",
       "      <td>Brastemp</td>\n",
       "    </tr>\n",
       "    <tr>\n",
       "      <th>3</th>\n",
       "      <td>SKU-0000004</td>\n",
       "      <td>Lavadora 11 Kg</td>\n",
       "      <td>Eletrodomésticos</td>\n",
       "      <td>Doméstico</td>\n",
       "      <td>Brastemp</td>\n",
       "    </tr>\n",
       "    <tr>\n",
       "      <th>4</th>\n",
       "      <td>SKU-0000005</td>\n",
       "      <td>Lavadora 11 Kg</td>\n",
       "      <td>Eletrodomésticos</td>\n",
       "      <td>Doméstico</td>\n",
       "      <td>Electrolux</td>\n",
       "    </tr>\n",
       "  </tbody>\n",
       "</table>\n",
       "</div>"
      ],
      "text/plain": [
       "    ID-Produto           Produto         Categoria     Segmento  Fabricante\n",
       "0  SKU-0000001   LG K10 TV Power         Celulares  Corporativo          LG\n",
       "1  SKU-0000002  Geladeira Duplex  Eletrodomésticos    Doméstico    Brastemp\n",
       "2  SKU-0000003    Lavadora 11 Kg  Eletrodomésticos    Doméstico    Brastemp\n",
       "3  SKU-0000004    Lavadora 11 Kg  Eletrodomésticos    Doméstico    Brastemp\n",
       "4  SKU-0000005    Lavadora 11 Kg  Eletrodomésticos    Doméstico  Electrolux"
      ]
     },
     "execution_count": 23,
     "metadata": {},
     "output_type": "execute_result"
    }
   ],
   "source": [
    "tabela_produto = df.loc[:,['ID-Produto','Produto','Categoria','Segmento','Fabricante']]\n",
    "\n",
    "tabela_produto.head()"
   ]
  },
  {
   "cell_type": "code",
   "execution_count": 24,
   "metadata": {},
   "outputs": [],
   "source": [
    "# Gerando o caminho o será armazenado a tabela PRODUTO\n",
    "\n",
    "caminhoFinal = '../relatorio-exercicio-04/tabela_produto/tabela_produto.xlsx'\n",
    "\n",
    "tabela_produto.to_excel(caminhoFinal)\n"
   ]
  },
  {
   "cell_type": "markdown",
   "metadata": {},
   "source": [
    "#### Gerando a tabela Loja"
   ]
  },
  {
   "cell_type": "code",
   "execution_count": 25,
   "metadata": {},
   "outputs": [
    {
     "data": {
      "text/html": [
       "<div>\n",
       "<style scoped>\n",
       "    .dataframe tbody tr th:only-of-type {\n",
       "        vertical-align: middle;\n",
       "    }\n",
       "\n",
       "    .dataframe tbody tr th {\n",
       "        vertical-align: top;\n",
       "    }\n",
       "\n",
       "    .dataframe thead th {\n",
       "        text-align: right;\n",
       "    }\n",
       "</style>\n",
       "<table border=\"1\" class=\"dataframe\">\n",
       "  <thead>\n",
       "    <tr style=\"text-align: right;\">\n",
       "      <th></th>\n",
       "      <th>Loja</th>\n",
       "      <th>Cidade</th>\n",
       "      <th>Estado</th>\n",
       "    </tr>\n",
       "  </thead>\n",
       "  <tbody>\n",
       "    <tr>\n",
       "      <th>0</th>\n",
       "      <td>SP8821</td>\n",
       "      <td>São Paulo</td>\n",
       "      <td>São Paulo</td>\n",
       "    </tr>\n",
       "    <tr>\n",
       "      <th>7</th>\n",
       "      <td>A9990</td>\n",
       "      <td>Belo Horizonte</td>\n",
       "      <td>Minas Gerais</td>\n",
       "    </tr>\n",
       "    <tr>\n",
       "      <th>32</th>\n",
       "      <td>SP8823</td>\n",
       "      <td>São Paulo</td>\n",
       "      <td>São Paulo</td>\n",
       "    </tr>\n",
       "    <tr>\n",
       "      <th>39</th>\n",
       "      <td>R1296</td>\n",
       "      <td>Rio de Janeiro</td>\n",
       "      <td>Rio de Janeiro</td>\n",
       "    </tr>\n",
       "    <tr>\n",
       "      <th>41</th>\n",
       "      <td>V7654</td>\n",
       "      <td>Vitória</td>\n",
       "      <td>Espírito Santo</td>\n",
       "    </tr>\n",
       "    <tr>\n",
       "      <th>87</th>\n",
       "      <td>P0761</td>\n",
       "      <td>Cascavel</td>\n",
       "      <td>Paraná</td>\n",
       "    </tr>\n",
       "    <tr>\n",
       "      <th>88</th>\n",
       "      <td>SA7761</td>\n",
       "      <td>Salvador</td>\n",
       "      <td>Bahia</td>\n",
       "    </tr>\n",
       "    <tr>\n",
       "      <th>103</th>\n",
       "      <td>SP8822</td>\n",
       "      <td>São Paulo</td>\n",
       "      <td>São Paulo</td>\n",
       "    </tr>\n",
       "    <tr>\n",
       "      <th>170</th>\n",
       "      <td>S6543</td>\n",
       "      <td>Osasco</td>\n",
       "      <td>São Paulo</td>\n",
       "    </tr>\n",
       "    <tr>\n",
       "      <th>173</th>\n",
       "      <td>B7659</td>\n",
       "      <td>Campinas</td>\n",
       "      <td>São Paulo</td>\n",
       "    </tr>\n",
       "    <tr>\n",
       "      <th>290</th>\n",
       "      <td>A9991</td>\n",
       "      <td>Belo Horizonte</td>\n",
       "      <td>Minas Gerais</td>\n",
       "    </tr>\n",
       "    <tr>\n",
       "      <th>324</th>\n",
       "      <td>R1298</td>\n",
       "      <td>Campos</td>\n",
       "      <td>Rio de Janeiro</td>\n",
       "    </tr>\n",
       "    <tr>\n",
       "      <th>345</th>\n",
       "      <td>R1295</td>\n",
       "      <td>Rio de Janeiro</td>\n",
       "      <td>Rio de Janeiro</td>\n",
       "    </tr>\n",
       "    <tr>\n",
       "      <th>349</th>\n",
       "      <td>R1297</td>\n",
       "      <td>Petrópolis</td>\n",
       "      <td>Rio de Janeiro</td>\n",
       "    </tr>\n",
       "  </tbody>\n",
       "</table>\n",
       "</div>"
      ],
      "text/plain": [
       "       Loja          Cidade          Estado\n",
       "0    SP8821       São Paulo       São Paulo\n",
       "7     A9990  Belo Horizonte    Minas Gerais\n",
       "32   SP8823       São Paulo       São Paulo\n",
       "39    R1296  Rio de Janeiro  Rio de Janeiro\n",
       "41    V7654         Vitória  Espírito Santo\n",
       "87    P0761        Cascavel          Paraná\n",
       "88   SA7761        Salvador           Bahia\n",
       "103  SP8822       São Paulo       São Paulo\n",
       "170   S6543          Osasco       São Paulo\n",
       "173   B7659        Campinas       São Paulo\n",
       "290   A9991  Belo Horizonte    Minas Gerais\n",
       "324   R1298          Campos  Rio de Janeiro\n",
       "345   R1295  Rio de Janeiro  Rio de Janeiro\n",
       "349   R1297      Petrópolis  Rio de Janeiro"
      ]
     },
     "execution_count": 25,
     "metadata": {},
     "output_type": "execute_result"
    }
   ],
   "source": [
    "tabela_loja = df.loc[:,['Loja','Cidade','Estado']]\n",
    "\n",
    "tabela_loja = tabela_loja.drop_duplicates()\n",
    "\n",
    "tabela_loja"
   ]
  },
  {
   "cell_type": "code",
   "execution_count": 26,
   "metadata": {},
   "outputs": [],
   "source": [
    "# Gerando o caminho para a tabela Loja\n",
    "\n",
    "caminhoFinal = '../relatorio-exercicio-04/tabela_loja/tabela_loja.xlsx'\n",
    "\n",
    "tabela_loja.to_excel(caminhoFinal,index=False)"
   ]
  },
  {
   "cell_type": "markdown",
   "metadata": {},
   "source": [
    "#### Gerando a tabela VENDEDOR"
   ]
  },
  {
   "cell_type": "code",
   "execution_count": 27,
   "metadata": {},
   "outputs": [],
   "source": [
    "tabela_vendedor = df.loc[:,['ID-Vendedor','Vendedor']]\n",
    "# Tirando a duplicata de informações\n",
    "tabela_vendedor = tabela_vendedor.drop_duplicates()"
   ]
  },
  {
   "cell_type": "code",
   "execution_count": 29,
   "metadata": {},
   "outputs": [],
   "source": [
    "# Criando o caminho\n",
    "caminhoFinal = '../relatorio-exercicio-04/tabela_vendedor/tabela_vendedor.xlsx'\n",
    "# Gerando o arquivo\n",
    "tabela_vendedor.to_excel(caminhoFinal,index=False)"
   ]
  },
  {
   "cell_type": "code",
   "execution_count": 34,
   "metadata": {},
   "outputs": [
    {
     "data": {
      "text/html": [
       "<div>\n",
       "<style scoped>\n",
       "    .dataframe tbody tr th:only-of-type {\n",
       "        vertical-align: middle;\n",
       "    }\n",
       "\n",
       "    .dataframe tbody tr th {\n",
       "        vertical-align: top;\n",
       "    }\n",
       "\n",
       "    .dataframe thead th {\n",
       "        text-align: right;\n",
       "    }\n",
       "</style>\n",
       "<table border=\"1\" class=\"dataframe\">\n",
       "  <thead>\n",
       "    <tr style=\"text-align: right;\">\n",
       "      <th></th>\n",
       "      <th>ID-Produto</th>\n",
       "      <th>Produto</th>\n",
       "      <th>Categoria</th>\n",
       "      <th>Segmento</th>\n",
       "      <th>Fabricante</th>\n",
       "      <th>Loja</th>\n",
       "      <th>Cidade</th>\n",
       "      <th>Estado</th>\n",
       "      <th>Vendedor</th>\n",
       "      <th>ID-Vendedor</th>\n",
       "      <th>Data Venda</th>\n",
       "      <th>ValorVenda</th>\n",
       "    </tr>\n",
       "  </thead>\n",
       "  <tbody>\n",
       "    <tr>\n",
       "      <th>0</th>\n",
       "      <td>SKU-0000001</td>\n",
       "      <td>LG K10 TV Power</td>\n",
       "      <td>Celulares</td>\n",
       "      <td>Corporativo</td>\n",
       "      <td>LG</td>\n",
       "      <td>SP8821</td>\n",
       "      <td>São Paulo</td>\n",
       "      <td>São Paulo</td>\n",
       "      <td>Ana Teixeira</td>\n",
       "      <td>1009</td>\n",
       "      <td>2012-10-04</td>\n",
       "      <td>679.00</td>\n",
       "    </tr>\n",
       "    <tr>\n",
       "      <th>1</th>\n",
       "      <td>SKU-0000002</td>\n",
       "      <td>Geladeira Duplex</td>\n",
       "      <td>Eletrodomésticos</td>\n",
       "      <td>Doméstico</td>\n",
       "      <td>Brastemp</td>\n",
       "      <td>SP8821</td>\n",
       "      <td>São Paulo</td>\n",
       "      <td>São Paulo</td>\n",
       "      <td>Josias Silva</td>\n",
       "      <td>1006</td>\n",
       "      <td>2012-01-01</td>\n",
       "      <td>832.00</td>\n",
       "    </tr>\n",
       "    <tr>\n",
       "      <th>2</th>\n",
       "      <td>SKU-0000003</td>\n",
       "      <td>Lavadora 11 Kg</td>\n",
       "      <td>Eletrodomésticos</td>\n",
       "      <td>Doméstico</td>\n",
       "      <td>Brastemp</td>\n",
       "      <td>SP8821</td>\n",
       "      <td>São Paulo</td>\n",
       "      <td>São Paulo</td>\n",
       "      <td>Josias Silva</td>\n",
       "      <td>1006</td>\n",
       "      <td>2012-02-02</td>\n",
       "      <td>790.00</td>\n",
       "    </tr>\n",
       "    <tr>\n",
       "      <th>3</th>\n",
       "      <td>SKU-0000004</td>\n",
       "      <td>Lavadora 11 Kg</td>\n",
       "      <td>Eletrodomésticos</td>\n",
       "      <td>Doméstico</td>\n",
       "      <td>Brastemp</td>\n",
       "      <td>SP8821</td>\n",
       "      <td>São Paulo</td>\n",
       "      <td>São Paulo</td>\n",
       "      <td>Mateus Gonçalves</td>\n",
       "      <td>1003</td>\n",
       "      <td>2012-03-03</td>\n",
       "      <td>765.32</td>\n",
       "    </tr>\n",
       "    <tr>\n",
       "      <th>4</th>\n",
       "      <td>SKU-0000005</td>\n",
       "      <td>Lavadora 11 Kg</td>\n",
       "      <td>Eletrodomésticos</td>\n",
       "      <td>Doméstico</td>\n",
       "      <td>Electrolux</td>\n",
       "      <td>SP8821</td>\n",
       "      <td>São Paulo</td>\n",
       "      <td>São Paulo</td>\n",
       "      <td>Artur Moreira</td>\n",
       "      <td>1004</td>\n",
       "      <td>2012-04-04</td>\n",
       "      <td>459.89</td>\n",
       "    </tr>\n",
       "  </tbody>\n",
       "</table>\n",
       "</div>"
      ],
      "text/plain": [
       "    ID-Produto           Produto         Categoria     Segmento  Fabricante  \\\n",
       "0  SKU-0000001   LG K10 TV Power         Celulares  Corporativo          LG   \n",
       "1  SKU-0000002  Geladeira Duplex  Eletrodomésticos    Doméstico    Brastemp   \n",
       "2  SKU-0000003    Lavadora 11 Kg  Eletrodomésticos    Doméstico    Brastemp   \n",
       "3  SKU-0000004    Lavadora 11 Kg  Eletrodomésticos    Doméstico    Brastemp   \n",
       "4  SKU-0000005    Lavadora 11 Kg  Eletrodomésticos    Doméstico  Electrolux   \n",
       "\n",
       "     Loja     Cidade     Estado          Vendedor  ID-Vendedor Data Venda  \\\n",
       "0  SP8821  São Paulo  São Paulo      Ana Teixeira         1009 2012-10-04   \n",
       "1  SP8821  São Paulo  São Paulo      Josias Silva         1006 2012-01-01   \n",
       "2  SP8821  São Paulo  São Paulo      Josias Silva         1006 2012-02-02   \n",
       "3  SP8821  São Paulo  São Paulo  Mateus Gonçalves         1003 2012-03-03   \n",
       "4  SP8821  São Paulo  São Paulo     Artur Moreira         1004 2012-04-04   \n",
       "\n",
       "   ValorVenda  \n",
       "0      679.00  \n",
       "1      832.00  \n",
       "2      790.00  \n",
       "3      765.32  \n",
       "4      459.89  "
      ]
     },
     "execution_count": 34,
     "metadata": {},
     "output_type": "execute_result"
    }
   ],
   "source": [
    "#Importando a biblioteca pandas\n",
    "import pandas as pd\n",
    "#Trazendo o caminho criado na aula passada para dar continuidade no exercício\n",
    "path = '../relatorio-exercicio-04/relatorio-vendedores/'\n",
    "\n",
    "file = '../ArquivosAnálise/dados-vendas.xlsx'\n",
    "\n",
    "dados = pd.read_excel(file)\n",
    "# Vizualizando o cabeçalho do datafra\n",
    "dados.head()"
   ]
  },
  {
   "cell_type": "markdown",
   "metadata": {},
   "source": [
    "#### Crie um dataframe chamado df_vendedores, para atribuir valores a ele você  deve  selecionar  apenas  a  coluna  Vendedores  e  remover  as duplicadas do mesmo. Confirme se realmente o comando removeu as duplicadas."
   ]
  },
  {
   "cell_type": "code",
   "execution_count": 40,
   "metadata": {},
   "outputs": [],
   "source": [
    "df_vendedores = dados['Vendedor'].drop_duplicates()\n",
    "\n",
    "# Convertendo o df_vendedores em lista\n",
    "listaVendedores = df_vendedores.to_list()\n",
    "\n",
    "# Gerar os arquivos automaticamente\n",
    "for vendedor in listaVendedores:\n",
    "    df_final = dados[dados['Vendedor'] == vendedor]\n",
    "\n",
    "     # Maperar o caminho final do arquivo\n",
    "    caminho = '../relatorio-exercicio-04/relatorio-vendedores/'\n",
    "    arquivo = vendedor + '.xlsx'\n",
    "    \n",
    "    # Salvando o arquivo em um documento\n",
    "    df_final.to_excel(caminho + arquivo)\n",
    "    "
   ]
  },
  {
   "cell_type": "markdown",
   "metadata": {},
   "source": [
    "#### Criar dataframe Categoria, onde foi retirado as duplicadas e transformados em lista e depois percorrido por um laço de repetição, onde gerou um relatório automatico."
   ]
  },
  {
   "cell_type": "code",
   "execution_count": 50,
   "metadata": {},
   "outputs": [],
   "source": [
    "df_categoria = dados['Categoria'].drop_duplicates()\n",
    "\n",
    "# Convertendo o df_categoria em lista\n",
    "listaCategoria = df_categoria.to_list()\n",
    "\n",
    "for categoria in listaCategoria:\n",
    "    df_final = dados[dados['Categoria'] == categoria]\n",
    "\n",
    "    caminho = '../relatorio-exercicio-04/relatorio-categoria/'\n",
    "    arquivo = categoria + '.xlsx'\n",
    "\n",
    "    df_final.to_excel(caminho + arquivo)"
   ]
  },
  {
   "cell_type": "markdown",
   "metadata": {},
   "source": [
    "#### Criar dataframe Segmento, onde foi retirado as duplicadas e transformados em lista e depois percorrido por um laço de repetição, onde gerou um relatório automatico."
   ]
  },
  {
   "cell_type": "code",
   "execution_count": 51,
   "metadata": {},
   "outputs": [],
   "source": [
    "df_segmento = dados['Segmento'].drop_duplicates()"
   ]
  },
  {
   "cell_type": "code",
   "execution_count": 52,
   "metadata": {},
   "outputs": [],
   "source": [
    "listaSegmento = df_segmento.to_list()"
   ]
  },
  {
   "cell_type": "code",
   "execution_count": 53,
   "metadata": {},
   "outputs": [],
   "source": [
    "for segmento in listaSegmento:\n",
    "    df_final = dados[dados['Segmento'] == segmento]\n",
    "\n",
    "    caminho = '../relatorio-exercicio-04/relatorio-segmento/'\n",
    "    arquivo = segmento + '.xlsx'\n",
    "\n",
    "    df_final.to_excel( caminho + arquivo)"
   ]
  },
  {
   "cell_type": "markdown",
   "metadata": {},
   "source": [
    "#### Criar dataframe Fabricante, onde foi retirado as duplicadas e transformados em lista e depois percorrido por um laço de repetição, onde gerou um relatório automatico."
   ]
  },
  {
   "cell_type": "code",
   "execution_count": 54,
   "metadata": {},
   "outputs": [],
   "source": [
    "df_fabricante = dados['Fabricante'].drop_duplicates()"
   ]
  },
  {
   "cell_type": "code",
   "execution_count": 55,
   "metadata": {},
   "outputs": [],
   "source": [
    "listaFabricante = df_fabricante.to_list()"
   ]
  },
  {
   "cell_type": "code",
   "execution_count": 56,
   "metadata": {},
   "outputs": [],
   "source": [
    "for fabricante in listaFabricante:\n",
    "    df_final = dados[dados['Fabricante'] == fabricante]\n",
    "\n",
    "    caminho = '../relatorio-exercicio-04/relatorio-fabricante/'\n",
    "    arquivo  = fabricante + '.xlsx'\n",
    "\n",
    "    df_final.to_excel( caminho + arquivo)"
   ]
  },
  {
   "cell_type": "markdown",
   "metadata": {},
   "source": [
    "#### Criar dataframe Cidade, onde foi retirado as duplicadas e transformados em lista e depois percorrido por um laço de repetição, onde gerou um relatório automatico."
   ]
  },
  {
   "cell_type": "code",
   "execution_count": 57,
   "metadata": {},
   "outputs": [],
   "source": [
    "df_cidade = dados['Cidade'].drop_duplicates()"
   ]
  },
  {
   "cell_type": "code",
   "execution_count": 58,
   "metadata": {},
   "outputs": [],
   "source": [
    "listaCidade = df_cidade.to_list()"
   ]
  },
  {
   "cell_type": "code",
   "execution_count": 59,
   "metadata": {},
   "outputs": [],
   "source": [
    "for cidade in listaCidade:\n",
    "    df_final = dados[dados['Cidade'] == cidade]\n",
    "\n",
    "    caminho = '../relatorio-exercicio-04/relatorio-cidade/'\n",
    "    arquivo = cidade + '.xlsx'\n",
    "\n",
    "    df_final.to_excel(caminho + arquivo)"
   ]
  },
  {
   "cell_type": "markdown",
   "metadata": {},
   "source": [
    "#### Criar dataframe Estado, onde foi retirado as duplicadas e transformados em lista e depois percorrido por um laço de repetição, onde gerou um relatório automatico."
   ]
  },
  {
   "cell_type": "code",
   "execution_count": 60,
   "metadata": {},
   "outputs": [],
   "source": [
    "df_estado = dados['Estado'].drop_duplicates()"
   ]
  },
  {
   "cell_type": "code",
   "execution_count": 61,
   "metadata": {},
   "outputs": [],
   "source": [
    "listaEstado = df_estado.to_list()"
   ]
  },
  {
   "cell_type": "code",
   "execution_count": null,
   "metadata": {},
   "outputs": [],
   "source": [
    "for estado in listaEstado:\n",
    "    df_final = dados[dados['Estado'] == estado]\n",
    "\n",
    "    caminho = '../relatorio-exercicio-04/relatorio-estado/'\n",
    "    arquivo = estado + '.xlsx'\n",
    "\n",
    "    df_estado.to_excel(caminho + arquivo)"
   ]
  }
 ],
 "metadata": {
  "kernelspec": {
   "display_name": "Python 3",
   "language": "python",
   "name": "python3"
  },
  "language_info": {
   "codemirror_mode": {
    "name": "ipython",
    "version": 3
   },
   "file_extension": ".py",
   "mimetype": "text/x-python",
   "name": "python",
   "nbconvert_exporter": "python",
   "pygments_lexer": "ipython3",
   "version": "3.10.10"
  }
 },
 "nbformat": 4,
 "nbformat_minor": 2
}
