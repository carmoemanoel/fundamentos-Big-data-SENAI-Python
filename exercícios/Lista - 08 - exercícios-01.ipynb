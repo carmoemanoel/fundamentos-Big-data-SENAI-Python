{
 "cells": [
  {
   "cell_type": "markdown",
   "metadata": {},
   "source": [
    "#### Exercícios de Machine Learning \n",
    " \n",
    "- Exercício 01 – Treino e Teste"
   ]
  },
  {
   "cell_type": "code",
   "execution_count": 1,
   "metadata": {},
   "outputs": [],
   "source": [
    "# Importar as bibliotecas\n",
    "from sklearn.datasets import load_diabetes # Conjunto de Dados\n",
    "from sklearn.model_selection import train_test_split # Dividir os dados"
   ]
  },
  {
   "cell_type": "code",
   "execution_count": null,
   "metadata": {},
   "outputs": [],
   "source": [
    "dados = load_diabetes(return_X_y=True)\n",
    "dados"
   ]
  },
  {
   "cell_type": "markdown",
   "metadata": {},
   "source": [
    "#### SEPARANDO OS DADOS EM VARIÁVEIS (X) e (y)"
   ]
  },
  {
   "cell_type": "code",
   "execution_count": 3,
   "metadata": {},
   "outputs": [
    {
     "name": "stdout",
     "output_type": "stream",
     "text": [
      "Quantidade de valores de X 442\n",
      "Quantidade de valores de y 442\n"
     ]
    }
   ],
   "source": [
    "X,y = dados\n",
    "X,y = dados\n",
    "print('Quantidade de valores de X', len(X))\n",
    "print('Quantidade de valores de y', len(y)) "
   ]
  },
  {
   "cell_type": "markdown",
   "metadata": {},
   "source": [
    "#### SEPARANDO AS AMOSTRAS EM TESTE E TREINO"
   ]
  },
  {
   "cell_type": "code",
   "execution_count": 5,
   "metadata": {},
   "outputs": [
    {
     "name": "stdout",
     "output_type": "stream",
     "text": [
      "Quantidade de valores de Treino 287\n",
      "Quantidade de valores de Teste 155\n"
     ]
    }
   ],
   "source": [
    "X_train, X_test, y_train, y_test = train_test_split(X, y, test_size=0.35)\n",
    "print('Quantidade de valores de Treino', len(X_train)) # A quantidade de trrino sempre maior que a do teste\n",
    "print('Quantidade de valores de Teste', len(X_test)) "
   ]
  }
 ],
 "metadata": {
  "kernelspec": {
   "display_name": "Python 3",
   "language": "python",
   "name": "python3"
  },
  "language_info": {
   "codemirror_mode": {
    "name": "ipython",
    "version": 3
   },
   "file_extension": ".py",
   "mimetype": "text/x-python",
   "name": "python",
   "nbconvert_exporter": "python",
   "pygments_lexer": "ipython3",
   "version": "3.11.0"
  }
 },
 "nbformat": 4,
 "nbformat_minor": 2
}
