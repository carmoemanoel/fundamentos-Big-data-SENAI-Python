{
 "cells": [
  {
   "cell_type": "markdown",
   "metadata": {},
   "source": [
    "#### Exercício 01 – Crie um programa para receber dois valores e em seguida, exiba o valor da soma"
   ]
  },
  {
   "cell_type": "code",
   "execution_count": 4,
   "metadata": {},
   "outputs": [
    {
     "name": "stdout",
     "output_type": "stream",
     "text": [
      "A soma do número 10 mais o número 5 é igual a 15.\n"
     ]
    }
   ],
   "source": [
    "num1 = 10\n",
    "num2 = 5\n",
    "soma = num1 + num2\n",
    "print(f'A soma do número {num1} mais o número {num2} é igual a {soma}.')"
   ]
  },
  {
   "cell_type": "markdown",
   "metadata": {},
   "source": [
    "#### Exercício 02 – Crie um programa para receber dois valores e em seguida, exiba o valor da diferença entre eles."
   ]
  },
  {
   "cell_type": "code",
   "execution_count": 5,
   "metadata": {},
   "outputs": [
    {
     "name": "stdout",
     "output_type": "stream",
     "text": [
      "A diferença entre o número 10 e o número 5 é igual a 5.\n"
     ]
    }
   ],
   "source": [
    "num1 = 10\n",
    "num2 = 5\n",
    "diferenca = num1 - num2\n",
    "print(f'A diferença entre o número {num1} e o número {num2} é igual a {diferenca}.')"
   ]
  },
  {
   "cell_type": "markdown",
   "metadata": {},
   "source": [
    "#### Exercício 03 – Crie um programa para receber dois valores e em seguida, exiba o produto entre eles"
   ]
  },
  {
   "cell_type": "code",
   "execution_count": 6,
   "metadata": {},
   "outputs": [
    {
     "name": "stdout",
     "output_type": "stream",
     "text": [
      "O produto é 50.\n"
     ]
    }
   ],
   "source": [
    "num1 = 10\n",
    "num2 = 5 \n",
    "produto = num1 * num2 \n",
    "print(f'O produto é {produto}.')"
   ]
  },
  {
   "cell_type": "markdown",
   "metadata": {},
   "source": [
    "#### Exercício 04 - Crie um programa para receber dois valores e em seguida, exiba o quociente entre eles."
   ]
  },
  {
   "cell_type": "code",
   "execution_count": 7,
   "metadata": {},
   "outputs": [
    {
     "name": "stdout",
     "output_type": "stream",
     "text": [
      "2.0\n"
     ]
    }
   ],
   "source": [
    "num1 = 10\n",
    "num2 = 5\n",
    "quociente = num1 / num2\n",
    "print(quociente)"
   ]
  },
  {
   "cell_type": "markdown",
   "metadata": {},
   "source": [
    "#### Exercício 05 - Crie um programa para receber dois valores e em seguida, exiba o resto da divisão entre eles.\n"
   ]
  },
  {
   "cell_type": "code",
   "execution_count": 8,
   "metadata": {},
   "outputs": [
    {
     "name": "stdout",
     "output_type": "stream",
     "text": [
      "1\n"
     ]
    }
   ],
   "source": [
    "num1 = 10\n",
    "num2 = 3\n",
    "resto = num1 % num2\n",
    "print(resto)"
   ]
  },
  {
   "cell_type": "markdown",
   "metadata": {},
   "source": [
    "#### Exercício 06 - Crie um programa para receber um número e em seguida, exiba o quadrado dele."
   ]
  },
  {
   "cell_type": "code",
   "execution_count": 9,
   "metadata": {},
   "outputs": [
    {
     "name": "stdout",
     "output_type": "stream",
     "text": [
      "25\n"
     ]
    }
   ],
   "source": [
    "num = 5\n",
    "quadrado = num ** 2\n",
    "print(quadrado)"
   ]
  },
  {
   "cell_type": "markdown",
   "metadata": {},
   "source": [
    "#### Exercício 07 – Elabora um programa para calcular a raiz quadrada de um número, utilizando a biblioteca math."
   ]
  },
  {
   "cell_type": "code",
   "execution_count": 10,
   "metadata": {},
   "outputs": [
    {
     "name": "stdout",
     "output_type": "stream",
     "text": [
      "5.0\n"
     ]
    }
   ],
   "source": [
    "import math\n",
    "num = 25\n",
    "raiz_quadrada = math.sqrt(num)\n",
    "print(raiz_quadrada)"
   ]
  },
  {
   "cell_type": "markdown",
   "metadata": {},
   "source": [
    "#### Exercício 08 – Crie um programa que seja capaz de calcular o valor absoluto de um número."
   ]
  },
  {
   "cell_type": "code",
   "execution_count": 11,
   "metadata": {},
   "outputs": [
    {
     "name": "stdout",
     "output_type": "stream",
     "text": [
      "5\n"
     ]
    }
   ],
   "source": [
    "num = -5\n",
    "absoluto = abs(num)\n",
    "print(absoluto)"
   ]
  },
  {
   "cell_type": "markdown",
   "metadata": {},
   "source": [
    "#### Exercício 09 - Atribua os seguintes valores às variáveis, um a um: \n",
    "#### 1) Quais são os tipos das variáveis acima?\n",
    "#### 2) Faça uma atribuição múltipla das variáveis do exercício 2."
   ]
  },
  {
   "cell_type": "code",
   "execution_count": 15,
   "metadata": {},
   "outputs": [
    {
     "name": "stdout",
     "output_type": "stream",
     "text": [
      "A variável 347 tem o tipo <class 'int'>\n",
      "A variável 2.71 tem o tipo <class 'float'>\n",
      "A variável 347 tem o tipo <class 'str'>\n",
      "A variável (2+3j) tem o tipo <class 'complex'>\n"
     ]
    }
   ],
   "source": [
    "a = 347\n",
    "b = 2.71\n",
    "c = '347'\n",
    "d = 2 + 3j\n",
    "\n",
    "print(f'A variável {a} tem o tipo', type(a))\n",
    "print(f'A variável {b} tem o tipo', type(b))\n",
    "print(f'A variável {c} tem o tipo', type(c))\n",
    "print(f'A variável {d} tem o tipo', type(d))\n"
   ]
  },
  {
   "cell_type": "markdown",
   "metadata": {},
   "source": [
    "#### Exercício 10 - Faça um Programa que converta metros para centímetros."
   ]
  },
  {
   "cell_type": "code",
   "execution_count": 18,
   "metadata": {},
   "outputs": [
    {
     "name": "stdout",
     "output_type": "stream",
     "text": [
      "A conversão de 1 metro em centímetros é igual a 100 centímetros.\n"
     ]
    }
   ],
   "source": [
    "num1 = 1\n",
    "num2 = 100\n",
    "conversor = num1 * num2 \n",
    "print(f'A conversão de {num1} metro em centímetros é igual a {conversor} centímetros.')"
   ]
  }
 ],
 "metadata": {
  "kernelspec": {
   "display_name": "Python 3",
   "language": "python",
   "name": "python3"
  },
  "language_info": {
   "codemirror_mode": {
    "name": "ipython",
    "version": 3
   },
   "file_extension": ".py",
   "mimetype": "text/x-python",
   "name": "python",
   "nbconvert_exporter": "python",
   "pygments_lexer": "ipython3",
   "version": "3.10.10"
  },
  "orig_nbformat": 4
 },
 "nbformat": 4,
 "nbformat_minor": 2
}
