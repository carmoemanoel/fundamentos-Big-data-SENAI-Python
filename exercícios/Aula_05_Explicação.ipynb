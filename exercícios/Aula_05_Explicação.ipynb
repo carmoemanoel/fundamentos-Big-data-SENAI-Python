{
 "cells": [
  {
   "cell_type": "markdown",
   "metadata": {},
   "source": [
    "#### Loop FOR\n",
    "A estrutura de repetição for pode atuar sobre itens de qualquer tipo de sequência\n",
    "(lista ou string) na ordem em que aparecem."
   ]
  },
  {
   "cell_type": "code",
   "execution_count": 3,
   "metadata": {},
   "outputs": [
    {
     "name": "stdout",
     "output_type": "stream",
     "text": [
      "Abacate Repetição de nº: 1\n",
      "Pêra Repetição de nº: 2\n",
      "Abacaxi Repetição de nº: 3\n"
     ]
    }
   ],
   "source": [
    "frutas = ['Abacate','Pêra','Abacaxi']\n",
    "qtd = 0\n",
    "for fruta in frutas:\n",
    "    qtd += 1\n",
    "    print(fruta, 'Repetição de nº:', qtd)"
   ]
  },
  {
   "cell_type": "markdown",
   "metadata": {},
   "source": [
    "#### Exemplo 02 - FOR Condicional"
   ]
  },
  {
   "cell_type": "code",
   "execution_count": 4,
   "metadata": {},
   "outputs": [
    {
     "name": "stdout",
     "output_type": "stream",
     "text": [
      "Abacate\n",
      "Abacaxi\n"
     ]
    }
   ],
   "source": [
    "frutas = ['Abacate','Pêra','Abacaxi']\n",
    "\n",
    "for fruta in frutas:\n",
    "    if fruta.startswith('A'):\n",
    "        print(fruta)"
   ]
  },
  {
   "cell_type": "markdown",
   "metadata": {},
   "source": [
    "#### Exemplo 03 - For com ACUMULADOR "
   ]
  },
  {
   "cell_type": "code",
   "execution_count": 6,
   "metadata": {},
   "outputs": [
    {
     "name": "stdout",
     "output_type": "stream",
     "text": [
      "1\n",
      "3\n",
      "6\n",
      "10\n",
      "15\n",
      "21\n",
      "28\n",
      "36\n",
      "45\n",
      "55\n"
     ]
    }
   ],
   "source": [
    "listaNumeros = [1,2,3,4,5,6,7,8,9,10]\n",
    "soma = 0  # Variável acumuladora\n",
    "\n",
    "for num in listaNumeros:\n",
    "    soma += num\n",
    "    print(soma)\n"
   ]
  }
 ],
 "metadata": {
  "kernelspec": {
   "display_name": "Python 3",
   "language": "python",
   "name": "python3"
  },
  "language_info": {
   "codemirror_mode": {
    "name": "ipython",
    "version": 3
   },
   "file_extension": ".py",
   "mimetype": "text/x-python",
   "name": "python",
   "nbconvert_exporter": "python",
   "pygments_lexer": "ipython3",
   "version": "3.11.0"
  }
 },
 "nbformat": 4,
 "nbformat_minor": 2
}
