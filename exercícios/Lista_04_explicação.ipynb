{
 "cells": [
  {
   "cell_type": "markdown",
   "metadata": {},
   "source": [
    "#### Listas (list)\n",
    "\n",
    "Tipo de dado muito importante e que é muito utilizado no dia a dia do\n",
    "desenvolvedor Python!\n",
    "Listas agrupam um conjunto de elementos variados, podendo conter: inteiros, floats,\n",
    "strings, outras listas e outros tipos.\n",
    "Elas são definidas utilizando-se colchetes para delimitar a lista e vírgulas para\n",
    "separar os elementos, veja alguns exemplo abaixo:"
   ]
  },
  {
   "cell_type": "code",
   "execution_count": 1,
   "metadata": {},
   "outputs": [
    {
     "name": "stdout",
     "output_type": "stream",
     "text": [
      "<class 'list'>\n",
      "<class 'list'>\n"
     ]
    }
   ],
   "source": [
    "alunos =  ['Amanda' , 'Ana' , 'Bruno' , 'João']\n",
    "notas = [ 10 , 8.5 , 7.8 ,8.0 ]\n",
    "\n",
    "print(type(alunos))\n",
    "print(type(notas))"
   ]
  },
  {
   "cell_type": "markdown",
   "metadata": {},
   "source": [
    "#### Listas (list) - Acessando itens na lista"
   ]
  },
  {
   "cell_type": "code",
   "execution_count": 8,
   "metadata": {},
   "outputs": [
    {
     "name": "stdout",
     "output_type": "stream",
     "text": [
      "A primeira posição da lista é 0:  Amanda\n",
      "A terceira posição da lista é 2:  Bruno\n",
      "A quarta posição da lista é 3:  João\n",
      "Para retornar uma fatia, você deve usar a seguinte sintaxe\n",
      "nomeLista[posiçãoInicial:posiçãoFinal] ['Ana', 'Bruno', 'João']\n"
     ]
    }
   ],
   "source": [
    "# Retornar a aluna Amanda\n",
    "print('A primeira posição da lista é 0: ', alunos[0])\n",
    "\n",
    "# Retornar o aluno Bruno\n",
    "\n",
    "print('A terceira posição da lista é 2: ', alunos[2])\n",
    "\n",
    "# Retornar o aluno João\n",
    "print('A quarta posição da lista é 3: ', alunos[3])\n",
    "\n",
    "#  Retornar uma fatia de dados\n",
    "\n",
    "print('Para retornar uma fatia, você deve usar a seguinte sintaxe' + \n",
    "      '\\n' + 'nomeLista[posiçãoInicial:posiçãoFinal]', alunos[1:4])"
   ]
  },
  {
   "cell_type": "markdown",
   "metadata": {},
   "source": [
    "#### Lista (list) - Adicionar novos elementos"
   ]
  },
  {
   "cell_type": "code",
   "execution_count": 9,
   "metadata": {},
   "outputs": [
    {
     "name": "stdout",
     "output_type": "stream",
     "text": [
      "['Amanda', 'Ana', 'Bruno', 'João', 'Florisponfildo', 'Jodel']\n"
     ]
    }
   ],
   "source": [
    "# O comando -> .append adiciona um elemento à lista\n",
    "# Adicionar 02 nomes à lista alunos usando o comando \n",
    "\n",
    "alunos.append('Florisponfildo')\n",
    "alunos.append('Jodel')\n",
    "\n",
    "print(alunos)"
   ]
  },
  {
   "cell_type": "code",
   "execution_count": 34,
   "metadata": {},
   "outputs": [
    {
     "name": "stdout",
     "output_type": "stream",
     "text": [
      "[8.5, 7.8, 8.0, 10, 10, 8]\n"
     ]
    }
   ],
   "source": [
    "# Adicionar 02 valores à lista notas\n",
    "\n",
    "notas.append(10)\n",
    "notas.append(8)\n",
    "\n",
    "print(notas)"
   ]
  },
  {
   "cell_type": "markdown",
   "metadata": {},
   "source": [
    "#### Listas (list) - Removendo um elemento de uma lista"
   ]
  },
  {
   "cell_type": "code",
   "execution_count": 36,
   "metadata": {},
   "outputs": [
    {
     "name": "stdout",
     "output_type": "stream",
     "text": [
      "['Amanda', 'Ana', 'Bruno', 'João', 'Florisponfildo']\n"
     ]
    }
   ],
   "source": [
    "# Removendo um item de acordo com o valor\n",
    "\n",
    "alunos.remove('Jodel')\n",
    "print(alunos)"
   ]
  }
 ],
 "metadata": {
  "kernelspec": {
   "display_name": "Python 3",
   "language": "python",
   "name": "python3"
  },
  "language_info": {
   "codemirror_mode": {
    "name": "ipython",
    "version": 3
   },
   "file_extension": ".py",
   "mimetype": "text/x-python",
   "name": "python",
   "nbconvert_exporter": "python",
   "pygments_lexer": "ipython3",
   "version": "3.11.0"
  }
 },
 "nbformat": 4,
 "nbformat_minor": 2
}
