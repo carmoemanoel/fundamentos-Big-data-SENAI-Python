{
 "cells": [
  {
   "cell_type": "markdown",
   "metadata": {},
   "source": [
    "#### Listas (list)\n",
    "\n",
    "Tipo de dado muito importante e que é muito utilizado no dia a dia do\n",
    "desenvolvedor Python!\n",
    "Listas agrupam um conjunto de elementos variados, podendo conter: inteiros, floats,\n",
    "strings, outras listas e outros tipos.\n",
    "Elas são definidas utilizando-se colchetes para delimitar a lista e vírgulas para\n",
    "separar os elementos, veja alguns exemplo abaixo:"
   ]
  },
  {
   "cell_type": "code",
   "execution_count": 4,
   "metadata": {},
   "outputs": [
    {
     "name": "stdout",
     "output_type": "stream",
     "text": [
      "<class 'list'>\n",
      "<class 'list'>\n"
     ]
    }
   ],
   "source": [
    "alunos =  ['Amanda' , 'Ana' , 'Bruno' , 'João']\n",
    "notas = [ 10 , 8.5 , 7.8 ,8.0 ]\n",
    "\n",
    "print(type(alunos))\n",
    "print(type(notas))"
   ]
  },
  {
   "cell_type": "markdown",
   "metadata": {},
   "source": [
    "#### Listas (list) - Acessando itens na lista"
   ]
  },
  {
   "cell_type": "code",
   "execution_count": 5,
   "metadata": {},
   "outputs": [
    {
     "name": "stdout",
     "output_type": "stream",
     "text": [
      "A primeira posição da lista é 0:  Amanda\n",
      "A terceira posição da lista é 2:  Bruno\n",
      "A quarta posição da lista é 3:  João\n",
      "Para retornar uma fatia, você deve usar a seguinte sintaxe\n",
      "nomeLista[posiçãoInicial:posiçãoFinal] ['Ana', 'Bruno', 'João']\n"
     ]
    }
   ],
   "source": [
    "# Retornar a aluna Amanda\n",
    "print('A primeira posição da lista é 0: ', alunos[0])\n",
    "\n",
    "# Retornar o aluno Bruno\n",
    "\n",
    "print('A terceira posição da lista é 2: ', alunos[2])\n",
    "\n",
    "# Retornar o aluno João\n",
    "print('A quarta posição da lista é 3: ', alunos[3])\n",
    "\n",
    "#  Retornar uma fatia de dados\n",
    "\n",
    "print('Para retornar uma fatia, você deve usar a seguinte sintaxe' + \n",
    "      '\\n' + 'nomeLista[posiçãoInicial:posiçãoFinal]', alunos[1:4])"
   ]
  },
  {
   "cell_type": "markdown",
   "metadata": {},
   "source": [
    "#### Lista (list) - Adicionar novos elementos"
   ]
  },
  {
   "cell_type": "code",
   "execution_count": 6,
   "metadata": {},
   "outputs": [
    {
     "name": "stdout",
     "output_type": "stream",
     "text": [
      "['Amanda', 'Ana', 'Bruno', 'João', 'Florisponfildo', 'Jodel']\n"
     ]
    }
   ],
   "source": [
    "# O comando -> .append adiciona um elemento à lista\n",
    "# Adicionar 02 nomes à lista alunos usando o comando \n",
    "\n",
    "alunos.append('Florisponfildo')\n",
    "alunos.append('Jodel')\n",
    "\n",
    "print(alunos)"
   ]
  },
  {
   "cell_type": "code",
   "execution_count": 7,
   "metadata": {},
   "outputs": [
    {
     "name": "stdout",
     "output_type": "stream",
     "text": [
      "[10, 8.5, 7.8, 8.0, 10, 8]\n"
     ]
    }
   ],
   "source": [
    "# Adicionar 02 valores à lista notas\n",
    "\n",
    "notas.append(10)\n",
    "notas.append(8)\n",
    "\n",
    "print(notas)"
   ]
  },
  {
   "cell_type": "markdown",
   "metadata": {},
   "source": [
    "#### Listas (list) - Removendo um elemento de uma lista"
   ]
  },
  {
   "cell_type": "code",
   "execution_count": 8,
   "metadata": {},
   "outputs": [
    {
     "name": "stdout",
     "output_type": "stream",
     "text": [
      "['Amanda', 'Ana', 'Bruno', 'João', 'Florisponfildo']\n"
     ]
    }
   ],
   "source": [
    "# Removendo um item de acordo com o valor\n",
    "\n",
    "alunos.remove('Jodel')\n",
    "print(alunos)"
   ]
  },
  {
   "cell_type": "markdown",
   "metadata": {},
   "source": [
    "#### Lista (list) -  Conversão para string\n",
    "Já para criar uma string com todos os elementos de uma lista, podemos utilizar o\n",
    "comando join():"
   ]
  },
  {
   "cell_type": "code",
   "execution_count": 12,
   "metadata": {},
   "outputs": [
    {
     "name": "stdout",
     "output_type": "stream",
     "text": [
      "Amanda,Ana,Bruno,João,Florisponfildo\n",
      "<class 'list'>\n",
      "<class 'str'>\n"
     ]
    }
   ],
   "source": [
    "listaString = ','.join(alunos)\n",
    "print(listaString)\n",
    "\n",
    "print(type(alunos))\n",
    "print(type(listaString))"
   ]
  },
  {
   "cell_type": "markdown",
   "metadata": {},
   "source": [
    "#### Lista (list) -  Convertendo uma lista para uma string\n",
    "Ainda com strings, podemos criar uma lista a partir de uma string com o comando\n",
    "split():"
   ]
  },
  {
   "cell_type": "code",
   "execution_count": 17,
   "metadata": {},
   "outputs": [
    {
     "name": "stdout",
     "output_type": "stream",
     "text": [
      "batata ; cebola ; tomate ; laranja\n",
      "['batata ', ' cebola ', ' tomate ', ' laranja']\n"
     ]
    }
   ],
   "source": [
    "feira = 'batata ; cebola ; tomate ; laranja'\n",
    "\n",
    "listaFeira = feira.split(';')\n",
    "\n",
    "print(feira)\n",
    "print(listaFeira)"
   ]
  },
  {
   "cell_type": "markdown",
   "metadata": {},
   "source": [
    "#### Tuplas (tuple)\n",
    "\n",
    "Assim como Lista, Tupla é um tipo que agrupa um conjunto de elementos.\n",
    "Porém sua forma de definição é diferente: utilizamos parênteses e também\n",
    "separado por vírgula.\n",
    "A diferença para Lista é que Tuplas são imutáveis, ou seja, após sua definição, Tuplas\n",
    "não podem ser modificadas."
   ]
  },
  {
   "cell_type": "code",
   "execution_count": 4,
   "metadata": {},
   "outputs": [
    {
     "name": "stdout",
     "output_type": "stream",
     "text": [
      "<class 'tuple'>\n",
      "<class 'tuple'>\n"
     ]
    }
   ],
   "source": [
    "# Criando TUPLAS\n",
    "\n",
    "valores = (90, 79, 54, 32, 21)\n",
    "pontos = (100, 94.05, 86.08, 62)\n",
    "\n",
    "# Verificando o tipo de dado\n",
    "\n",
    "print(type(valores))\n",
    "print(type(pontos))"
   ]
  },
  {
   "cell_type": "code",
   "execution_count": 7,
   "metadata": {},
   "outputs": [
    {
     "name": "stdout",
     "output_type": "stream",
     "text": [
      "Não foi possível modificar uma tupla.\n"
     ]
    }
   ],
   "source": [
    "# Acessando elementos da tuplas & Tratamento de erros;\n",
    "try:\n",
    "    valores [1] = 10\n",
    "\n",
    "except TypeError:\n",
    "    print('Não foi possível modificar uma tupla.')"
   ]
  },
  {
   "cell_type": "markdown",
   "metadata": {},
   "source": [
    "#### Tuplas (tuple) - Outros exemplos\n",
    "\n",
    "As tuplas são uma forma eficaz de usar funções para retornar múltiplos valores:"
   ]
  },
  {
   "cell_type": "code",
   "execution_count": 8,
   "metadata": {},
   "outputs": [],
   "source": [
    "def sum_and_product (x, y):\n",
    "    return (x + y) , (x * y)"
   ]
  },
  {
   "cell_type": "code",
   "execution_count": 12,
   "metadata": {},
   "outputs": [
    {
     "name": "stdout",
     "output_type": "stream",
     "text": [
      "(5, 6)\n",
      "15\n",
      "50\n"
     ]
    }
   ],
   "source": [
    "# Chamando a função\n",
    "\n",
    "resultado = sum_and_product(2 , 3)\n",
    "print(resultado)\n",
    "\n",
    "# Outro exemplo\n",
    "\n",
    "a , b =  sum_and_product(5,10)\n",
    "\n",
    "print(a)\n",
    "print(b)"
   ]
  },
  {
   "cell_type": "markdown",
   "metadata": {},
   "source": [
    "#### Dicionários (dict)\n",
    "Dict é um tipo de dado muito flexível do Python.\n",
    "Eles são utilizados para agrupar elementos através da estrutura de chave e valor,\n",
    "onde a chave é o primeiro elemento seguido por dois pontos e pelo valor.\n",
    "Vamos ver alguns exemplos:"
   ]
  },
  {
   "cell_type": "code",
   "execution_count": 18,
   "metadata": {},
   "outputs": [
    {
     "name": "stdout",
     "output_type": "stream",
     "text": [
      "<class 'dict'>\n",
      "<class 'dict'>\n"
     ]
    }
   ],
   "source": [
    "\n",
    "\n",
    "altura = {\n",
    "    'Amanda':1.65 ,\n",
    "    'Ana':1.60 ,\n",
    "    'João': 1.78\n",
    "}\n",
    "\n",
    "peso = {\n",
    "     'Amanda':68 ,\n",
    "    'Ana': 58,\n",
    "    'João': 70\n",
    "}\n",
    "\n",
    "print(type(altura))\n",
    "print(type(peso))"
   ]
  },
  {
   "cell_type": "code",
   "execution_count": 20,
   "metadata": {},
   "outputs": [
    {
     "name": "stdout",
     "output_type": "stream",
     "text": [
      "{'Amanda': 1.65, 'Ana': 1.6, 'João': 1.78, 'Emanoel': 1.65}\n",
      "{'Amanda': 68, 'Ana': 58, 'João': 70, 'Emanoel': 73}\n"
     ]
    }
   ],
   "source": [
    "# Adicionar um elemento ao dicionário\n",
    "\n",
    "altura['Emanoel'] = 1.65\n",
    "\n",
    "peso['Emanoel'] = 73\n",
    "\n",
    "print(altura)\n",
    "print(peso)"
   ]
  }
 ],
 "metadata": {
  "kernelspec": {
   "display_name": "Python 3",
   "language": "python",
   "name": "python3"
  },
  "language_info": {
   "codemirror_mode": {
    "name": "ipython",
    "version": 3
   },
   "file_extension": ".py",
   "mimetype": "text/x-python",
   "name": "python",
   "nbconvert_exporter": "python",
   "pygments_lexer": "ipython3",
   "version": "3.11.0"
  }
 },
 "nbformat": 4,
 "nbformat_minor": 2
}
