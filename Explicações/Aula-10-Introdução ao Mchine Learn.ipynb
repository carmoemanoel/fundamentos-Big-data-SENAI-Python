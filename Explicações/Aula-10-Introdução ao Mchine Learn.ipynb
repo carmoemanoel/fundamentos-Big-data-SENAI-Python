{
 "cells": [
  {
   "cell_type": "markdown",
   "metadata": {},
   "source": [
    "#### INTRODUÇÃO AO SCIKIT-LEARN\n",
    "\n",
    "- Carregar os datasets embutidos\n",
    "- Separar a amostra como Treino e Teste"
   ]
  },
  {
   "cell_type": "code",
   "execution_count": 1,
   "metadata": {},
   "outputs": [],
   "source": [
    "# Importar as bibliotecas\n",
    "from sklearn.datasets import load_iris # Conjunto de Dados\n",
    "from sklearn.model_selection import train_test_split # Dividir os dados"
   ]
  },
  {
   "cell_type": "markdown",
   "metadata": {},
   "source": [
    "#### Alocar os dados em um dataset"
   ]
  },
  {
   "cell_type": "code",
   "execution_count": 6,
   "metadata": {},
   "outputs": [
    {
     "data": {
      "text/plain": [
       "2"
      ]
     },
     "execution_count": 6,
     "metadata": {},
     "output_type": "execute_result"
    }
   ],
   "source": [
    "dados = load_iris(return_X_y=True)\n",
    "len(dados)"
   ]
  },
  {
   "cell_type": "markdown",
   "metadata": {},
   "source": [
    "#### Separar o dataset em variáveis preditodas(X) e variáveis resposta(Y)"
   ]
  },
  {
   "cell_type": "code",
   "execution_count": 7,
   "metadata": {},
   "outputs": [
    {
     "name": "stdout",
     "output_type": "stream",
     "text": [
      "Quantidade de valores de X 150\n",
      "Quantidade de valores de y 150\n"
     ]
    }
   ],
   "source": [
    "X,y = dados\n",
    "print('Quantidade de valores de X', len(X))\n",
    "print('Quantidade de valores de y', len(y)) "
   ]
  },
  {
   "cell_type": "markdown",
   "metadata": {},
   "source": [
    "#### Dividir os dados em Treino e Teste"
   ]
  },
  {
   "cell_type": "code",
   "execution_count": 15,
   "metadata": {},
   "outputs": [
    {
     "name": "stdout",
     "output_type": "stream",
     "text": [
      "Quantidade de valores de Treino 105\n",
      "Quantidade de valores de Teste 45\n"
     ]
    }
   ],
   "source": [
    "X_train, X_test, y_train, y_test = train_test_split(X, y, test_size=0.3)\n",
    "\n",
    "print('Quantidade de valores de Treino', len(X_train)) # A quantidade de trrino sempre maior que a do teste\n",
    "print('Quantidade de valores de Teste', len(X_test)) "
   ]
  }
 ],
 "metadata": {
  "kernelspec": {
   "display_name": "Python 3",
   "language": "python",
   "name": "python3"
  },
  "language_info": {
   "codemirror_mode": {
    "name": "ipython",
    "version": 3
   },
   "file_extension": ".py",
   "mimetype": "text/x-python",
   "name": "python",
   "nbconvert_exporter": "python",
   "pygments_lexer": "ipython3",
   "version": "3.11.0"
  }
 },
 "nbformat": 4,
 "nbformat_minor": 2
}
