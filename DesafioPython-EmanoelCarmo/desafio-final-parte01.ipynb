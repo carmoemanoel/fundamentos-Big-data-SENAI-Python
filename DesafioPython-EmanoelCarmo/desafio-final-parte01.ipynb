{
 "cells": [
  {
   "cell_type": "markdown",
   "metadata": {},
   "source": [
    "#### Importar bibliotecas"
   ]
  },
  {
   "cell_type": "code",
   "execution_count": 3,
   "metadata": {},
   "outputs": [],
   "source": [
    "import pandas as pd\n",
    "import os\n",
    "import matplotlib.pyplot as plt\n",
    "import seaborn as sns"
   ]
  },
  {
   "cell_type": "markdown",
   "metadata": {},
   "source": [
    "#### Carregando arquivos de vendas"
   ]
  },
  {
   "cell_type": "code",
   "execution_count": 8,
   "metadata": {},
   "outputs": [],
   "source": [
    "# PASTA QUE CONTÉM TODOS OS ARQUIVOS\n",
    "caminhoDaPasta = './arquivos/vendas/'\n",
    "# AGRUPAR TODOS OS DOCUMENTOS EM UM ÚNICO DATAFRAME\n",
    "diretorios = []\n",
    "#os.listdir(caminhoDaPasta)\n",
    "for file in os.listdir(caminhoDaPasta):\n",
    "    fullPath = caminhoDaPasta + file\n",
    "    diretorios.append(fullPath)\n"
   ]
  },
  {
   "cell_type": "markdown",
   "metadata": {},
   "source": [
    "#### CRIANDO DATAFRAME"
   ]
  },
  {
   "cell_type": "code",
   "execution_count": 11,
   "metadata": {},
   "outputs": [],
   "source": [
    "# CRIAR UM DATAFRAME VAZIO\n",
    "dfvendas = pd.DataFrame()\n",
    "\n",
    "# LOOP PARA ABRIR E AGRUPOR OS DOCUMENTOS E COMBINÁ-LOS (+/- UNION DO SQL)\n",
    "for path in diretorios:\n",
    "    df = pd.read_excel(path)\n",
    "    dfvendas = pd.concat([dfvendas,df])\n",
    "\n",
    "# GERAR UM ARQUIVO CSV COM OS DADOS CONSOLIDADOS\n",
    "dfvendas.to_csv(caminhoDaPasta + 'arquivoCombinado.csv')\n"
   ]
  },
  {
   "cell_type": "markdown",
   "metadata": {},
   "source": [
    "#### CARREGAR OS DEMAIS DATAFRAMES"
   ]
  },
  {
   "cell_type": "code",
   "execution_count": 20,
   "metadata": {},
   "outputs": [],
   "source": [
    "dfMetas = pd.read_excel('./arquivos/base-meta-new.xlsx')\n",
    "dfVendedores = pd.read_excel('./arquivos/Dimensões.xlsx', sheet_name='Vendedor')\n",
    "dfProdutos = pd.read_excel('./arquivos/Dimensões.xlsx', sheet_name='Produto')\n",
    "dfDatas = pd.read_excel('./arquivos/Dimensões.xlsx', sheet_name='Data')\n",
    "dfGrupoProduto = pd.read_excel('./arquivos/Dimensões.xlsx', sheet_name='GrupoProduto')\n",
    "dfCliente = pd.read_excel('./arquivos/Dimensões.xlsx' , sheet_name='Cliente')\n",
    "\n",
    "################### TRATAMENTO DO DATAFREME ###################\n",
    "\n",
    "# FATIAMENTO DO DATAFREME\n",
    "dfMetas = dfMetas.iloc[3:,1:4]\n",
    "\n",
    "# RENOMEANDO COLUNAS\n",
    "dfMetas.columns = ['cdVendedor','data','meta']"
   ]
  },
  {
   "cell_type": "markdown",
   "metadata": {},
   "source": [
    "#### TRATAMENTO DO ARQUIVO VENDEDOR"
   ]
  },
  {
   "cell_type": "code",
   "execution_count": 22,
   "metadata": {},
   "outputs": [
    {
     "data": {
      "text/html": [
       "<div>\n",
       "<style scoped>\n",
       "    .dataframe tbody tr th:only-of-type {\n",
       "        vertical-align: middle;\n",
       "    }\n",
       "\n",
       "    .dataframe tbody tr th {\n",
       "        vertical-align: top;\n",
       "    }\n",
       "\n",
       "    .dataframe thead th {\n",
       "        text-align: right;\n",
       "    }\n",
       "</style>\n",
       "<table border=\"1\" class=\"dataframe\">\n",
       "  <thead>\n",
       "    <tr style=\"text-align: right;\">\n",
       "      <th></th>\n",
       "      <th>cdVendedor</th>\n",
       "      <th>Vendedor</th>\n",
       "      <th>cdSupervisor</th>\n",
       "      <th>Supervisor</th>\n",
       "      <th>cdGerente</th>\n",
       "      <th>Gerente</th>\n",
       "      <th>Equipe</th>\n",
       "    </tr>\n",
       "  </thead>\n",
       "  <tbody>\n",
       "    <tr>\n",
       "      <th>0</th>\n",
       "      <td>669</td>\n",
       "      <td>Kaua Araujo</td>\n",
       "      <td>15</td>\n",
       "      <td>Fernando Silva</td>\n",
       "      <td>1</td>\n",
       "      <td>Victor Castro</td>\n",
       "      <td>Varejo</td>\n",
       "    </tr>\n",
       "    <tr>\n",
       "      <th>1</th>\n",
       "      <td>660</td>\n",
       "      <td>Julieta Gomes</td>\n",
       "      <td>25</td>\n",
       "      <td>Emily Rocha</td>\n",
       "      <td>1</td>\n",
       "      <td>Victor Castro</td>\n",
       "      <td>Varejo</td>\n",
       "    </tr>\n",
       "    <tr>\n",
       "      <th>2</th>\n",
       "      <td>183</td>\n",
       "      <td>Isabella Sousa</td>\n",
       "      <td>25</td>\n",
       "      <td>Emily Rocha</td>\n",
       "      <td>1</td>\n",
       "      <td>Victor Castro</td>\n",
       "      <td>Varejo</td>\n",
       "    </tr>\n",
       "    <tr>\n",
       "      <th>3</th>\n",
       "      <td>102</td>\n",
       "      <td>Gustavo Barros</td>\n",
       "      <td>25</td>\n",
       "      <td>Emily Rocha</td>\n",
       "      <td>1</td>\n",
       "      <td>Victor Castro</td>\n",
       "      <td>Varejo</td>\n",
       "    </tr>\n",
       "    <tr>\n",
       "      <th>4</th>\n",
       "      <td>196</td>\n",
       "      <td>Leonardo Cardoso</td>\n",
       "      <td>30</td>\n",
       "      <td>Diego Araujo</td>\n",
       "      <td>1</td>\n",
       "      <td>Victor Castro</td>\n",
       "      <td>Varejo</td>\n",
       "    </tr>\n",
       "  </tbody>\n",
       "</table>\n",
       "</div>"
      ],
      "text/plain": [
       "   cdVendedor          Vendedor  cdSupervisor      Supervisor  cdGerente  \\\n",
       "0         669       Kaua Araujo            15  Fernando Silva          1   \n",
       "1         660     Julieta Gomes            25     Emily Rocha          1   \n",
       "2         183    Isabella Sousa            25     Emily Rocha          1   \n",
       "3         102    Gustavo Barros            25     Emily Rocha          1   \n",
       "4         196  Leonardo Cardoso            30    Diego Araujo          1   \n",
       "\n",
       "         Gerente  Equipe  \n",
       "0  Victor Castro  Varejo  \n",
       "1  Victor Castro  Varejo  \n",
       "2  Victor Castro  Varejo  \n",
       "3  Victor Castro  Varejo  \n",
       "4  Victor Castro  Varejo  "
      ]
     },
     "execution_count": 22,
     "metadata": {},
     "output_type": "execute_result"
    }
   ],
   "source": [
    "# VISUALIZANDO O CABEÇALHO\n",
    "dfVendedores.head()"
   ]
  },
  {
   "cell_type": "code",
   "execution_count": 23,
   "metadata": {},
   "outputs": [
    {
     "data": {
      "text/html": [
       "<div>\n",
       "<style scoped>\n",
       "    .dataframe tbody tr th:only-of-type {\n",
       "        vertical-align: middle;\n",
       "    }\n",
       "\n",
       "    .dataframe tbody tr th {\n",
       "        vertical-align: top;\n",
       "    }\n",
       "\n",
       "    .dataframe thead th {\n",
       "        text-align: right;\n",
       "    }\n",
       "</style>\n",
       "<table border=\"1\" class=\"dataframe\">\n",
       "  <thead>\n",
       "    <tr style=\"text-align: right;\">\n",
       "      <th></th>\n",
       "      <th>cdVendedor</th>\n",
       "      <th>Vendedor</th>\n",
       "      <th>cdSupervisor</th>\n",
       "      <th>Supervisor</th>\n",
       "      <th>cdGerente</th>\n",
       "      <th>Gerente</th>\n",
       "      <th>Equipe</th>\n",
       "    </tr>\n",
       "  </thead>\n",
       "  <tbody>\n",
       "    <tr>\n",
       "      <th>7</th>\n",
       "      <td>265</td>\n",
       "      <td>Julio Lima</td>\n",
       "      <td>35</td>\n",
       "      <td>Diogo Carvalho</td>\n",
       "      <td>2</td>\n",
       "      <td>Gabriel Azevedo</td>\n",
       "      <td>Distribuidoras</td>\n",
       "    </tr>\n",
       "    <tr>\n",
       "      <th>8</th>\n",
       "      <td>194</td>\n",
       "      <td>Estevan Souza</td>\n",
       "      <td>35</td>\n",
       "      <td>Diogo Carvalho</td>\n",
       "      <td>2</td>\n",
       "      <td>Gabriel Azevedo</td>\n",
       "      <td>Distribuidoras</td>\n",
       "    </tr>\n",
       "    <tr>\n",
       "      <th>9</th>\n",
       "      <td>144</td>\n",
       "      <td>Felipe Goncalves</td>\n",
       "      <td>55</td>\n",
       "      <td>Sofia Ribeiro</td>\n",
       "      <td>2</td>\n",
       "      <td>Gabriel Azevedo</td>\n",
       "      <td>Online</td>\n",
       "    </tr>\n",
       "    <tr>\n",
       "      <th>10</th>\n",
       "      <td>285</td>\n",
       "      <td>Mateus Costa</td>\n",
       "      <td>55</td>\n",
       "      <td>Sofia Ribeiro</td>\n",
       "      <td>2</td>\n",
       "      <td>Gabriel Azevedo</td>\n",
       "      <td>Online</td>\n",
       "    </tr>\n",
       "    <tr>\n",
       "      <th>11</th>\n",
       "      <td>326</td>\n",
       "      <td>Julia Silva</td>\n",
       "      <td>55</td>\n",
       "      <td>Sofia Ribeiro</td>\n",
       "      <td>2</td>\n",
       "      <td>Gabriel Azevedo</td>\n",
       "      <td>Online</td>\n",
       "    </tr>\n",
       "  </tbody>\n",
       "</table>\n",
       "</div>"
      ],
      "text/plain": [
       "    cdVendedor          Vendedor  cdSupervisor      Supervisor  cdGerente  \\\n",
       "7          265        Julio Lima            35  Diogo Carvalho          2   \n",
       "8          194     Estevan Souza            35  Diogo Carvalho          2   \n",
       "9          144  Felipe Goncalves            55   Sofia Ribeiro          2   \n",
       "10         285      Mateus Costa            55   Sofia Ribeiro          2   \n",
       "11         326       Julia Silva            55   Sofia Ribeiro          2   \n",
       "\n",
       "            Gerente          Equipe  \n",
       "7   Gabriel Azevedo  Distribuidoras  \n",
       "8   Gabriel Azevedo  Distribuidoras  \n",
       "9   Gabriel Azevedo          Online  \n",
       "10  Gabriel Azevedo          Online  \n",
       "11  Gabriel Azevedo          Online  "
      ]
     },
     "execution_count": 23,
     "metadata": {},
     "output_type": "execute_result"
    }
   ],
   "source": [
    "# VISUALIZANDO O FINAL DO CABEÇALHO\n",
    "dfVendedores.tail()"
   ]
  },
  {
   "cell_type": "code",
   "execution_count": 24,
   "metadata": {},
   "outputs": [
    {
     "name": "stdout",
     "output_type": "stream",
     "text": [
      "<class 'pandas.core.frame.DataFrame'>\n",
      "RangeIndex: 12 entries, 0 to 11\n",
      "Data columns (total 7 columns):\n",
      " #   Column        Non-Null Count  Dtype \n",
      "---  ------        --------------  ----- \n",
      " 0   cdVendedor    12 non-null     int64 \n",
      " 1   Vendedor      12 non-null     object\n",
      " 2   cdSupervisor  12 non-null     int64 \n",
      " 3   Supervisor    12 non-null     object\n",
      " 4   cdGerente     12 non-null     int64 \n",
      " 5   Gerente       12 non-null     object\n",
      " 6   Equipe        12 non-null     object\n",
      "dtypes: int64(3), object(4)\n",
      "memory usage: 800.0+ bytes\n"
     ]
    }
   ],
   "source": [
    "# VERIFICANDO OS TIPOS DE DADOS\n",
    "dfVendedores.info()"
   ]
  },
  {
   "cell_type": "code",
   "execution_count": 25,
   "metadata": {},
   "outputs": [
    {
     "data": {
      "text/html": [
       "<div>\n",
       "<style scoped>\n",
       "    .dataframe tbody tr th:only-of-type {\n",
       "        vertical-align: middle;\n",
       "    }\n",
       "\n",
       "    .dataframe tbody tr th {\n",
       "        vertical-align: top;\n",
       "    }\n",
       "\n",
       "    .dataframe thead th {\n",
       "        text-align: right;\n",
       "    }\n",
       "</style>\n",
       "<table border=\"1\" class=\"dataframe\">\n",
       "  <thead>\n",
       "    <tr style=\"text-align: right;\">\n",
       "      <th></th>\n",
       "      <th>cdVendedor</th>\n",
       "      <th>cdSupervisor</th>\n",
       "      <th>cdGerente</th>\n",
       "    </tr>\n",
       "  </thead>\n",
       "  <tbody>\n",
       "    <tr>\n",
       "      <th>count</th>\n",
       "      <td>12.000000</td>\n",
       "      <td>12.00000</td>\n",
       "      <td>12.000000</td>\n",
       "    </tr>\n",
       "    <tr>\n",
       "      <th>mean</th>\n",
       "      <td>280.333333</td>\n",
       "      <td>35.00000</td>\n",
       "      <td>1.500000</td>\n",
       "    </tr>\n",
       "    <tr>\n",
       "      <th>std</th>\n",
       "      <td>190.782281</td>\n",
       "      <td>13.31438</td>\n",
       "      <td>0.522233</td>\n",
       "    </tr>\n",
       "    <tr>\n",
       "      <th>min</th>\n",
       "      <td>102.000000</td>\n",
       "      <td>15.00000</td>\n",
       "      <td>1.000000</td>\n",
       "    </tr>\n",
       "    <tr>\n",
       "      <th>25%</th>\n",
       "      <td>173.250000</td>\n",
       "      <td>25.00000</td>\n",
       "      <td>1.000000</td>\n",
       "    </tr>\n",
       "    <tr>\n",
       "      <th>50%</th>\n",
       "      <td>205.500000</td>\n",
       "      <td>32.50000</td>\n",
       "      <td>1.500000</td>\n",
       "    </tr>\n",
       "    <tr>\n",
       "      <th>75%</th>\n",
       "      <td>295.250000</td>\n",
       "      <td>40.00000</td>\n",
       "      <td>2.000000</td>\n",
       "    </tr>\n",
       "    <tr>\n",
       "      <th>max</th>\n",
       "      <td>669.000000</td>\n",
       "      <td>55.00000</td>\n",
       "      <td>2.000000</td>\n",
       "    </tr>\n",
       "  </tbody>\n",
       "</table>\n",
       "</div>"
      ],
      "text/plain": [
       "       cdVendedor  cdSupervisor  cdGerente\n",
       "count   12.000000      12.00000  12.000000\n",
       "mean   280.333333      35.00000   1.500000\n",
       "std    190.782281      13.31438   0.522233\n",
       "min    102.000000      15.00000   1.000000\n",
       "25%    173.250000      25.00000   1.000000\n",
       "50%    205.500000      32.50000   1.500000\n",
       "75%    295.250000      40.00000   2.000000\n",
       "max    669.000000      55.00000   2.000000"
      ]
     },
     "execution_count": 25,
     "metadata": {},
     "output_type": "execute_result"
    }
   ],
   "source": [
    "# OBTENDO ALGUMAS ESTATÍSTICAS BÁSICAS\n",
    "dfVendedores.describe()"
   ]
  },
  {
   "cell_type": "markdown",
   "metadata": {},
   "source": [
    "- DAR CONTINUIDADE NA ANÁLISE EXPLORATÓRIA DOS OUTROS DATAFRAME"
   ]
  },
  {
   "cell_type": "markdown",
   "metadata": {},
   "source": [
    "#### Análise Exploratória"
   ]
  },
  {
   "cell_type": "code",
   "execution_count": 37,
   "metadata": {},
   "outputs": [
    {
     "data": {
      "text/html": [
       "<div>\n",
       "<style scoped>\n",
       "    .dataframe tbody tr th:only-of-type {\n",
       "        vertical-align: middle;\n",
       "    }\n",
       "\n",
       "    .dataframe tbody tr th {\n",
       "        vertical-align: top;\n",
       "    }\n",
       "\n",
       "    .dataframe thead th {\n",
       "        text-align: right;\n",
       "    }\n",
       "</style>\n",
       "<table border=\"1\" class=\"dataframe\">\n",
       "  <thead>\n",
       "    <tr style=\"text-align: right;\">\n",
       "      <th></th>\n",
       "      <th>subtotal</th>\n",
       "    </tr>\n",
       "    <tr>\n",
       "      <th>Ano</th>\n",
       "      <th></th>\n",
       "    </tr>\n",
       "  </thead>\n",
       "  <tbody>\n",
       "    <tr>\n",
       "      <th>2017</th>\n",
       "      <td>6648222.05</td>\n",
       "    </tr>\n",
       "    <tr>\n",
       "      <th>2018</th>\n",
       "      <td>10214809.43</td>\n",
       "    </tr>\n",
       "    <tr>\n",
       "      <th>2019</th>\n",
       "      <td>1046201.01</td>\n",
       "    </tr>\n",
       "  </tbody>\n",
       "</table>\n",
       "</div>"
      ],
      "text/plain": [
       "         subtotal\n",
       "Ano              \n",
       "2017   6648222.05\n",
       "2018  10214809.43\n",
       "2019   1046201.01"
      ]
     },
     "execution_count": 37,
     "metadata": {},
     "output_type": "execute_result"
    }
   ],
   "source": [
    "# MESCLANDO AS TABELAS VENDAS E DATAS COM O pd.merge\n",
    "\n",
    "df_result = pd.merge(\n",
    "                        dfvendas[['DataEmissao','QtdItens','ValorUnitario']],\n",
    "                        dfDatas[['Data','Ano']],\n",
    "                        left_on='DataEmissao',\n",
    "                        right_on='Data'\n",
    "                    )\n",
    "\n",
    "# ADICIONAR A COLUNA SUBTOTAL AO DATAFRAME\n",
    "df_result['subtotal'] = df_result['QtdItens'] * df_result['ValorUnitario']\n",
    "\n",
    "# AGRUPAR OS DADOS POR ANO\n",
    "df_result[['Ano','subtotal']].groupby('Ano').sum()"
   ]
  }
 ],
 "metadata": {
  "kernelspec": {
   "display_name": "Python 3",
   "language": "python",
   "name": "python3"
  },
  "language_info": {
   "codemirror_mode": {
    "name": "ipython",
    "version": 3
   },
   "file_extension": ".py",
   "mimetype": "text/x-python",
   "name": "python",
   "nbconvert_exporter": "python",
   "pygments_lexer": "ipython3",
   "version": "3.11.0"
  }
 },
 "nbformat": 4,
 "nbformat_minor": 2
}
