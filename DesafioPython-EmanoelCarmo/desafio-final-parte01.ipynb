{
 "cells": [
  {
   "cell_type": "markdown",
   "metadata": {},
   "source": [
    "#### Importar bibliotecas"
   ]
  },
  {
   "cell_type": "code",
   "execution_count": 3,
   "metadata": {},
   "outputs": [],
   "source": [
    "import pandas as pd\n",
    "import os\n",
    "import matplotlib.pyplot as plt\n",
    "import seaborn as sns"
   ]
  },
  {
   "cell_type": "markdown",
   "metadata": {},
   "source": [
    "#### Carregando arquivos de vendas"
   ]
  },
  {
   "cell_type": "code",
   "execution_count": 8,
   "metadata": {},
   "outputs": [],
   "source": [
    "# PASTA QUE CONTÉM TODOS OS ARQUIVOS\n",
    "caminhoDaPasta = './arquivos/vendas/'\n",
    "# AGRUPAR TODOS OS DOCUMENTOS EM UM ÚNICO DATAFRAME\n",
    "diretorios = []\n",
    "#os.listdir(caminhoDaPasta)\n",
    "for file in os.listdir(caminhoDaPasta):\n",
    "    fullPath = caminhoDaPasta + file\n",
    "    diretorios.append(fullPath)\n"
   ]
  },
  {
   "cell_type": "code",
   "execution_count": 11,
   "metadata": {},
   "outputs": [],
   "source": [
    "# CRIAR UM DATAFRAME VAZIO\n",
    "dfvendas = pd.DataFrame()\n",
    "\n",
    "# LOOP PARA ABRIR E AGRUPOR OS DOCUMENTOS E COMBINÁ-LOS (+/- UNION DO SQL)\n",
    "for path in diretorios:\n",
    "    df = pd.read_excel(path)\n",
    "    dfvendas = pd.concat([dfvendas,df])\n",
    "\n",
    "# GERAR UM ARQUIVO CSV COM OS DADOS CONSOLIDADOS\n",
    "dfvendas.to_csv(caminhoDaPasta + 'arquivoCombinado.csv')\n"
   ]
  }
 ],
 "metadata": {
  "kernelspec": {
   "display_name": "Python 3",
   "language": "python",
   "name": "python3"
  },
  "language_info": {
   "codemirror_mode": {
    "name": "ipython",
    "version": 3
   },
   "file_extension": ".py",
   "mimetype": "text/x-python",
   "name": "python",
   "nbconvert_exporter": "python",
   "pygments_lexer": "ipython3",
   "version": "3.11.0"
  }
 },
 "nbformat": 4,
 "nbformat_minor": 2
}
